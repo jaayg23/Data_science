{
 "cells": [
  {
   "cell_type": "code",
   "execution_count": 1,
   "metadata": {},
   "outputs": [
    {
     "name": "stdout",
     "output_type": "stream",
     "text": [
      "/media/paulati/Nuevo vol/paula/dh/2021/dsad_2021/common\n",
      "default checking\n",
      "Running command `conda list`... ok\n",
      "jupyterlab=2.2.6 already installed\n",
      "pandas=1.1.5 already installed\n",
      "bokeh=2.2.3 already installed\n",
      "seaborn=0.11.0 already installed\n",
      "matplotlib=3.3.2 already installed\n",
      "ipywidgets=7.5.1 already installed\n",
      "pytest=6.2.1 already installed\n",
      "chardet=4.0.0 already installed\n",
      "psutil=5.7.2 already installed\n",
      "scipy=1.5.2 already installed\n",
      "statsmodels=0.12.1 already installed\n",
      "scikit-learn=0.23.2 already installed\n",
      "xlrd=2.0.1 already installed\n",
      "Running command `conda install --yes nltk=3.5.0`... ok\n",
      "Collecting package metadata (current_repodata.json): ...working... done\n",
      "Solving environment: ...working... done\n",
      "\n",
      "# All requested packages already installed.\n",
      "\n",
      "\n",
      "unidecode=1.1.1 already installed\n",
      "pydotplus=2.0.2 already installed\n",
      "pandas-datareader=0.9.0 already installed\n",
      "flask=1.1.2 already installed\n"
     ]
    }
   ],
   "source": [
    "# initial setup\n",
    "%run \"../../../common/0_notebooks_base_setup.py\"\n"
   ]
  },
  {
   "attachments": {},
   "cell_type": "markdown",
   "metadata": {},
   "source": [
    "---\n",
    "\n",
    "<img src='../../../common/logo_DH.png' align='left' width=35%/>\n"
   ]
  },
  {
   "attachments": {},
   "cell_type": "markdown",
   "metadata": {},
   "source": [
    "# Funciones Lambda. Apply. Applymap.\n"
   ]
  },
  {
   "attachments": {},
   "cell_type": "markdown",
   "metadata": {},
   "source": [
    "<a id=\"section_toc\"></a> \n",
    "## Tabla de Contenidos\n",
    "\n",
    "[Funciones Lambda](#section_intro)\n",
    "\n",
    "$\\hspace{.5cm}$[Sintaxis](#section_sintaxis)\n",
    "\n",
    "[Métodos apply applymap map](#section_apply)\n"
   ]
  },
  {
   "attachments": {},
   "cell_type": "markdown",
   "metadata": {},
   "source": [
    "<a id=\"section_lambda\"></a> \n",
    "## Funciones Lambda\n",
    "\n",
    "\n",
    "[volver a TOC](#section_toc)\n"
   ]
  },
  {
   "attachments": {},
   "cell_type": "markdown",
   "metadata": {},
   "source": [
    "Las funciones lambda también se denominan funciones anónimas. Una función anónima es una función definida sin un nombre. Como sabemos, para definir una función normal en Python, usamos la palabra clave `def`. Pero en el caso de funciones anónimas, usamos la palabra clave `lambda` para definirlas.\n",
    "\n",
    "Las funciones lambda son especialmente útiles en análisis de datos porque, como veremos, hay muchos casos donde las funciones de transformación de datos tomarán **funciones como argumentos**. En general, es más claro pasar una función lambda en lugar de escribir una declaración de función completa, o de asignar una expresión lambda a una variable local."
   ]
  },
  {
   "attachments": {},
   "cell_type": "markdown",
   "metadata": {},
   "source": [
    "<a id=\"section_sintaxis\"></a> \n",
    "### Sintaxis\n",
    "\n",
    "\n",
    "[volver a TOC](#section_toc)\n",
    "\n",
    "\n",
    "`lambda arguments: expression`\n",
    "\n",
    "Ejemplos:\n",
    "\n",
    "1) Definimos una función lambda y la asignamos a la variable add. En la siguiente linea la ejecutamos e imprimimos el resultado."
   ]
  },
  {
   "cell_type": "code",
   "execution_count": 2,
   "metadata": {},
   "outputs": [
    {
     "name": "stdout",
     "output_type": "stream",
     "text": [
      "40\n"
     ]
    }
   ],
   "source": [
    "add = lambda a: a + a\n",
    "print(add(20))"
   ]
  },
  {
   "attachments": {},
   "cell_type": "markdown",
   "metadata": {},
   "source": [
    "2) Definimos otra función lambda y la guardamos en la variable add, la ejecutamos e imprimimos el resultado."
   ]
  },
  {
   "cell_type": "code",
   "execution_count": 3,
   "metadata": {},
   "outputs": [
    {
     "name": "stdout",
     "output_type": "stream",
     "text": [
      "33\n"
     ]
    }
   ],
   "source": [
    "add = lambda a, b, c: a + b + c\n",
    "print(add(10, 11, 12))"
   ]
  },
  {
   "attachments": {},
   "cell_type": "markdown",
   "metadata": {},
   "source": [
    "3) Rescribimos como función lambda la función `short_function`"
   ]
  },
  {
   "cell_type": "code",
   "execution_count": 4,
   "metadata": {},
   "outputs": [],
   "source": [
    "def short_function(x):\n",
    "    return x * 2\n",
    "\n",
    "equiv_anon = lambda x: x * 2"
   ]
  },
  {
   "attachments": {},
   "cell_type": "markdown",
   "metadata": {},
   "source": [
    "<div id=\"caja1\" style=\"float:left;width: 100%;\">\n",
    "  <div style=\"float:left;width: 15%;\"><img src=\"../../../common/icons/haciendo_foco.png\" style=\"align:left\"/> </div>\n",
    "  <div style=\"float:left;width: 85%;\"><label>\n",
    "En cada unos de los ejemplos de funciones lambda:<br/>\n",
    "¿Cuáles son los argumentos?\n",
    "<br/>\n",
    "¿Cuál es la expresión?\n",
    "</label></div>\n",
    "</div>\n",
    "\n"
   ]
  },
  {
   "attachments": {},
   "cell_type": "markdown",
   "metadata": {},
   "source": [
    "Los argumentos son los que acompañanan a lambda y la expresion es que la va despues de los dos puntos"
   ]
  },
  {
   "attachments": {},
   "cell_type": "markdown",
   "metadata": {},
   "source": [
    "---\n",
    "\n",
    "<a id=\"section_apply\"></a> \n",
    "##  apply, applymap, map\n",
    "\n",
    "[volver a TOC](#section_toc)\n",
    "\n",
    "\n",
    "Pandas cuenta con un conjunto de métodos que permiten operar eficientemente sobre los elementos de un objeto DataFrame o Series.\n",
    "Para aplicar la lógica deseada, podemos optar tanto por definir funciones con nombre como por utilizar expresiones lambda que luego no pueden reutilizarse.\n",
    "    \n",
    "1)  pd.DataFrame.apply: Opera sobre filas o columnas completas de una instancia de DataFrame\n",
    "\n",
    "https://pandas.pydata.org/pandas-docs/stable/reference/api/pandas.DataFrame.apply.html\n",
    "    \n",
    "2)  pd.DataFrame.applymap: Opera sobre cada uno de los elementos de una instancia de DataFrame\n",
    "\n",
    "https://pandas.pydata.org/pandas-docs/stable/reference/api/pandas.DataFrame.applymap.html\n",
    "    \n",
    "3)  pd.Series.apply: Opera sobre cada uno de los elementos de la instancia de Series. \n",
    "    \n",
    "https://pandas.pydata.org/pandas-docs/stable/reference/api/pandas.Series.apply.html\n",
    "    \n",
    "4)  pd.Series.map: Opera sobre cada uno de los elementos de la instancia de Series, muy similar a Series.apply. \n",
    "    \n",
    "https://pandas.pydata.org/pandas-docs/stable/reference/api/pandas.Series.map.html\n",
    "\n",
    "La diferencia entre pd.Series.map y pd.Series.apply es que la segunda puede generar un Dataframe a partir de la serie, mientras que la primera si recibiera una serie como return de la función crearía una serie de series.\n",
    "\n",
    "El método apply de pandas permite realizar operaciones vectorizadas sobre los objetos DataFrame tanto fila por fila como columna por columna."
   ]
  },
  {
   "attachments": {},
   "cell_type": "markdown",
   "metadata": {},
   "source": [
    "Vamos a ver ahora algunos ejemplos de uso sobre el dataset de propiedades de Melbourne, que usamos en la práctica de Limpieza de Datos"
   ]
  },
  {
   "cell_type": "code",
   "execution_count": 1,
   "metadata": {},
   "outputs": [
    {
     "data": {
      "text/html": [
       "<div>\n",
       "<style scoped>\n",
       "    .dataframe tbody tr th:only-of-type {\n",
       "        vertical-align: middle;\n",
       "    }\n",
       "\n",
       "    .dataframe tbody tr th {\n",
       "        vertical-align: top;\n",
       "    }\n",
       "\n",
       "    .dataframe thead th {\n",
       "        text-align: right;\n",
       "    }\n",
       "</style>\n",
       "<table border=\"1\" class=\"dataframe\">\n",
       "  <thead>\n",
       "    <tr style=\"text-align: right;\">\n",
       "      <th></th>\n",
       "      <th>Suburb</th>\n",
       "      <th>Address</th>\n",
       "      <th>Rooms</th>\n",
       "      <th>Type</th>\n",
       "      <th>Price</th>\n",
       "      <th>Method</th>\n",
       "      <th>SellerG</th>\n",
       "      <th>Date</th>\n",
       "      <th>Distance</th>\n",
       "      <th>Postcode</th>\n",
       "      <th>...</th>\n",
       "      <th>Bathroom</th>\n",
       "      <th>Car</th>\n",
       "      <th>Landsize</th>\n",
       "      <th>BuildingArea</th>\n",
       "      <th>YearBuilt</th>\n",
       "      <th>CouncilArea</th>\n",
       "      <th>Lattitude</th>\n",
       "      <th>Longtitude</th>\n",
       "      <th>Regionname</th>\n",
       "      <th>Propertycount</th>\n",
       "    </tr>\n",
       "  </thead>\n",
       "  <tbody>\n",
       "    <tr>\n",
       "      <th>0</th>\n",
       "      <td>Abbotsford</td>\n",
       "      <td>85 Turner St</td>\n",
       "      <td>2</td>\n",
       "      <td>h</td>\n",
       "      <td>1480000.0</td>\n",
       "      <td>S</td>\n",
       "      <td>Biggin</td>\n",
       "      <td>3/12/2016</td>\n",
       "      <td>2.5</td>\n",
       "      <td>3067.0</td>\n",
       "      <td>...</td>\n",
       "      <td>1.0</td>\n",
       "      <td>1.0</td>\n",
       "      <td>202.0</td>\n",
       "      <td>NaN</td>\n",
       "      <td>NaN</td>\n",
       "      <td>Yarra</td>\n",
       "      <td>-37.7996</td>\n",
       "      <td>144.9984</td>\n",
       "      <td>Northern Metropolitan</td>\n",
       "      <td>4019.0</td>\n",
       "    </tr>\n",
       "    <tr>\n",
       "      <th>1</th>\n",
       "      <td>Abbotsford</td>\n",
       "      <td>25 Bloomburg St</td>\n",
       "      <td>2</td>\n",
       "      <td>h</td>\n",
       "      <td>1035000.0</td>\n",
       "      <td>S</td>\n",
       "      <td>Biggin</td>\n",
       "      <td>4/02/2016</td>\n",
       "      <td>2.5</td>\n",
       "      <td>3067.0</td>\n",
       "      <td>...</td>\n",
       "      <td>1.0</td>\n",
       "      <td>0.0</td>\n",
       "      <td>156.0</td>\n",
       "      <td>79.0</td>\n",
       "      <td>1900.0</td>\n",
       "      <td>Yarra</td>\n",
       "      <td>-37.8079</td>\n",
       "      <td>144.9934</td>\n",
       "      <td>Northern Metropolitan</td>\n",
       "      <td>4019.0</td>\n",
       "    </tr>\n",
       "    <tr>\n",
       "      <th>2</th>\n",
       "      <td>Abbotsford</td>\n",
       "      <td>5 Charles St</td>\n",
       "      <td>3</td>\n",
       "      <td>h</td>\n",
       "      <td>1465000.0</td>\n",
       "      <td>SP</td>\n",
       "      <td>Biggin</td>\n",
       "      <td>4/03/2017</td>\n",
       "      <td>2.5</td>\n",
       "      <td>3067.0</td>\n",
       "      <td>...</td>\n",
       "      <td>2.0</td>\n",
       "      <td>0.0</td>\n",
       "      <td>134.0</td>\n",
       "      <td>150.0</td>\n",
       "      <td>1900.0</td>\n",
       "      <td>Yarra</td>\n",
       "      <td>-37.8093</td>\n",
       "      <td>144.9944</td>\n",
       "      <td>Northern Metropolitan</td>\n",
       "      <td>4019.0</td>\n",
       "    </tr>\n",
       "  </tbody>\n",
       "</table>\n",
       "<p>3 rows × 21 columns</p>\n",
       "</div>"
      ],
      "text/plain": [
       "       Suburb          Address  Rooms Type      Price Method SellerG  \\\n",
       "0  Abbotsford     85 Turner St      2    h  1480000.0      S  Biggin   \n",
       "1  Abbotsford  25 Bloomburg St      2    h  1035000.0      S  Biggin   \n",
       "2  Abbotsford     5 Charles St      3    h  1465000.0     SP  Biggin   \n",
       "\n",
       "        Date  Distance  Postcode  ...  Bathroom  Car  Landsize  BuildingArea  \\\n",
       "0  3/12/2016       2.5    3067.0  ...       1.0  1.0     202.0           NaN   \n",
       "1  4/02/2016       2.5    3067.0  ...       1.0  0.0     156.0          79.0   \n",
       "2  4/03/2017       2.5    3067.0  ...       2.0  0.0     134.0         150.0   \n",
       "\n",
       "   YearBuilt  CouncilArea Lattitude  Longtitude             Regionname  \\\n",
       "0        NaN        Yarra  -37.7996    144.9984  Northern Metropolitan   \n",
       "1     1900.0        Yarra  -37.8079    144.9934  Northern Metropolitan   \n",
       "2     1900.0        Yarra  -37.8093    144.9944  Northern Metropolitan   \n",
       "\n",
       "  Propertycount  \n",
       "0        4019.0  \n",
       "1        4019.0  \n",
       "2        4019.0  \n",
       "\n",
       "[3 rows x 21 columns]"
      ]
     },
     "execution_count": 1,
     "metadata": {},
     "output_type": "execute_result"
    }
   ],
   "source": [
    "import pandas as pd\n",
    "\n",
    "# local\n",
    "data_location = \"../Data/melb_data.csv\"\n",
    "# colab\n",
    "# data_location = \"\"\n",
    "\n",
    "data = pd.read_csv(data_location)\n",
    "\n",
    "data.head(3)\n"
   ]
  },
  {
   "attachments": {},
   "cell_type": "markdown",
   "metadata": {},
   "source": [
    "## Apply sobre filas de un objeto DataFrame\n",
    "\n",
    "Vamos a calcular el precio por metro cuadrado de cada uno de los registros del dataset.\n",
    "\n",
    "Para eso, vamos a dividir el valor del campo Price por el valor del campo Landsize para cada registro.\n",
    "\n",
    "Escribimos esa cuenta como una función Lambda, que pasaremos como primer argumento de apply.\n",
    "\n",
    "En la documentación, para el argumento axis vemos:\n",
    "\n",
    "    0 or ‘index’: apply function to each column.\n",
    "\n",
    "    1 or ‘columns’: apply function to each row.\n",
    "\n",
    "Por lo tanto, en el segundo argumento el valor de de axis es 1 porque queremos aplicar la función a cada fila.\n",
    "\n",
    "Como tenemos que hacer una división, debemos verificar que el denominador no sea cero. Para eso vamos a escribir una expresión condicional en una linea con esta sintaxis:\n",
    "\n",
    "`value_when_true if condition else value_when_false`\n",
    "\n",
    "En este caso:\n",
    "\n",
    "`0 if x['Landsize'] == 0 else x['Price'] / x['Landsize']`\n"
   ]
  },
  {
   "cell_type": "code",
   "execution_count": 6,
   "metadata": {},
   "outputs": [
    {
     "name": "stdout",
     "output_type": "stream",
     "text": [
      "<class 'pandas.core.series.Series'>\n",
      "Cantidad de elementos en precio_m2: 13580\n",
      "Cantidad de filas en data: 13580\n",
      "0     7326.732673\n",
      "1     6634.615385\n",
      "2    10932.835821\n",
      "dtype: float64\n"
     ]
    }
   ],
   "source": [
    "precio_m2 = data.apply(lambda x: 0 if x['Landsize'] == 0 else x['Price'] / x['Landsize'], axis=1)\n",
    "print(type(precio_m2))\n",
    "print(\"Cantidad de elementos en precio_m2: \" + str(len(precio_m2)))\n",
    "print(\"Cantidad de filas en data: \" + str(data.shape[0]))\n",
    "print(precio_m2.head(3))"
   ]
  },
  {
   "attachments": {},
   "cell_type": "markdown",
   "metadata": {},
   "source": [
    "Vemos que precio_m2 es una instancia de Series y que tiene la misma cantidad de elementos que la cantidad de filas en data"
   ]
  },
  {
   "attachments": {},
   "cell_type": "markdown",
   "metadata": {},
   "source": [
    "## Apply sobre columnas de un objeto DataFrame\n",
    "\n",
    "Ahora vamos a calcular el promedio de cada una de las columnas con valores numéricos.\n",
    "\n",
    "Para determinar si una columna es de tipo numérico vamos a usar `np.issubdtype(..., np.number)` que devuelve True si col_type hereda de np.number, y False si no. Y vamos a armar una lista por comprensión con los nombres de las columnas de tipo numérico:\n",
    "\n",
    "`numeric_columns_mask = [np.issubdtype(data[col].dtypes, np.number) for col in data.columns]\n",
    "numeric_columns_names = data.columns[numeric_columns_mask]`\n",
    "\n",
    "\n",
    "Para eso definiremos una función lambda que aplique `mean` sobre cada columna cuyo nombre esté en la lista que construimos en el paso anterior.\n",
    "\n",
    "Como queremos aplicar esta función sobre cada una de las columnas del DataFrame, el valor de axis que usamos es 0.\n"
   ]
  },
  {
   "cell_type": "code",
   "execution_count": 7,
   "metadata": {},
   "outputs": [
    {
     "name": "stdout",
     "output_type": "stream",
     "text": [
      "Index(['Rooms', 'Price', 'Distance', 'Postcode', 'Bedroom2', 'Bathroom', 'Car',\n",
      "       'Landsize', 'BuildingArea', 'YearBuilt', 'Lattitude', 'Longtitude',\n",
      "       'Propertycount'],\n",
      "      dtype='object')\n",
      "Suburb                    NaN\n",
      "Address                   NaN\n",
      "Rooms            2.937997e+00\n",
      "Type                      NaN\n",
      "Price            1.075684e+06\n",
      "Method                    NaN\n",
      "SellerG                   NaN\n",
      "Date                      NaN\n",
      "Distance         1.013778e+01\n",
      "Postcode         3.105302e+03\n",
      "Bedroom2         2.914728e+00\n",
      "Bathroom         1.534242e+00\n",
      "Car              1.610075e+00\n",
      "Landsize         5.584161e+02\n",
      "BuildingArea     1.519676e+02\n",
      "YearBuilt        1.964684e+03\n",
      "CouncilArea               NaN\n",
      "Lattitude       -3.780920e+01\n",
      "Longtitude       1.449952e+02\n",
      "Regionname                NaN\n",
      "Propertycount    7.454417e+03\n",
      "dtype: float64\n",
      "<class 'pandas.core.series.Series'>\n",
      "True\n"
     ]
    }
   ],
   "source": [
    "import numpy as np\n",
    "\n",
    "numeric_columns_mask = [np.issubdtype(data[col].dtypes, np.number) for col in data.columns]\n",
    "numeric_columns_names = data.columns[numeric_columns_mask]\n",
    "print(numeric_columns_names)\n",
    "\n",
    "means = data.apply(lambda x: x.mean() if x.name in numeric_columns_names else np.NaN, axis=0)\n",
    "print(means)\n",
    "print(type(means))\n",
    "print(len(means) == data.shape[1])"
   ]
  },
  {
   "attachments": {},
   "cell_type": "markdown",
   "metadata": {},
   "source": [
    "Vemos que `means` es una instancia de Series y que tiene la misma cantidad de elementos que la cantidad de columnas en data"
   ]
  },
  {
   "attachments": {},
   "cell_type": "markdown",
   "metadata": {},
   "source": [
    "## Applymap sobre un objeto DataFrame\n",
    "\n",
    "Vamos a escribir ahora todos los valores de los elementos del DataFrame en minúscula.\n",
    "\n",
    "Si es el valor es numérico, no lo cambiamos.\n"
   ]
  },
  {
   "cell_type": "code",
   "execution_count": 8,
   "metadata": {},
   "outputs": [
    {
     "name": "stdout",
     "output_type": "stream",
     "text": [
      "Suburb           True\n",
      "Address          True\n",
      "Rooms            True\n",
      "Type             True\n",
      "Price            True\n",
      "Method           True\n",
      "SellerG          True\n",
      "Date             True\n",
      "Distance         True\n",
      "Postcode         True\n",
      "Bedroom2         True\n",
      "Bathroom         True\n",
      "Car              True\n",
      "Landsize         True\n",
      "BuildingArea     True\n",
      "YearBuilt        True\n",
      "CouncilArea      True\n",
      "Lattitude        True\n",
      "Longtitude       True\n",
      "Regionname       True\n",
      "Propertycount    True\n",
      "dtype: bool\n",
      "       Suburb          Address  Rooms Type      Price Method SellerG  \\\n",
      "0  abbotsford     85 turner st      2    h  1480000.0      s  biggin   \n",
      "1  abbotsford  25 bloomburg st      2    h  1035000.0      s  biggin   \n",
      "2  abbotsford     5 charles st      3    h  1465000.0     sp  biggin   \n",
      "\n",
      "        Date  Distance  Postcode  ...  Bathroom  Car  Landsize  BuildingArea  \\\n",
      "0  3/12/2016       2.5    3067.0  ...       1.0  1.0     202.0           NaN   \n",
      "1  4/02/2016       2.5    3067.0  ...       1.0  0.0     156.0          79.0   \n",
      "2  4/03/2017       2.5    3067.0  ...       2.0  0.0     134.0         150.0   \n",
      "\n",
      "   YearBuilt  CouncilArea Lattitude  Longtitude             Regionname  \\\n",
      "0        NaN        yarra  -37.7996    144.9984  northern metropolitan   \n",
      "1     1900.0        yarra  -37.8079    144.9934  northern metropolitan   \n",
      "2     1900.0        yarra  -37.8093    144.9944  northern metropolitan   \n",
      "\n",
      "  Propertycount  \n",
      "0        4019.0  \n",
      "1        4019.0  \n",
      "2        4019.0  \n",
      "\n",
      "[3 rows x 21 columns]\n"
     ]
    }
   ],
   "source": [
    "data_lower = data.applymap(lambda x: x if np.isreal(x) else str(x).lower())\n",
    "# comparo los tipos de datos antes y después de pasar a minúsculas:\n",
    "print(data_lower.dtypes == data.dtypes)\n",
    "print(data_lower.head(3))"
   ]
  },
  {
   "attachments": {},
   "cell_type": "markdown",
   "metadata": {},
   "source": [
    "Vemos que los tipos de datos de las columnas del DataFrame no se modificaron, y que todas las cadenas de caracteres quedaron en minúscula."
   ]
  },
  {
   "attachments": {},
   "cell_type": "markdown",
   "metadata": {},
   "source": [
    "## Apply sobre un objeto Series\n",
    "\n",
    "\n",
    "Construimos una instancia de Series con los valores de la columna Price.\n",
    "\n",
    "Vamos a aplicar un descuento del 10% en el precio, multiplicando cada uno de los valores de este objeto Series por 0.9"
   ]
  },
  {
   "cell_type": "code",
   "execution_count": 9,
   "metadata": {},
   "outputs": [
    {
     "name": "stdout",
     "output_type": "stream",
     "text": [
      "<class 'pandas.core.series.Series'>\n"
     ]
    },
    {
     "data": {
      "text/plain": [
       "0        1332000.0\n",
       "1         931500.0\n",
       "2        1318500.0\n",
       "3         765000.0\n",
       "4        1440000.0\n",
       "           ...    \n",
       "13575    1120500.0\n",
       "13576     927900.0\n",
       "13577    1053000.0\n",
       "13578    2250000.0\n",
       "13579    1156500.0\n",
       "Name: Price, Length: 13580, dtype: float64"
      ]
     },
     "execution_count": 9,
     "metadata": {},
     "output_type": "execute_result"
    }
   ],
   "source": [
    "price_serie = data.Price\n",
    "print(type(price_serie))\n",
    "\n",
    "price_discount = price_serie.apply(lambda x: x * 0.9)\n",
    "price_discount"
   ]
  },
  {
   "attachments": {},
   "cell_type": "markdown",
   "metadata": {},
   "source": [
    "## Map sobre un objeto Series\n",
    "\n",
    "Repetimos el ejemplo anterior con map."
   ]
  },
  {
   "cell_type": "code",
   "execution_count": 10,
   "metadata": {},
   "outputs": [
    {
     "name": "stdout",
     "output_type": "stream",
     "text": [
      "<class 'pandas.core.series.Series'>\n"
     ]
    },
    {
     "data": {
      "text/plain": [
       "0        1332000.0\n",
       "1         931500.0\n",
       "2        1318500.0\n",
       "3         765000.0\n",
       "4        1440000.0\n",
       "           ...    \n",
       "13575    1120500.0\n",
       "13576     927900.0\n",
       "13577    1053000.0\n",
       "13578    2250000.0\n",
       "13579    1156500.0\n",
       "Name: Price, Length: 13580, dtype: float64"
      ]
     },
     "execution_count": 10,
     "metadata": {},
     "output_type": "execute_result"
    }
   ],
   "source": [
    "price_serie = data.Price\n",
    "print(type(price_serie))\n",
    "\n",
    "price_discount = price_serie.map(lambda x: x * 0.9)\n",
    "price_discount"
   ]
  },
  {
   "attachments": {},
   "cell_type": "markdown",
   "metadata": {},
   "source": [
    "## Usando apply con funciones no anónimas\n",
    "\n",
    "En todos los casos anteriores usamos funciones anónimas porque se ejecutan de modo más eficiente que las definidas con `def`. Sin embargo, la sintaxis de apply, applymap y map es la misma cualquiera sea la forma de difinir la función (`lambda` o `def`).\n",
    "\n",
    "Como ejemplo, vamos a rescribir el ejercicio en el que calculamos el promedio de cada una de las columnas de data con valores numéricos, pero con una función definida con \"def\" (no anónima)."
   ]
  },
  {
   "cell_type": "code",
   "execution_count": 11,
   "metadata": {},
   "outputs": [
    {
     "name": "stdout",
     "output_type": "stream",
     "text": [
      "Suburb                    NaN\n",
      "Address                   NaN\n",
      "Rooms            2.937997e+00\n",
      "Type                      NaN\n",
      "Price            1.075684e+06\n",
      "Method                    NaN\n",
      "SellerG                   NaN\n",
      "Date                      NaN\n",
      "Distance         1.013778e+01\n",
      "Postcode         3.105302e+03\n",
      "Bedroom2         2.914728e+00\n",
      "Bathroom         1.534242e+00\n",
      "Car              1.610075e+00\n",
      "Landsize         5.584161e+02\n",
      "BuildingArea     1.519676e+02\n",
      "YearBuilt        1.964684e+03\n",
      "CouncilArea               NaN\n",
      "Lattitude       -3.780920e+01\n",
      "Longtitude       1.449952e+02\n",
      "Regionname                NaN\n",
      "Propertycount    7.454417e+03\n",
      "dtype: float64\n",
      "<class 'pandas.core.series.Series'>\n",
      "True\n"
     ]
    }
   ],
   "source": [
    "def promedio_numerica(columna):    \n",
    "    columna_numeric = pd.to_numeric(columna, errors='coerce') \n",
    "    # si no puede convertirlo va a asignar NaN a todos los elementos de la columna\n",
    "    result = columna_numeric.mean()\n",
    "    return result\n",
    "\n",
    "means = data.apply(promedio_numerica, axis=0)\n",
    "print(means)\n",
    "print(type(means))\n",
    "print(len(means) == data.shape[1])"
   ]
  },
  {
   "attachments": {},
   "cell_type": "markdown",
   "metadata": {},
   "source": [
    "**Observación:**\n",
    "\n",
    "Es importante destacar que los métodos que vimos en esta práctica, apply applymap y map, son vectorizados y por lo tanto se ejecutan de forma muy eficiente. Por eso siempre vamos a preferirlos en reemplazo de los ciclos for o while."
   ]
  },
  {
   "attachments": {},
   "cell_type": "markdown",
   "metadata": {},
   "source": [
    "---\n",
    "\n",
    "## Ejercicio\n",
    "\n",
    "Construyamos una columna nueva (de nombre postcode_suburb) en el DataFrame data, que sea la concatenación del campo Postcode, seguido de \"-\", seguido del valor del campo Suburb.\n",
    "\n",
    "Para esto usemos apply sobre data, y una función lambda.\n",
    "\n"
   ]
  },
  {
   "cell_type": "code",
   "execution_count": 3,
   "metadata": {},
   "outputs": [],
   "source": [
    "data['postcode_suburb'] = data.apply(lambda x: f'{x[\"Postcode\"]}-{x[\"Suburb\"]}', axis=1)"
   ]
  },
  {
   "cell_type": "code",
   "execution_count": 4,
   "metadata": {},
   "outputs": [
    {
     "data": {
      "text/html": [
       "<div>\n",
       "<style scoped>\n",
       "    .dataframe tbody tr th:only-of-type {\n",
       "        vertical-align: middle;\n",
       "    }\n",
       "\n",
       "    .dataframe tbody tr th {\n",
       "        vertical-align: top;\n",
       "    }\n",
       "\n",
       "    .dataframe thead th {\n",
       "        text-align: right;\n",
       "    }\n",
       "</style>\n",
       "<table border=\"1\" class=\"dataframe\">\n",
       "  <thead>\n",
       "    <tr style=\"text-align: right;\">\n",
       "      <th></th>\n",
       "      <th>Suburb</th>\n",
       "      <th>Address</th>\n",
       "      <th>Rooms</th>\n",
       "      <th>Type</th>\n",
       "      <th>Price</th>\n",
       "      <th>Method</th>\n",
       "      <th>SellerG</th>\n",
       "      <th>Date</th>\n",
       "      <th>Distance</th>\n",
       "      <th>Postcode</th>\n",
       "      <th>...</th>\n",
       "      <th>Car</th>\n",
       "      <th>Landsize</th>\n",
       "      <th>BuildingArea</th>\n",
       "      <th>YearBuilt</th>\n",
       "      <th>CouncilArea</th>\n",
       "      <th>Lattitude</th>\n",
       "      <th>Longtitude</th>\n",
       "      <th>Regionname</th>\n",
       "      <th>Propertycount</th>\n",
       "      <th>postcode_suburb</th>\n",
       "    </tr>\n",
       "  </thead>\n",
       "  <tbody>\n",
       "    <tr>\n",
       "      <th>0</th>\n",
       "      <td>Abbotsford</td>\n",
       "      <td>85 Turner St</td>\n",
       "      <td>2</td>\n",
       "      <td>h</td>\n",
       "      <td>1480000.0</td>\n",
       "      <td>S</td>\n",
       "      <td>Biggin</td>\n",
       "      <td>3/12/2016</td>\n",
       "      <td>2.5</td>\n",
       "      <td>3067.0</td>\n",
       "      <td>...</td>\n",
       "      <td>1.0</td>\n",
       "      <td>202.0</td>\n",
       "      <td>NaN</td>\n",
       "      <td>NaN</td>\n",
       "      <td>Yarra</td>\n",
       "      <td>-37.7996</td>\n",
       "      <td>144.9984</td>\n",
       "      <td>Northern Metropolitan</td>\n",
       "      <td>4019.0</td>\n",
       "      <td>3067.0-Abbotsford</td>\n",
       "    </tr>\n",
       "    <tr>\n",
       "      <th>1</th>\n",
       "      <td>Abbotsford</td>\n",
       "      <td>25 Bloomburg St</td>\n",
       "      <td>2</td>\n",
       "      <td>h</td>\n",
       "      <td>1035000.0</td>\n",
       "      <td>S</td>\n",
       "      <td>Biggin</td>\n",
       "      <td>4/02/2016</td>\n",
       "      <td>2.5</td>\n",
       "      <td>3067.0</td>\n",
       "      <td>...</td>\n",
       "      <td>0.0</td>\n",
       "      <td>156.0</td>\n",
       "      <td>79.0</td>\n",
       "      <td>1900.0</td>\n",
       "      <td>Yarra</td>\n",
       "      <td>-37.8079</td>\n",
       "      <td>144.9934</td>\n",
       "      <td>Northern Metropolitan</td>\n",
       "      <td>4019.0</td>\n",
       "      <td>3067.0-Abbotsford</td>\n",
       "    </tr>\n",
       "    <tr>\n",
       "      <th>2</th>\n",
       "      <td>Abbotsford</td>\n",
       "      <td>5 Charles St</td>\n",
       "      <td>3</td>\n",
       "      <td>h</td>\n",
       "      <td>1465000.0</td>\n",
       "      <td>SP</td>\n",
       "      <td>Biggin</td>\n",
       "      <td>4/03/2017</td>\n",
       "      <td>2.5</td>\n",
       "      <td>3067.0</td>\n",
       "      <td>...</td>\n",
       "      <td>0.0</td>\n",
       "      <td>134.0</td>\n",
       "      <td>150.0</td>\n",
       "      <td>1900.0</td>\n",
       "      <td>Yarra</td>\n",
       "      <td>-37.8093</td>\n",
       "      <td>144.9944</td>\n",
       "      <td>Northern Metropolitan</td>\n",
       "      <td>4019.0</td>\n",
       "      <td>3067.0-Abbotsford</td>\n",
       "    </tr>\n",
       "    <tr>\n",
       "      <th>3</th>\n",
       "      <td>Abbotsford</td>\n",
       "      <td>40 Federation La</td>\n",
       "      <td>3</td>\n",
       "      <td>h</td>\n",
       "      <td>850000.0</td>\n",
       "      <td>PI</td>\n",
       "      <td>Biggin</td>\n",
       "      <td>4/03/2017</td>\n",
       "      <td>2.5</td>\n",
       "      <td>3067.0</td>\n",
       "      <td>...</td>\n",
       "      <td>1.0</td>\n",
       "      <td>94.0</td>\n",
       "      <td>NaN</td>\n",
       "      <td>NaN</td>\n",
       "      <td>Yarra</td>\n",
       "      <td>-37.7969</td>\n",
       "      <td>144.9969</td>\n",
       "      <td>Northern Metropolitan</td>\n",
       "      <td>4019.0</td>\n",
       "      <td>3067.0-Abbotsford</td>\n",
       "    </tr>\n",
       "    <tr>\n",
       "      <th>4</th>\n",
       "      <td>Abbotsford</td>\n",
       "      <td>55a Park St</td>\n",
       "      <td>4</td>\n",
       "      <td>h</td>\n",
       "      <td>1600000.0</td>\n",
       "      <td>VB</td>\n",
       "      <td>Nelson</td>\n",
       "      <td>4/06/2016</td>\n",
       "      <td>2.5</td>\n",
       "      <td>3067.0</td>\n",
       "      <td>...</td>\n",
       "      <td>2.0</td>\n",
       "      <td>120.0</td>\n",
       "      <td>142.0</td>\n",
       "      <td>2014.0</td>\n",
       "      <td>Yarra</td>\n",
       "      <td>-37.8072</td>\n",
       "      <td>144.9941</td>\n",
       "      <td>Northern Metropolitan</td>\n",
       "      <td>4019.0</td>\n",
       "      <td>3067.0-Abbotsford</td>\n",
       "    </tr>\n",
       "  </tbody>\n",
       "</table>\n",
       "<p>5 rows × 22 columns</p>\n",
       "</div>"
      ],
      "text/plain": [
       "       Suburb           Address  Rooms Type      Price Method SellerG  \\\n",
       "0  Abbotsford      85 Turner St      2    h  1480000.0      S  Biggin   \n",
       "1  Abbotsford   25 Bloomburg St      2    h  1035000.0      S  Biggin   \n",
       "2  Abbotsford      5 Charles St      3    h  1465000.0     SP  Biggin   \n",
       "3  Abbotsford  40 Federation La      3    h   850000.0     PI  Biggin   \n",
       "4  Abbotsford       55a Park St      4    h  1600000.0     VB  Nelson   \n",
       "\n",
       "        Date  Distance  Postcode  ...  Car  Landsize  BuildingArea  YearBuilt  \\\n",
       "0  3/12/2016       2.5    3067.0  ...  1.0     202.0           NaN        NaN   \n",
       "1  4/02/2016       2.5    3067.0  ...  0.0     156.0          79.0     1900.0   \n",
       "2  4/03/2017       2.5    3067.0  ...  0.0     134.0         150.0     1900.0   \n",
       "3  4/03/2017       2.5    3067.0  ...  1.0      94.0           NaN        NaN   \n",
       "4  4/06/2016       2.5    3067.0  ...  2.0     120.0         142.0     2014.0   \n",
       "\n",
       "   CouncilArea  Lattitude Longtitude             Regionname  Propertycount  \\\n",
       "0        Yarra   -37.7996   144.9984  Northern Metropolitan         4019.0   \n",
       "1        Yarra   -37.8079   144.9934  Northern Metropolitan         4019.0   \n",
       "2        Yarra   -37.8093   144.9944  Northern Metropolitan         4019.0   \n",
       "3        Yarra   -37.7969   144.9969  Northern Metropolitan         4019.0   \n",
       "4        Yarra   -37.8072   144.9941  Northern Metropolitan         4019.0   \n",
       "\n",
       "     postcode_suburb  \n",
       "0  3067.0-Abbotsford  \n",
       "1  3067.0-Abbotsford  \n",
       "2  3067.0-Abbotsford  \n",
       "3  3067.0-Abbotsford  \n",
       "4  3067.0-Abbotsford  \n",
       "\n",
       "[5 rows x 22 columns]"
      ]
     },
     "execution_count": 4,
     "metadata": {},
     "output_type": "execute_result"
    }
   ],
   "source": [
    "data.head()"
   ]
  }
 ],
 "metadata": {
  "kernelspec": {
   "display_name": "Python 3",
   "language": "python",
   "name": "python3"
  },
  "language_info": {
   "codemirror_mode": {
    "name": "ipython",
    "version": 3
   },
   "file_extension": ".py",
   "mimetype": "text/x-python",
   "name": "python",
   "nbconvert_exporter": "python",
   "pygments_lexer": "ipython3",
   "version": "3.10.9"
  }
 },
 "nbformat": 4,
 "nbformat_minor": 4
}
