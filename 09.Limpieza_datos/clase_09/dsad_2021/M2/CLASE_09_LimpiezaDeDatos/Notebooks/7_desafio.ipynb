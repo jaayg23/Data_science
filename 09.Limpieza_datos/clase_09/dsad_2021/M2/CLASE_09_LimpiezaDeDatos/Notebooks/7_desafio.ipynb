{
 "cells": [
  {
   "cell_type": "code",
   "execution_count": null,
   "metadata": {},
   "outputs": [],
   "source": [
    "# initial setup\n",
    "%run \"../../../common/0_notebooks_base_setup.py\"\n"
   ]
  },
  {
   "attachments": {},
   "cell_type": "markdown",
   "metadata": {},
   "source": [
    "---\n",
    "\n",
    "<img src='../../../common/logo_DH.png' align='left' width=35%/>\n"
   ]
  },
  {
   "attachments": {},
   "cell_type": "markdown",
   "metadata": {},
   "source": [
    "# Limpieza de datos. Apply. Expresiones regulares."
   ]
  },
  {
   "attachments": {},
   "cell_type": "markdown",
   "metadata": {},
   "source": [
    "La limpieza es un paso necesario en todo proyecto de datos. \n",
    "\n",
    "Podemos resumir el proceso de limpieza de datos en las siguientes cinco tareas:\n",
    "\n",
    "**1. Resolver problemas de formato y asignar tipos de datos correctos.**\n",
    "\n",
    "Por ejemplo, cuando al pasar de CSV a Pandas una fecha no se importa correctamente como puede ser el caso de un campo fecha donde se importa 20090609231247 en lugar de 2009-06-09 23:12:47.\n",
    "\n",
    "El formato en que se encuentran los datos determina qué operaciones pueden realizarse sobre ellos.\n",
    "\n",
    "**2. Estandarizar categorías.**\n",
    "\n",
    "Cuando los datos se recolectaron con un sisstema que no tiene valores tipificadaos, valores que representan la misma categoría pueden estar expresados de forma distinta. Por ejemplo: Arg, AR, Argentina\n",
    "\n",
    "**3. Corregir valores erróneos.**\n",
    "\n",
    "Por ejemplo: un valor numérico o inválido para describir el género; o una edad representada por un número negativo o mucho mayor que 100.\n",
    "\n",
    "**4. Completar datos faltantes.**\n",
    "\n",
    "Los datasets del mundo real suelen venir con datos faltantes que responden a información que se perdió o nunca se recolectó. Existen varias técnicas para completar datos faltantes. Al proceso de completar datos faltantes se lo llama \"imputación\".\n",
    "\n",
    "**5. Organizar el dataset.**\n",
    "\n",
    "Es importante estructurar las filas y columnas de la forma más conveniente. Para hacerlo se pueden aplicar las reglas del \"tidy data\".\n"
   ]
  },
  {
   "attachments": {},
   "cell_type": "markdown",
   "metadata": {},
   "source": [
    "\n",
    "## Dataset\n",
    "\n",
    "El Met (Metropolitan Museum of Art) provee datasets de información de más de 420.000 piezas de arte en su colección.\n",
    "\n",
    "https://github.com/metmuseum/openaccess/\n",
    "\n",
    "Los problemas que presentan este dataset incluyen:\n",
    "* Valores faltantes\n",
    "* Posibles duplicaciones\n",
    "* Campos con mezcla de campos de tipo numérico con cadenas de caracteres\n",
    "\n",
    "En esta clase vamos a detectar algunos de los qué campos presentan problemas, y solucionarlos usando las herramientas que adquirimos en las prácticas guiadas.\n"
   ]
  },
  {
   "attachments": {},
   "cell_type": "markdown",
   "metadata": {},
   "source": [
    "## Ejercicio 1:\n",
    "\n",
    "Vamos a leer en la variable `data` los datos del archivo /M2/CLASE_05_Limpieza_de_datos/Data/MetObjects_sample.csv en un `DataFrame` de pandas con el método `read_csv` \n",
    "\n",
    "Veamos cuántas filas y columnas tiene el DataFrame data"
   ]
  },
  {
   "cell_type": "code",
   "execution_count": 1,
   "metadata": {},
   "outputs": [
    {
     "data": {
      "text/html": [
       "<div>\n",
       "<style scoped>\n",
       "    .dataframe tbody tr th:only-of-type {\n",
       "        vertical-align: middle;\n",
       "    }\n",
       "\n",
       "    .dataframe tbody tr th {\n",
       "        vertical-align: top;\n",
       "    }\n",
       "\n",
       "    .dataframe thead th {\n",
       "        text-align: right;\n",
       "    }\n",
       "</style>\n",
       "<table border=\"1\" class=\"dataframe\">\n",
       "  <thead>\n",
       "    <tr style=\"text-align: right;\">\n",
       "      <th></th>\n",
       "      <th>Unnamed: 0</th>\n",
       "      <th>Object Number</th>\n",
       "      <th>Is Highlight</th>\n",
       "      <th>Is Public Domain</th>\n",
       "      <th>Is Timeline Work</th>\n",
       "      <th>Object ID</th>\n",
       "      <th>Department</th>\n",
       "      <th>AccessionYear</th>\n",
       "      <th>Object Name</th>\n",
       "      <th>Title</th>\n",
       "      <th>...</th>\n",
       "      <th>Excavation</th>\n",
       "      <th>River</th>\n",
       "      <th>Classification</th>\n",
       "      <th>Rights and Reproduction</th>\n",
       "      <th>Link Resource</th>\n",
       "      <th>Object Wikidata URL</th>\n",
       "      <th>Metadata Date</th>\n",
       "      <th>Repository</th>\n",
       "      <th>Tags</th>\n",
       "      <th>Tags AAT URL</th>\n",
       "    </tr>\n",
       "  </thead>\n",
       "  <tbody>\n",
       "    <tr>\n",
       "      <th>0</th>\n",
       "      <td>297513</td>\n",
       "      <td>Inst.1980.3.1</td>\n",
       "      <td>False</td>\n",
       "      <td>False</td>\n",
       "      <td>False</td>\n",
       "      <td>442985</td>\n",
       "      <td>Islamic Art</td>\n",
       "      <td>NaN</td>\n",
       "      <td>Illustrated single work</td>\n",
       "      <td>Illustrated Single Work</td>\n",
       "      <td>...</td>\n",
       "      <td>NaN</td>\n",
       "      <td>NaN</td>\n",
       "      <td>Codices</td>\n",
       "      <td>NaN</td>\n",
       "      <td>http://www.metmuseum.org/art/collection/search...</td>\n",
       "      <td>NaN</td>\n",
       "      <td>NaN</td>\n",
       "      <td>Metropolitan Museum of Art, New York, NY</td>\n",
       "      <td>Abstraction</td>\n",
       "      <td>http://vocab.getty.edu/page/aat/300056508</td>\n",
       "    </tr>\n",
       "    <tr>\n",
       "      <th>1</th>\n",
       "      <td>366196</td>\n",
       "      <td>175T49 R43</td>\n",
       "      <td>True</td>\n",
       "      <td>False</td>\n",
       "      <td>False</td>\n",
       "      <td>591826</td>\n",
       "      <td>The Libraries</td>\n",
       "      <td>NaN</td>\n",
       "      <td>NaN</td>\n",
       "      <td>Vita del Tintoretto</td>\n",
       "      <td>...</td>\n",
       "      <td>NaN</td>\n",
       "      <td>NaN</td>\n",
       "      <td>NaN</td>\n",
       "      <td>NaN</td>\n",
       "      <td>http://www.metmuseum.org/art/collection/search...</td>\n",
       "      <td>https://www.wikidata.org/wiki/Q29385980</td>\n",
       "      <td>NaN</td>\n",
       "      <td>Metropolitan Museum of Art, New York, NY</td>\n",
       "      <td>NaN</td>\n",
       "      <td>NaN</td>\n",
       "    </tr>\n",
       "    <tr>\n",
       "      <th>2</th>\n",
       "      <td>380983</td>\n",
       "      <td>WW.550</td>\n",
       "      <td>False</td>\n",
       "      <td>False</td>\n",
       "      <td>False</td>\n",
       "      <td>650203</td>\n",
       "      <td>Drawings and Prints</td>\n",
       "      <td>NaN</td>\n",
       "      <td>Print</td>\n",
       "      <td>Flowers and Dragonfly</td>\n",
       "      <td>...</td>\n",
       "      <td>NaN</td>\n",
       "      <td>NaN</td>\n",
       "      <td>Prints</td>\n",
       "      <td>NaN</td>\n",
       "      <td>http://www.metmuseum.org/art/collection/search...</td>\n",
       "      <td>NaN</td>\n",
       "      <td>NaN</td>\n",
       "      <td>Metropolitan Museum of Art, New York, NY</td>\n",
       "      <td>Dragonflies|Flowers</td>\n",
       "      <td>http://vocab.getty.edu/page/aat/300310476|http...</td>\n",
       "    </tr>\n",
       "    <tr>\n",
       "      <th>3</th>\n",
       "      <td>379184</td>\n",
       "      <td>WW.211</td>\n",
       "      <td>False</td>\n",
       "      <td>False</td>\n",
       "      <td>False</td>\n",
       "      <td>647832</td>\n",
       "      <td>Drawings and Prints</td>\n",
       "      <td>NaN</td>\n",
       "      <td>Print</td>\n",
       "      <td>Old Karlsbad: City Tower (Alt-Karlsbad Stadtturm)</td>\n",
       "      <td>...</td>\n",
       "      <td>NaN</td>\n",
       "      <td>NaN</td>\n",
       "      <td>Prints</td>\n",
       "      <td>NaN</td>\n",
       "      <td>http://www.metmuseum.org/art/collection/search...</td>\n",
       "      <td>NaN</td>\n",
       "      <td>NaN</td>\n",
       "      <td>Metropolitan Museum of Art, New York, NY</td>\n",
       "      <td>Towers</td>\n",
       "      <td>http://vocab.getty.edu/page/aat/300004847</td>\n",
       "    </tr>\n",
       "    <tr>\n",
       "      <th>4</th>\n",
       "      <td>472119</td>\n",
       "      <td>24.63.2060</td>\n",
       "      <td>False</td>\n",
       "      <td>False</td>\n",
       "      <td>False</td>\n",
       "      <td>838838</td>\n",
       "      <td>Drawings and Prints</td>\n",
       "      <td>NaN</td>\n",
       "      <td>Print</td>\n",
       "      <td>Victor Hugo, published in Le Masque</td>\n",
       "      <td>...</td>\n",
       "      <td>NaN</td>\n",
       "      <td>NaN</td>\n",
       "      <td>Prints</td>\n",
       "      <td>NaN</td>\n",
       "      <td>http://www.metmuseum.org/art/collection/search...</td>\n",
       "      <td>NaN</td>\n",
       "      <td>NaN</td>\n",
       "      <td>Metropolitan Museum of Art, New York, NY</td>\n",
       "      <td>NaN</td>\n",
       "      <td>NaN</td>\n",
       "    </tr>\n",
       "  </tbody>\n",
       "</table>\n",
       "<p>5 rows × 52 columns</p>\n",
       "</div>"
      ],
      "text/plain": [
       "   Unnamed: 0  Object Number  Is Highlight  Is Public Domain  \\\n",
       "0      297513  Inst.1980.3.1         False             False   \n",
       "1      366196     175T49 R43          True             False   \n",
       "2      380983         WW.550         False             False   \n",
       "3      379184         WW.211         False             False   \n",
       "4      472119     24.63.2060         False             False   \n",
       "\n",
       "   Is Timeline Work  Object ID           Department AccessionYear  \\\n",
       "0             False     442985          Islamic Art           NaN   \n",
       "1             False     591826        The Libraries           NaN   \n",
       "2             False     650203  Drawings and Prints           NaN   \n",
       "3             False     647832  Drawings and Prints           NaN   \n",
       "4             False     838838  Drawings and Prints           NaN   \n",
       "\n",
       "               Object Name                                              Title  \\\n",
       "0  Illustrated single work                            Illustrated Single Work   \n",
       "1                      NaN                                Vita del Tintoretto   \n",
       "2                    Print                              Flowers and Dragonfly   \n",
       "3                    Print  Old Karlsbad: City Tower (Alt-Karlsbad Stadtturm)   \n",
       "4                    Print                Victor Hugo, published in Le Masque   \n",
       "\n",
       "   ... Excavation River Classification Rights and Reproduction  \\\n",
       "0  ...        NaN   NaN        Codices                     NaN   \n",
       "1  ...        NaN   NaN            NaN                     NaN   \n",
       "2  ...        NaN   NaN         Prints                     NaN   \n",
       "3  ...        NaN   NaN         Prints                     NaN   \n",
       "4  ...        NaN   NaN         Prints                     NaN   \n",
       "\n",
       "                                       Link Resource  \\\n",
       "0  http://www.metmuseum.org/art/collection/search...   \n",
       "1  http://www.metmuseum.org/art/collection/search...   \n",
       "2  http://www.metmuseum.org/art/collection/search...   \n",
       "3  http://www.metmuseum.org/art/collection/search...   \n",
       "4  http://www.metmuseum.org/art/collection/search...   \n",
       "\n",
       "                       Object Wikidata URL Metadata Date  \\\n",
       "0                                      NaN           NaN   \n",
       "1  https://www.wikidata.org/wiki/Q29385980           NaN   \n",
       "2                                      NaN           NaN   \n",
       "3                                      NaN           NaN   \n",
       "4                                      NaN           NaN   \n",
       "\n",
       "                                 Repository                 Tags  \\\n",
       "0  Metropolitan Museum of Art, New York, NY          Abstraction   \n",
       "1  Metropolitan Museum of Art, New York, NY                  NaN   \n",
       "2  Metropolitan Museum of Art, New York, NY  Dragonflies|Flowers   \n",
       "3  Metropolitan Museum of Art, New York, NY               Towers   \n",
       "4  Metropolitan Museum of Art, New York, NY                  NaN   \n",
       "\n",
       "                                        Tags AAT URL  \n",
       "0          http://vocab.getty.edu/page/aat/300056508  \n",
       "1                                                NaN  \n",
       "2  http://vocab.getty.edu/page/aat/300310476|http...  \n",
       "3          http://vocab.getty.edu/page/aat/300004847  \n",
       "4                                                NaN  \n",
       "\n",
       "[5 rows x 52 columns]"
      ]
     },
     "execution_count": 1,
     "metadata": {},
     "output_type": "execute_result"
    }
   ],
   "source": [
    "import pandas as pd \n",
    "data = pd.read_csv('../Data/MetObjects_sample.csv')\n",
    "data.head()"
   ]
  },
  {
   "cell_type": "code",
   "execution_count": 2,
   "metadata": {},
   "outputs": [
    {
     "data": {
      "text/plain": [
       "(4743, 52)"
      ]
     },
     "execution_count": 2,
     "metadata": {},
     "output_type": "execute_result"
    }
   ],
   "source": [
    "data.shape"
   ]
  },
  {
   "attachments": {},
   "cell_type": "markdown",
   "metadata": {},
   "source": [
    "## Ejercicio 2: Formato y tipos de datos\n",
    "\n",
    "Vamos a ver de qué tipo de datos es cada columna del DataFrame, y vamos a convertir o dar formato **a alguna de las columnas** que tienen tipo de datos incorrecto.\n",
    "\n",
    "### 2.a Detectar las columnas que tienen tipo de datos incorrecto"
   ]
  },
  {
   "cell_type": "code",
   "execution_count": 3,
   "metadata": {},
   "outputs": [
    {
     "name": "stdout",
     "output_type": "stream",
     "text": [
      "<class 'pandas.core.frame.DataFrame'>\n",
      "RangeIndex: 4743 entries, 0 to 4742\n",
      "Data columns (total 52 columns):\n",
      " #   Column                   Non-Null Count  Dtype  \n",
      "---  ------                   --------------  -----  \n",
      " 0   Unnamed: 0               4743 non-null   int64  \n",
      " 1   Object Number            4743 non-null   object \n",
      " 2   Is Highlight             4743 non-null   bool   \n",
      " 3   Is Public Domain         4743 non-null   bool   \n",
      " 4   Is Timeline Work         4743 non-null   bool   \n",
      " 5   Object ID                4743 non-null   int64  \n",
      " 6   Department               4743 non-null   object \n",
      " 7   AccessionYear            3743 non-null   object \n",
      " 8   Object Name              4655 non-null   object \n",
      " 9   Title                    3914 non-null   object \n",
      " 10  Culture                  2318 non-null   object \n",
      " 11  Period                   1319 non-null   object \n",
      " 12  Dynasty                  184 non-null    object \n",
      " 13  Reign                    71 non-null     object \n",
      " 14  Portfolio                144 non-null    object \n",
      " 15  Artist Role              2384 non-null   object \n",
      " 16  Artist Prefix            736 non-null    object \n",
      " 17  Artist Display Name      2398 non-null   object \n",
      " 18  Artist Display Bio       2112 non-null   object \n",
      " 19  Artist Suffix            79 non-null     object \n",
      " 20  Artist Alpha Sort        2398 non-null   object \n",
      " 21  Artist Nationality       1574 non-null   object \n",
      " 22  Artist Begin Date        2097 non-null   object \n",
      " 23  Artist End Date          2088 non-null   object \n",
      " 24  Artist Gender            992 non-null    object \n",
      " 25  Artist ULAN URL          1779 non-null   object \n",
      " 26  Artist Wikidata URL      1313 non-null   object \n",
      " 27  Object Date              3173 non-null   object \n",
      " 28  Object Begin Date        4743 non-null   int64  \n",
      " 29  Object End Date          4743 non-null   int64  \n",
      " 30  Medium                   4611 non-null   object \n",
      " 31  Dimensions               4235 non-null   object \n",
      " 32  Credit Line              4683 non-null   object \n",
      " 33  Geography Type           533 non-null    object \n",
      " 34  City                     262 non-null    object \n",
      " 35  State                    18 non-null     object \n",
      " 36  County                   69 non-null     object \n",
      " 37  Country                  662 non-null    object \n",
      " 38  Region                   207 non-null    object \n",
      " 39  Subregion                134 non-null    object \n",
      " 40  Locale                   80 non-null     object \n",
      " 41  Locus                    31 non-null     object \n",
      " 42  Excavation               73 non-null     object \n",
      " 43  River                    12 non-null     object \n",
      " 44  Classification           4293 non-null   object \n",
      " 45  Rights and Reproduction  128 non-null    object \n",
      " 46  Link Resource            4743 non-null   object \n",
      " 47  Object Wikidata URL      217 non-null    object \n",
      " 48  Metadata Date            0 non-null      float64\n",
      " 49  Repository               4743 non-null   object \n",
      " 50  Tags                     2256 non-null   object \n",
      " 51  Tags AAT URL             2256 non-null   object \n",
      "dtypes: bool(3), float64(1), int64(4), object(44)\n",
      "memory usage: 1.8+ MB\n"
     ]
    }
   ],
   "source": [
    "data.info()"
   ]
  },
  {
   "attachments": {},
   "cell_type": "markdown",
   "metadata": {},
   "source": [
    "### 2.b AccessionYear\n",
    "\n",
    "Analizar la columna AccessionYear que fue leída como object, y debería ser int.\n",
    "\n",
    "¿Qué valores toma ese campo? ¿Cómo se distribuyen esos valores? ¿Hay valores nulos?\n",
    "\n",
    "Queremos extraer el dato año de los valores no numéricos, y crear una nueva columna en el DataFrame de tipo int que se llame AccessionYearClean y tenga estos valores.\n",
    "\n",
    "Para eso vamos a usar expresiones regulares, apply y lambda.\n",
    "\n",
    "Observación: si la columna tiene valores NaN no vamos a poder convertirla al tipo int. Una opción es reemplazar los valores NaN por algún entero antes de convertir (`fillna`). La otra opción es dejar la columna como tipo float (el tipo de NaN es float).\n"
   ]
  },
  {
   "cell_type": "code",
   "execution_count": 4,
   "metadata": {},
   "outputs": [
    {
     "data": {
      "text/plain": [
       "0        NaN\n",
       "1        NaN\n",
       "2        NaN\n",
       "3        NaN\n",
       "4        NaN\n",
       "        ... \n",
       "4738    1941\n",
       "4739    1979\n",
       "4740    1979\n",
       "4741    1953\n",
       "4742    1963\n",
       "Name: AccessionYear, Length: 4743, dtype: object"
      ]
     },
     "execution_count": 4,
     "metadata": {},
     "output_type": "execute_result"
    }
   ],
   "source": [
    "data.AccessionYear"
   ]
  },
  {
   "cell_type": "code",
   "execution_count": 5,
   "metadata": {},
   "outputs": [
    {
     "data": {
      "text/plain": [
       "<Axes: xlabel='AccessionYear', ylabel='Count'>"
      ]
     },
     "execution_count": 5,
     "metadata": {},
     "output_type": "execute_result"
    },
    {
     "data": {
      "image/png": "[encoded data removed]",
      "text/plain": [
       "<Figure size 640x480 with 1 Axes>"
      ]
     },
     "metadata": {},
     "output_type": "display_data"
    }
   ],
   "source": [
    "import seaborn as sns \n",
    "\n",
    "sns.histplot(data.AccessionYear)"
   ]
  },
  {
   "cell_type": "code",
   "execution_count": null,
   "metadata": {},
   "outputs": [],
   "source": [
    "## [BORRAR_PRESENCIAL]\n",
    "import re\n",
    "import numpy as np \n",
    "\n",
    "pattern_fecha = \"(?P<year>\\d\\d\\d\\d)(?P<month_day>\\-\\d\\d\\-\\d\\d)*\"\n",
    "pattern_fecha_regex =  re.compile(pattern_fecha)\n",
    "#resultado_fechas = data.AccessionYear.apply(lambda x: x if (x is np.NaN) | (x is None) else pattern_fecha_regex.match(x))\n",
    "resultado_fechas = data.AccessionYear.apply(lambda x: x if x is np.NaN else pattern_fecha_regex.match(x))\n",
    "\n",
    "year_match = resultado_fechas.apply(lambda x: x if x is np.NaN else x.group(\"year\"))\n",
    "print(year_match.dtype)\n",
    "\n",
    "\n",
    "#opcion 1\n",
    "year_match_fill = year_match.fillna(0)\n",
    "year_match_fill_numeric = year_match_fill.astype(int)\n",
    "\n",
    "# opcion 2\n",
    "year_match_numeric = year_match.astype(float)\n",
    "\n",
    "#data[\"AccessionYearClean\"] = year_match_numeric\n",
    "data[\"AccessionYearClean\"] = year_match_fill_numeric\n",
    "data.dtypes"
   ]
  },
  {
   "attachments": {},
   "cell_type": "markdown",
   "metadata": {},
   "source": [
    "## Ejercicio 3: Categorias - Valores erróneos\n",
    "\n",
    "Miremos ahora el campo \"Artist Gender\"\n",
    "\n",
    "¿Qué valores toma ese campo? ¿Cómo se distribuyen esos valores? ¿Hay valores nulos?\n",
    "\n",
    "Queremos definir como categorías válidas Male, Female y Unknown\n",
    "\n",
    "Y crear una nueva columna en el DataFrame que se llame ArtistGenderClean y tenga estos valores.\n",
    "\n",
    "Para eso vamos a usar expresiones regulares, apply y lambda.\n",
    "\n",
    "¿Podemos deducir cómo está representada la categoría Male en el dataset original?\n",
    "\n",
    "Nota: La propuesta que hacemos para limpiar este campo no es del todo correcta, y vamos a ver por qué más adelante. Pero sirve como ejercicio.\n"
   ]
  },
  {
   "cell_type": "code",
   "execution_count": null,
   "metadata": {},
   "outputs": [],
   "source": []
  },
  {
   "attachments": {},
   "cell_type": "markdown",
   "metadata": {},
   "source": [
    "## Ejercicio 4: Imputación\n",
    "\n",
    "Vamos a analizar ahora los campos \"Object Date\", \"Object Begin Date\", \"Object End Date\"\n",
    "\n",
    "**4.a ¿Cuántos valores nulos hay en \"Object Date\"? ¿Cuántos en \"Object Begin Date\"? ¿Cuántos en \"Object End Date\"?**\n"
   ]
  },
  {
   "cell_type": "code",
   "execution_count": null,
   "metadata": {},
   "outputs": [],
   "source": []
  },
  {
   "attachments": {},
   "cell_type": "markdown",
   "metadata": {},
   "source": [
    "**4.b Usaremos los valores de \"Object Begin Date\" o \"Object End Date\" para imputar los valores de \"Object Date\" con alguno de esos dos campos.**\n",
    "\n",
    "1) Vamos a crear una columna nueva (\"Object Date 4b\") donde copiamos todos los datos de Object Date (para no cambiar los valores originales y nos sirvan para el próximo ejercicio)\n",
    "\n",
    "2) Vamos a rellenar la columna \"Object Date 4b\" con la estrategia que planteamos."
   ]
  },
  {
   "cell_type": "code",
   "execution_count": null,
   "metadata": {},
   "outputs": [],
   "source": []
  },
  {
   "attachments": {},
   "cell_type": "markdown",
   "metadata": {},
   "source": [
    "**4.c Usaremos aleatoriamente los valores de \"Object Begin Date\" o \"Object End Date\" para imputar los valores de \"Object Date\" con alguno de esos dos campos.**\n",
    "\n",
    "Para eso definimos una función get_fill_value que recibe como parámetro una fila da data, y si el valor del campo \"Object Date\" es nulo devuelve aleatoriamente el valor del campo \"Object Begin Date\" u \"Object End Date\" de ese registro.\n",
    "\n",
    "(En este ejercicio practicamos todo!)"
   ]
  },
  {
   "cell_type": "code",
   "execution_count": null,
   "metadata": {},
   "outputs": [],
   "source": []
  },
  {
   "attachments": {},
   "cell_type": "markdown",
   "metadata": {},
   "source": [
    "Vamos a contar ahora cuántos registros rellenó con los valores de Object Begin Date y cuántos con Object End Date"
   ]
  },
  {
   "cell_type": "code",
   "execution_count": null,
   "metadata": {},
   "outputs": [],
   "source": []
  },
  {
   "attachments": {},
   "cell_type": "markdown",
   "metadata": {},
   "source": [
    "## Nota: Organizar el dataset\n",
    "\n",
    "Para llevar a cabo esta tarea necesitamos algunas herramientas que veremos en la segunda parte de Pandas.\n",
    "\n",
    "En esa clase vamos a volver a este ejercicio y resolver este punto.\n",
    "\n",
    "Los campos que vamos a analizar son \"Artist Nationality\" y \"Artist Display Name\""
   ]
  },
  {
   "cell_type": "code",
   "execution_count": null,
   "metadata": {},
   "outputs": [],
   "source": [
    "data[\"Artist Nationality\"].value_counts()"
   ]
  },
  {
   "cell_type": "code",
   "execution_count": null,
   "metadata": {},
   "outputs": [],
   "source": [
    "data[\"Artist Display Name\"].value_counts() "
   ]
  }
 ],
 "metadata": {
  "kernelspec": {
   "display_name": "Python 3",
   "language": "python",
   "name": "python3"
  },
  "language_info": {
   "codemirror_mode": {
    "name": "ipython",
    "version": 3
   },
   "file_extension": ".py",
   "mimetype": "text/x-python",
   "name": "python",
   "nbconvert_exporter": "python",
   "pygments_lexer": "ipython3",
   "version": "3.10.9"
  }
 },
 "nbformat": 4,
 "nbformat_minor": 4
}
