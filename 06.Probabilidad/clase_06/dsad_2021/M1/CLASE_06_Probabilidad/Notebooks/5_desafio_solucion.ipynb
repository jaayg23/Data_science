{
 "cells": [
  {
   "cell_type": "code",
   "execution_count": 1,
   "metadata": {},
   "outputs": [
    {
     "name": "stdout",
     "output_type": "stream",
     "text": [
      "/media/paulati/Nuevo vol/paula/dh/2021/dsad_2021_paula/common\n",
      "default checking\n",
      "Running command `conda list`... ok\n",
      "jupyterlab=2.2.6 already installed\n",
      "pandas=1.1.5 already installed\n",
      "bokeh=2.2.3 already installed\n",
      "seaborn=0.11.0 already installed\n",
      "matplotlib=3.3.2 already installed\n",
      "ipywidgets=7.5.1 already installed\n",
      "pytest=6.2.1 already installed\n",
      "chardet=4.0.0 already installed\n",
      "psutil=5.7.2 already installed\n",
      "scipy=1.5.2 already installed\n",
      "statsmodels=0.12.1 already installed\n",
      "scikit-learn=0.23.2 already installed\n",
      "xlrd=2.0.1 already installed\n",
      "Running command `conda install --yes nltk=3.5.0`... ok\n",
      "Collecting package metadata (current_repodata.json): ...working... done\n",
      "Solving environment: ...working... done\n",
      "\n",
      "# All requested packages already installed.\n",
      "\n",
      "\n",
      "unidecode=1.1.1 already installed\n",
      "pydotplus=2.0.2 already installed\n",
      "pandas-datareader=0.9.0 already installed\n",
      "flask=1.1.2 already installed\n"
     ]
    }
   ],
   "source": [
    "%run \"../../../common/0_notebooks_base_setup.py\"   "
   ]
  },
  {
   "cell_type": "markdown",
   "metadata": {},
   "source": [
    "---\n",
    "\n",
    "<img src='../../../common/logo_DH.png' align='left' width=35%/>\n"
   ]
  },
  {
   "cell_type": "markdown",
   "metadata": {},
   "source": [
    "En la práctica de la clase de hoy usaremos un dataset de Kaggle que tiene datos de ventas:\n",
    "\n",
    "https://www.kaggle.com/kyanyoga/sample-sales-data\n",
    "\n",
    "Ustedes tienen un subconjunto de los datos disponibles, que usaremos para resolver ejercicios de Numpy, Estadística y Probabilidad."
   ]
  },
  {
   "cell_type": "markdown",
   "metadata": {},
   "source": [
    "## Ejercicio 1\n",
    "Leer los datos del archivo /M1/CLASE_03/Data/sales_data_sample_excercise.csv\n",
    "\n",
    "Este archivo tiene algunos datos numéricos y otros de tipo cadena de caracteres. \n",
    "\n",
    "Las columnas son:\n",
    "\n",
    "* ORDERNUMBER: int, id de la orden\n",
    "\n",
    "* SALES: float, monto abonado\n",
    "\n",
    "* MONTH_ID: int, mes\n",
    "\n",
    "* YEAR_ID: int, año\n",
    "\n",
    "* PRODUCTLINE: str, producto\n",
    "\n",
    "* COUNTRY: str, país de venta\n",
    "\n",
    "¿Recuerdan que todos los elementos de una instancia de ndarray deben ser del mismo tipo? Entonces vamos a leer el archivo y crear una instancia de ndarray de tipo cadena de caracteres.\n",
    "\n",
    "¿Qué pasaría si intentáramos crear una instancia de tipo int? ¿Y de tipo float?\n"
   ]
  },
  {
   "cell_type": "code",
   "execution_count": 2,
   "metadata": {},
   "outputs": [
    {
     "data": {
      "text/plain": [
       "array([['10107', '2871', '2', '2003', 'Motorcycles', 'USA'],\n",
       "       ['10121', '2765.9', '5', '2003', 'Motorcycles', 'France'],\n",
       "       ['10134', '3884.34', '7', '2003', 'Motorcycles', 'France'],\n",
       "       ...,\n",
       "       ['10386', '5417.57', '3', '2005', 'Ships', 'Spain'],\n",
       "       ['10397', '2116.16', '3', '2005', 'Ships', 'France'],\n",
       "       ['10414', '3079.44', '5', '2005', 'Ships', 'USA']], dtype='<U16')"
      ]
     },
     "execution_count": 2,
     "metadata": {},
     "output_type": "execute_result"
    }
   ],
   "source": [
    "## [BORRAR_PRESENCIAL]\n",
    "\n",
    "import numpy as np\n",
    "\n",
    "# local:\n",
    "data_location = '../Data/sales_data_sample_excercise.csv'\n",
    "\n",
    "data = np.genfromtxt(data_location, skip_header=1, delimiter='\\t', dtype= str)\n",
    "data"
   ]
  },
  {
   "cell_type": "code",
   "execution_count": 3,
   "metadata": {},
   "outputs": [
    {
     "name": "stdout",
     "output_type": "stream",
     "text": [
      "[2871.   2765.9  3884.34 ... 5417.57 2116.16 3079.44]\n",
      "['USA' 'France' 'France' ... 'Spain' 'France' 'USA']\n"
     ]
    }
   ],
   "source": [
    "sales_vector_str = data[:, 1]\n",
    "sales_vector =  sales_vector_str.astype(np.float)\n",
    "print(sales_vector)\n",
    "\n",
    "country_vector = data[:, 5]\n",
    "print(country_vector)\n"
   ]
  },
  {
   "cell_type": "markdown",
   "metadata": {},
   "source": [
    "## Ejercicio 2\n",
    "\n",
    "Ahora queremos simular datos que representen las precios de ventas de USA en el mismo período, usando una distribución normal.\n",
    "\n",
    "¿Qué parámetros tiene esa distribución?\n",
    "\n",
    "Generar 100 datos simulados."
   ]
  },
  {
   "cell_type": "code",
   "execution_count": 4,
   "metadata": {},
   "outputs": [],
   "source": [
    "ventas_USA_mask = country_vector == 'USA'\n",
    "precios_USA = sales_vector[ventas_USA_mask]"
   ]
  },
  {
   "cell_type": "code",
   "execution_count": 5,
   "metadata": {},
   "outputs": [],
   "source": [
    "## [BORRAR_PRESENCIAL]\n",
    "\n",
    "# Media de precios USA: 3613.53\n",
    "# Mediana de precios USA: 3236.06\n",
    "# Rango de precios USA: 13541.66\n",
    "# Desvío de precios USA: 1880.0\n",
    "\n",
    "random_generator = np.random.default_rng()\n",
    "random_normal_data = random_generator.normal(loc = 3613.53, scale = 1880, size = 100)"
   ]
  },
  {
   "cell_type": "markdown",
   "metadata": {},
   "source": [
    "## Ejercicio 3\n",
    "\n",
    "Agregando a los datos originales los datos simulados en el punto anterior, calcular: \n",
    "* Media\n",
    "* Mediana\n",
    "* Rango\n",
    "* Desvío estandard\n",
    "\n",
    "Y comparar con el conjunto sin datos simulados\n",
    "\n",
    "Ayuda: https://docs.scipy.org/doc/numpy/reference/generated/numpy.concatenate.html"
   ]
  },
  {
   "cell_type": "code",
   "execution_count": 6,
   "metadata": {},
   "outputs": [
    {
     "name": "stdout",
     "output_type": "stream",
     "text": [
      "Media de precios USA: 3613.95\n",
      "Mediana de precios USA: 3257.06\n",
      "Rango de precios USA: 15840.85\n",
      "Desvío de precios USA: 1863.59\n"
     ]
    }
   ],
   "source": [
    "## [BORRAR_PRESENCIAL]\n",
    "\n",
    "all_USA_data_normal = np.concatenate((precios_USA, random_normal_data))\n",
    "print(\"Media de precios USA:\", np.around(np.mean(all_USA_data_normal), 2))\n",
    "print(\"Mediana de precios USA:\", np.around(np.median(all_USA_data_normal), 2))\n",
    "print(\"Rango de precios USA:\", np.around(np.max(all_USA_data_normal) - np.min(all_USA_data_normal), 2))\n",
    "print(\"Desvío de precios USA:\", np.around(np.std(all_USA_data_normal), 2))\n"
   ]
  },
  {
   "cell_type": "markdown",
   "metadata": {},
   "source": [
    "## Ejercicio 4\n",
    "\n",
    "Ahora queremos simular datos que representen las precios de ventas de USA en el mismo período, usando una distribución uniforme.\n",
    "\n",
    "¿Qué parámetros tiene esa distribución?\n",
    "\n",
    "Generar 100 datos simulados."
   ]
  },
  {
   "cell_type": "code",
   "execution_count": 7,
   "metadata": {},
   "outputs": [],
   "source": [
    "## [BORRAR_PRESENCIAL]\n",
    "\n",
    "random_uniform_data = random_generator.uniform(low=np.min(precios_USA), high=np.max(precios_USA), size=100)\n",
    "#distribution_plotter(random_uniform_data, \"\")\n"
   ]
  },
  {
   "cell_type": "markdown",
   "metadata": {},
   "source": [
    "## Ejercicio 5\n",
    "\n",
    "Agregando a los datos originales los datos simulados en el punto anterior, calcular: \n",
    "* Media\n",
    "* Mediana\n",
    "* Rango\n",
    "* Desvío estandard\n",
    "\n",
    "Y comparar con el conjunto sin datos simulados."
   ]
  },
  {
   "cell_type": "code",
   "execution_count": 8,
   "metadata": {},
   "outputs": [
    {
     "name": "stdout",
     "output_type": "stream",
     "text": [
      "Media de precios USA: 3958.17\n",
      "Mediana de precios USA: 3333.1\n",
      "Rango de precios USA: 13541.66\n",
      "Desvío de precios USA: 2452.16\n"
     ]
    }
   ],
   "source": [
    "## [BORRAR_PRESENCIAL]\n",
    "\n",
    "all_USA_data_uniform = np.concatenate((precios_USA, random_uniform_data))\n",
    "print(\"Media de precios USA:\", np.around(np.mean(all_USA_data_uniform), 2))\n",
    "print(\"Mediana de precios USA:\", np.around(np.median(all_USA_data_uniform), 2))\n",
    "print(\"Rango de precios USA:\", np.around(np.max(all_USA_data_uniform) - np.min(all_USA_data_uniform), 2))\n",
    "print(\"Desvío de precios USA:\", np.around(np.std(all_USA_data_uniform), 2))\n"
   ]
  },
  {
   "cell_type": "markdown",
   "metadata": {},
   "source": [
    "## Ejercicio 6\n",
    "\n",
    "¿Cuál de las dos imputaciones de datos preservó mejor la distribución original?"
   ]
  },
  {
   "cell_type": "code",
   "execution_count": 9,
   "metadata": {},
   "outputs": [],
   "source": [
    "## [BORRAR_PRESENCIAL]\n",
    "\n",
    "# Valores originales:\n",
    "# Media de precios USA: 3613.53\n",
    "# Mediana de precios USA: 3236.06\n",
    "# Rango de precios USA: 13541.66\n",
    "# Desvío de precios USA: 1880.0\n",
    "\n",
    "# Valores con imputación normal:\n",
    "# Media de precios USA: 3604.67\n",
    "# Mediana de precios USA: 3245.49\n",
    "# Rango de precios USA: 16191.32\n",
    "# Desvío de precios USA: 1869.9\n",
    "\n",
    "# Valores con imputación uniforme:\n",
    "# Media de precios USA: 3973.55\n",
    "# Mediana de precios USA: 3354.58\n",
    "# Rango de precios USA: 13541.66\n",
    "# Desvío de precios USA: 2404.95\n",
    "\n"
   ]
  },
  {
   "cell_type": "code",
   "execution_count": 10,
   "metadata": {},
   "outputs": [],
   "source": [
    "import seaborn as sns\n",
    "\n",
    "def distribution_plotter(data, label, color = 'steelblue',\n",
    "                         bin_width=200):    \n",
    "    sns.set(rc={\"figure.figsize\": (7, 5)})\n",
    "    sns.set_style(\"white\")    \n",
    "    dist = sns.histplot(data, stat = 'count', kde = False, \n",
    "                        line_kws = {'linewidth':5}, \n",
    "                        binwidth = bin_width,\n",
    "                       color = color)    \n",
    "    dist.set_title('Distribucion ' + label + '\\n', fontsize = 16)\n",
    "    \n",
    "    \n"
   ]
  },
  {
   "cell_type": "code",
   "execution_count": 11,
   "metadata": {},
   "outputs": [
    {
     "data": {
      "image/png": "[encoded data removed]",
      "text/plain": [
       "<Figure size 504x360 with 1 Axes>"
      ]
     },
     "metadata": {},
     "output_type": "display_data"
    }
   ],
   "source": [
    "# [BORRAR_PRESENCIAL]\n",
    "\n",
    "# comentar y descomentar estas lineas para ver las diferencias: \n",
    "distribution_plotter(precios_USA, \"Original\")\n",
    "\n",
    "distribution_plotter(all_USA_data_uniform, \"Uniform\", color= 'darkseagreen')\n",
    "\n",
    "#distribution_plotter(all_USA_data_normal, \"Normal\", color='darkorange')"
   ]
  }
 ],
 "metadata": {
  "kernelspec": {
   "display_name": "Python 3",
   "language": "python",
   "name": "python3"
  },
  "language_info": {
   "codemirror_mode": {
    "name": "ipython",
    "version": 3
   },
   "file_extension": ".py",
   "mimetype": "text/x-python",
   "name": "python",
   "nbconvert_exporter": "python",
   "pygments_lexer": "ipython3",
   "version": "3.8.5"
  }
 },
 "nbformat": 4,
 "nbformat_minor": 4
}
