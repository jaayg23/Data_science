{
 "cells": [
  {
   "cell_type": "code",
   "execution_count": 1,
   "metadata": {},
   "outputs": [
    {
     "name": "stdout",
     "output_type": "stream",
     "text": [
      "/media/paulati/Nuevo vol/paula/dh/2021/dsad_2021_paula/common\n",
      "default checking\n",
      "Running command `conda list`... ok\n",
      "jupyterlab=2.2.6 already installed\n",
      "pandas=1.1.5 already installed\n",
      "bokeh=2.2.3 already installed\n",
      "seaborn=0.11.0 already installed\n",
      "matplotlib=3.3.2 already installed\n",
      "ipywidgets=7.5.1 already installed\n",
      "pytest=6.2.1 already installed\n",
      "chardet=4.0.0 already installed\n",
      "psutil=5.7.2 already installed\n",
      "scipy=1.5.2 already installed\n",
      "statsmodels=0.12.1 already installed\n",
      "scikit-learn=0.23.2 already installed\n",
      "xlrd=2.0.1 already installed\n",
      "Running command `conda install --yes nltk=3.5.0`... ok\n",
      "Collecting package metadata (current_repodata.json): ...working... done\n",
      "Solving environment: ...working... done\n",
      "\n",
      "# All requested packages already installed.\n",
      "\n",
      "\n",
      "unidecode=1.1.1 already installed\n",
      "pydotplus=2.0.2 already installed\n",
      "pandas-datareader=0.9.0 already installed\n",
      "flask=1.1.2 already installed\n"
     ]
    }
   ],
   "source": [
    "%run \"../../../common/0_notebooks_base_setup.py\"    "
   ]
  },
  {
   "attachments": {},
   "cell_type": "markdown",
   "metadata": {},
   "source": [
    "---\n",
    "\n",
    "<img src='../../../common/logo_DH.png' align='left' width=35%/>\n"
   ]
  },
  {
   "attachments": {},
   "cell_type": "markdown",
   "metadata": {},
   "source": [
    "#### Distribución Normal\n",
    "\n",
    "¿Por qué es tan popular esta distribución?\n",
    "\n",
    "La importancia de la distribución normal proviene principalmente del hecho de que las distribuciones de muchos fenómenos naturales están al menos aproximadamente distribuidos normalmente.\n",
    "\n",
    "Una de las primeras aplicaciones de la distribución normal fue el análisis de errores de medición realizados en observaciones astronómicas, errores debidos a instrumentos imperfectos y observadores imperfectos.\n",
    "\n",
    "Galileo en el siglo XVII observó que estos errores eran simétricos y que los errores pequeños ocurrían con mayor frecuencia que los errores grandes.\n",
    "\n",
    "Esto condujo a varias distribuciones hipotéticas de errores, pero no fue hasta principios del siglo XIX que se descubrió que estos errores seguian una distribución normal.\n",
    "\n",
    "Independientemente, los matemáticos Adrain en 1808 y Gauss en 1809 desarrollaron la fórmula para la distribución normal y mostraron que los errores se ajustaban bien a esta distribución.\n",
    "\n",
    "\n",
    "La distribución normal tiene dos parámetros: su media $\\mu$ y su varianza $\\sigma^2$\n",
    "\n",
    "Su función de densidad de probabilidad es\n",
    "\n",
    "\\begin{equation}\n",
    "    f(x) = \\frac{1}{\\sigma \\sqrt{2\\pi}}exp^{-\\frac{(x-\\mu)^2}{2\\sigma^2}}\n",
    "\\end{equation}\n",
    "\n",
    "Los valores posibles de X son los reales entre menos y más infinito.  \n",
    "\n",
    "El gráfico de la densidad para una variable normal tiene forma de campana. \n",
    "\n",
    "La probabilidad de que una variable aleatoria X con distribución normal y parámetros  $\\mu$, $\\sigma^2$ sea menor o igual que un valor $a$ fijo es \n",
    "\n",
    "\\begin{equation}\n",
    "  P(X \\le a) = \\int^a_{-\\infty}\\frac{1}{\\sigma \\sqrt{2\\pi}}exp^{-\\frac{(x-\\mu)^2}{2\\sigma^2}}dx   \n",
    "\\end{equation}\n",
    "\n",
    "\n",
    "La distribución normal es simétrica respecto a su media. \n",
    "\n",
    "En particular cuando la media es cero y el desvío estándar es igual a 1 decimos se se trata de una **normal estándar**.  \n",
    "\n",
    "#### Algunas propiedades de la distribución normal\n",
    "\n",
    "* Cualquier función lineal de una variable aleatoria normal también es normal. \n",
    "Si X es una variable aleatoria normal con parámetros $\\mu$, $\\sigma^2$ podemos definir Y=a+bX  con b distinto de cero (¿Por qué?). \n",
    "Entonces Y también tendrá distribución normal (¿Con qué parámetros?)\n",
    "\n",
    "* La variable aleatoria generada por una suma finita de variables aleatorias normales independientes es normal. \n",
    "\n",
    "* En el caso de que se sumen infinitas variables aleatorias, independientes y tales que tanto la suma de las medias como de las varianzas sean finitas también vale la propiedad.\n",
    "\n",
    "<div>\n",
    "<div>Función de densidad de probabilidad:</div><div>\n",
    "<img src=\"img/prob_normal_distribution.png\" width=\"500\"/></div><div>\n",
    "Función de distribución de probabilidad:</div><div>\n",
    "<img src=\"img/prob_normal_cdf.png\" width=\"500\"/></div><div>\n",
    "Datos con distribución normal:</div><div>\n",
    "<img src=\"img/prob_normal.png\" width=\"500\"/></div>\n",
    "</div>\n",
    "\n",
    "\n",
    "**Ejemplos**:\n",
    "\n",
    "* X: longitud de los clavos producidos en una fábrica\n",
    "\n",
    "* X: altura de los alumnos de DH\n",
    "\n",
    "* X: tiempo vida de un modelo de lámpara\n",
    "\n",
    "* X: tiempo que utiliza un empleado en realizar determinada tarea en una empresa.\n",
    "\n"
   ]
  },
  {
   "attachments": {},
   "cell_type": "markdown",
   "metadata": {},
   "source": [
    "<div id=\"caja1\" style=\"float:left;width: 100%;\">\n",
    "  <div style=\"float:left;width: 15%;\"><img src=\"../../../common/icons/ponete_a_prueba.png\" style=\"align:left\"/> </div>\n",
    "  <div style=\"float:left;width: 85%;\"><label>Prueben ahora generando 100000 datos con distribución normal con distintos valores de media y varianza, usando como modelo el código que vimos en las notebooks anteriores. <br/>Y comparen los gráficos intentando responder cómo varian los gráficos de las distribuciones al modificar estos parámetros (media y varianza).</label></div>\n",
    "</div>"
   ]
  },
  {
   "cell_type": "code",
   "execution_count": 1,
   "metadata": {},
   "outputs": [],
   "source": [
    "import seaborn as sns\n",
    "    \n",
    "def distribution_plotter(data, label, color = 'steelblue', \n",
    "                         bins='auto', binrange=None, binwidth=0.5 ):    \n",
    "    sns.set(rc={\"figure.figsize\": (10, 7)})\n",
    "    sns.set_style(\"white\")    \n",
    "    dist = sns.histplot(data, bins= bins, stat = 'density', kde = True, line_kws={'linewidth':5}, \n",
    "                        color = color, thresh = None, \n",
    "                        binrange = binrange, binwidth=binwidth)\n",
    "    dist.set_title('Distribucion ' + label + '\\n', fontsize=16)    "
   ]
  },
  {
   "cell_type": "code",
   "execution_count": 2,
   "metadata": {},
   "outputs": [
    {
     "data": {
      "image/png": "[encoded data removed]",
      "text/plain": [
       "<Figure size 1000x700 with 1 Axes>"
      ]
     },
     "metadata": {},
     "output_type": "display_data"
    }
   ],
   "source": [
    "import numpy as np\n",
    "random_generator = np.random.default_rng()\n",
    "\n",
    "mu, std= 0, 0.1\n",
    "\n",
    "random_normal_data_1 = random_generator.normal(mu, std, 100000)\n",
    "\n",
    "mu, std= 10, 2\n",
    "\n",
    "random_normal_data_2 = random_generator.normal(mu, std, 100000)\n",
    "\n",
    "mu, std= -3, 7\n",
    "\n",
    "random_normal_data_3 = random_generator.normal(mu, std, 100000)\n",
    "\n",
    "distribution_plotter(random_normal_data_1, \"normal\")\n",
    "distribution_plotter(random_normal_data_2, \"normal\", color=\"darkorange\")\n",
    "distribution_plotter(random_normal_data_3, \"normal\", color=\"darkseagreen\")"
   ]
  },
  {
   "attachments": {},
   "cell_type": "markdown",
   "metadata": {},
   "source": [
    "#### Referencias\n",
    "\n",
    "https://luminousmen.com/post/data-science-probability-distributions\n",
    "\n",
    "Gráficos: https://es.wikipedia.org/wiki/Distribuci%C3%B3n_normal"
   ]
  }
 ],
 "metadata": {
  "kernelspec": {
   "display_name": "Python 3",
   "language": "python",
   "name": "python3"
  },
  "language_info": {
   "codemirror_mode": {
    "name": "ipython",
    "version": 3
   },
   "file_extension": ".py",
   "mimetype": "text/x-python",
   "name": "python",
   "nbconvert_exporter": "python",
   "pygments_lexer": "ipython3",
   "version": "3.10.9"
  }
 },
 "nbformat": 4,
 "nbformat_minor": 4
}
