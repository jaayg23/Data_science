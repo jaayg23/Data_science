{
 "cells": [
  {
   "cell_type": "code",
   "execution_count": 1,
   "metadata": {},
   "outputs": [
    {
     "name": "stdout",
     "output_type": "stream",
     "text": [
      "/media/paulati/Nuevo vol/paula/dh/2021/dsad_2021_paula/common\n",
      "default checking\n",
      "Running command `conda list`... ok\n",
      "jupyterlab=2.2.6 already installed\n",
      "pandas=1.1.5 already installed\n",
      "bokeh=2.2.3 already installed\n",
      "seaborn=0.11.0 already installed\n",
      "matplotlib=3.3.2 already installed\n",
      "ipywidgets=7.5.1 already installed\n",
      "pytest=6.2.1 already installed\n",
      "chardet=4.0.0 already installed\n",
      "psutil=5.7.2 already installed\n",
      "scipy=1.5.2 already installed\n",
      "statsmodels=0.12.1 already installed\n",
      "scikit-learn=0.23.2 already installed\n",
      "xlrd=2.0.1 already installed\n",
      "Running command `conda install --yes nltk=3.5.0`... ok\n",
      "Collecting package metadata (current_repodata.json): ...working... done\n",
      "Solving environment: ...working... done\n",
      "\n",
      "# All requested packages already installed.\n",
      "\n",
      "\n",
      "unidecode=1.1.1 already installed\n",
      "pydotplus=2.0.2 already installed\n",
      "pandas-datareader=0.9.0 already installed\n",
      "flask=1.1.2 already installed\n"
     ]
    }
   ],
   "source": [
    "%run \"../../../common/0_notebooks_base_setup.py\""
   ]
  },
  {
   "cell_type": "markdown",
   "metadata": {},
   "source": [
    "---\n",
    "\n",
    "<img src='../../../common/logo_DH.png' align='left' width=35%/>\n"
   ]
  },
  {
   "cell_type": "markdown",
   "metadata": {},
   "source": [
    "#### Distribución Poisson\n",
    "\n",
    "La distribución Poisson cuenta **cantidad de eventos en un período de tiempo dado**.\n",
    "\n",
    "Podemos pensar esta distribución como la probabilidad de que ocurra un determinado número de eventos durante cierto período de tiempo.\n",
    "\n",
    "Sea la variable aleatoria discreta X el número de veces que determinado evento ocurre en un intervalo de tiempo o espacio.\n",
    "\n",
    "Entonces X puede ser una variable Poisson que toma valores $x=0,1,2,…$ si cumple con las siguientes condiciones: \n",
    "\n",
    "1. El número de eventos que ocurren en períodos de tiempo, sin superposición entre períodos, es independiente.\n",
    "\n",
    "2. La probabilidad de exactamente un evento en un intervalo de tiempo corto de duración h=1/n es aproximadamente h*λ donde n es la cantidad de intervalos dentro del período considerado.  \n",
    "\n",
    "3. La probabilidad de exactamente dos o más eventos en un intervalo de tiempo corto es esencialmente cero.\n",
    "\n",
    "Si se cumplen esas condiciones X es una variable aleatoria que sigue un proceso de Poisson aproximado con parámetro $\\lambda > 0$ por lo que  su función de probabilidad puntual es \n",
    "\n",
    "\\begin{equation}\n",
    "    P(X = k) = \\frac{\\lambda^k . e^{-\\lambda}}{k!} \\\\\n",
    "    \\lambda > 0, \\hspace{0.2cm} k = 0, 1, 2, ...\n",
    "\\end{equation}\n",
    "\n",
    "Se puede mostrar que $\\lambda$ es la media y la varianza de una variable Poisson. \n",
    "\n",
    "<div>\n",
    "<div>Función de densidad de probabilidad:</div><div>\n",
    "<img src=\"img/prob_poisson.png\" width=\"500\"/></div>\n",
    "</div>\n",
    "\n",
    "\n",
    "\n",
    "\n",
    "**Ejemplos**:\n",
    "\n",
    "* X: Cantidad de pacientes que ingresan en la guardia de un hospital en una hora\n",
    "\n",
    "* X: Cantidad de autos que pasan por una cabina de peaje\n",
    "\n",
    "* X: Cantidad de llamados que llegan a un operador en un call center en la mañana.\n",
    "\n",
    "---\n"
   ]
  },
  {
   "cell_type": "markdown",
   "metadata": {},
   "source": [
    "Vamos a ver ahora cómo generar datos con esta distibución de probabilidad.\n",
    "\n",
    "Necesitamos un generador de números aleatorios, que expone métodos para generar números aleatorios con alguna distribución de probabilidad especificada. Construimos este generador de este modo `np.random.default_rng()`\n",
    "\n",
    "https://docs.scipy.org/doc/numpy/reference/random/generator.html\n",
    "\n",
    "Estas son las distribuciones de probabilidad disponibles:\n",
    "https://docs.scipy.org/doc/numpy/reference/random/generator.html#distributions\n",
    "\n",
    "Vamos a generar datos con distribución empleando el método `poisson` \n",
    "https://docs.scipy.org/doc/numpy/reference/random/generated/numpy.random.Generator.poisson.html#numpy.random.Generator.poisson"
   ]
  },
  {
   "cell_type": "code",
   "execution_count": 2,
   "metadata": {},
   "outputs": [],
   "source": [
    "import seaborn as sns\n",
    "    \n",
    "def distribution_plotter(data, label, color = 'steelblue', \n",
    "                         bins='auto', binrange=None, binwidth=0.5 ):    \n",
    "    sns.set(rc={\"figure.figsize\": (10, 7)})\n",
    "    sns.set_style(\"white\")    \n",
    "    dist = sns.histplot(data, bins= bins, stat = 'density', kde = True, line_kws={'linewidth':5}, \n",
    "                        color = color, thresh = None, \n",
    "                        binrange = binrange, binwidth=binwidth)\n",
    "    dist.set_title('Distribucion ' + label + '\\n', fontsize=16)    "
   ]
  },
  {
   "cell_type": "code",
   "execution_count": 3,
   "metadata": {},
   "outputs": [
    {
     "data": {
      "image/png": "[encoded data removed]",
      "text/plain": [
       "<Figure size 720x504 with 1 Axes>"
      ]
     },
     "metadata": {},
     "output_type": "display_data"
    }
   ],
   "source": [
    "import numpy as np\n",
    "random_generator = np.random.default_rng()\n",
    "lambda_value = 10\n",
    "sample_size = 10000\n",
    "random_poisson_data = random_generator.poisson(lam=lambda_value, size = sample_size)\n",
    "\n",
    "distribution_plotter(random_poisson_data, \"Poisson\")"
   ]
  },
  {
   "cell_type": "markdown",
   "metadata": {},
   "source": [
    "#### Referencias\n",
    "\n",
    "Gráficos: https://es.wikipedia.org/wiki/Distribuci%C3%B3n_de_Poisson"
   ]
  }
 ],
 "metadata": {
  "kernelspec": {
   "display_name": "Python 3",
   "language": "python",
   "name": "python3"
  },
  "language_info": {
   "codemirror_mode": {
    "name": "ipython",
    "version": 3
   },
   "file_extension": ".py",
   "mimetype": "text/x-python",
   "name": "python",
   "nbconvert_exporter": "python",
   "pygments_lexer": "ipython3",
   "version": "3.8.5"
  }
 },
 "nbformat": 4,
 "nbformat_minor": 4
}
