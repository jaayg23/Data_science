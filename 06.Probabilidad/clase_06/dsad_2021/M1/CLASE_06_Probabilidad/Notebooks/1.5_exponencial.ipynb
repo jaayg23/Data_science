{
 "cells": [
  {
   "cell_type": "code",
   "execution_count": 1,
   "metadata": {},
   "outputs": [
    {
     "name": "stdout",
     "output_type": "stream",
     "text": [
      "/media/paulati/Nuevo vol/paula/dh/2021/dsad_2021_paula/common\n",
      "default checking\n",
      "Running command `conda list`... ok\n",
      "jupyterlab=2.2.6 already installed\n",
      "pandas=1.1.5 already installed\n",
      "bokeh=2.2.3 already installed\n",
      "seaborn=0.11.0 already installed\n",
      "matplotlib=3.3.2 already installed\n",
      "ipywidgets=7.5.1 already installed\n",
      "pytest=6.2.1 already installed\n",
      "chardet=4.0.0 already installed\n",
      "psutil=5.7.2 already installed\n",
      "scipy=1.5.2 already installed\n",
      "statsmodels=0.12.1 already installed\n",
      "scikit-learn=0.23.2 already installed\n",
      "xlrd=2.0.1 already installed\n",
      "Running command `conda install --yes nltk=3.5.0`... ok\n",
      "Collecting package metadata (current_repodata.json): ...working... done\n",
      "Solving environment: ...working... done\n",
      "\n",
      "# All requested packages already installed.\n",
      "\n",
      "\n",
      "unidecode=1.1.1 already installed\n",
      "pydotplus=2.0.2 already installed\n",
      "pandas-datareader=0.9.0 already installed\n",
      "flask=1.1.2 already installed\n"
     ]
    }
   ],
   "source": [
    "%run \"../../../common/0_notebooks_base_setup.py\"    "
   ]
  },
  {
   "attachments": {},
   "cell_type": "markdown",
   "metadata": {},
   "source": [
    "---\n",
    "\n",
    "<img src='../../../common/logo_DH.png' align='left' width=35%/>\n"
   ]
  },
  {
   "attachments": {},
   "cell_type": "markdown",
   "metadata": {},
   "source": [
    "#### Distribución Exponencial\n",
    "\n",
    "La distribución exponencial es una **distribución de probabilidad continua** que describe el tiempo entre eventos en un proceso de Poisson.\n",
    "\n",
    "Su función de densidad de probabilidad\n",
    "\n",
    "\\begin{equation}\n",
    "    f_X(x) = P(x) = \\begin{cases}\n",
    "    \\lambda e^{-\\lambda x} & \\text{si $x \\ge 0$} \\\\    \n",
    "    0 & \\text{en otro caso}\n",
    "  \\end{cases}        \n",
    "\\end{equation}\n",
    "\n",
    "Su función de distribución acumulada es \n",
    "\\begin{equation}\n",
    "F_X(x) = P(X <= x) = \\begin{cases}\n",
    "    0 & \\text{si $x \\lt 0$} \\\\    \n",
    "    1 - e^{-\\lambda x} & \\text{si $x \\ge 0$} \n",
    "  \\end{cases}        \n",
    "\\end{equation}"
   ]
  },
  {
   "attachments": {},
   "cell_type": "markdown",
   "metadata": {},
   "source": [
    "<div>\n",
    "<div>Función de densidad de probabilidad:</div><div>\n",
    "<img src=\"img/prob_exponential.png\" width=\"500\"/></div>\n",
    "</div>\n",
    "\n",
    "<div>\n",
    "<div>Función de distribución de probabilidad:</div><div>\n",
    "<img src=\"img/prob_exponential_cdf.png\" width=\"500\"/></div>\n",
    "</div>\n",
    "\n",
    "#### Ejemplos\n",
    "\n",
    "* X: Tiempo entre el ingreso de pacientes consecutivos en la guardia de un hospital en una hora\n",
    "\n",
    "* X: Tiempo entre la llegada de autos consecutivos a una cabina de peaje\n",
    "\n",
    "* X: Tiempo entre llamados consecutivos que llegan a un operador en un call center en la mañana.\n",
    "\n",
    "\n",
    "---"
   ]
  },
  {
   "attachments": {},
   "cell_type": "markdown",
   "metadata": {},
   "source": [
    "<div id=\"caja1\" style=\"float:left;width: 100%;\">\n",
    "  <div style=\"float:left;width: 15%;\"><img src=\"../../../common/icons/ponete_a_prueba.png\" style=\"align:left\"/> </div>\n",
    "  <div style=\"float:left;width: 85%;\"><label>Prueben ahora generando 100000 datos para esta distribución con distintos valores de lambda (0.5, 1, 1.5, 10), usando como modelo el código que vemos a continuación, y comparen los gráficos. ¿Qué pueden concluir?</label></div>\n",
    "</div>\n",
    "\n",
    "\n",
    "Observemos en la documentación, que el parámetro que recibe es beta en lugar de lambda: $\\lambda$ = 1/$ \\beta$https://docs.scipy.org/doc/numpy/reference/random/generated/numpy.random.Generator.exponential.html#numpy.random.Generator.exponential \n"
   ]
  },
  {
   "cell_type": "code",
   "execution_count": 1,
   "metadata": {},
   "outputs": [],
   "source": [
    "import seaborn as sns\n",
    "    \n",
    "def distribution_plotter(data, label, color = 'steelblue', \n",
    "                         bins='auto', binrange=None, binwidth=0.5 ):    \n",
    "    sns.set(rc={\"figure.figsize\": (10, 7)})\n",
    "    sns.set_style(\"white\")    \n",
    "    dist = sns.histplot(data, bins= bins, stat = 'density', kde = True, line_kws={'linewidth':5}, \n",
    "                        color = color, thresh = None, \n",
    "                        binrange = binrange, binwidth=binwidth)\n",
    "    dist.set_title('Distribucion ' + label + '\\n', fontsize=16)    "
   ]
  },
  {
   "cell_type": "code",
   "execution_count": 2,
   "metadata": {},
   "outputs": [
    {
     "data": {
      "image/png": "[encoded data removed]",
      "text/plain": [
       "<Figure size 1000x700 with 1 Axes>"
      ]
     },
     "metadata": {},
     "output_type": "display_data"
    }
   ],
   "source": [
    "import numpy as np\n",
    "random_generator = np.random.default_rng()\n",
    "\n",
    "lambda_value = .5\n",
    "beta_value = 1.0 / lambda_value\n",
    "sample_size = 100000\n",
    "random_exponential_data_1 = random_generator.exponential(scale=beta_value, size = sample_size)\n",
    "\n",
    "lambda_value = 1\n",
    "beta_value = 1.0 / lambda_value\n",
    "sample_size = 100000\n",
    "random_exponential_data_2 = random_generator.exponential(scale=beta_value, size = sample_size)\n",
    "\n",
    "lambda_value = 1.5\n",
    "beta_value = 1.0 / lambda_value\n",
    "sample_size = 100000\n",
    "random_exponential_data_3 = random_generator.exponential(scale=beta_value, size = sample_size)\n",
    "\n",
    "\n",
    "lambda_value = 10\n",
    "beta_value = 1.0 / lambda_value\n",
    "sample_size = 100000\n",
    "random_exponential_data_3 = random_generator.exponential(scale=beta_value, size = sample_size)\n",
    "\n",
    "distribution_plotter(random_exponential_data_1, \"Exponential\")\n",
    "distribution_plotter(random_exponential_data_2, \"Exponential\", color=\"darkorange\")\n",
    "distribution_plotter(random_exponential_data_3, \"Exponential\", color=\"darkseagreen\")"
   ]
  },
  {
   "attachments": {},
   "cell_type": "markdown",
   "metadata": {},
   "source": [
    "---\n",
    "\n",
    "#### Referencias\n",
    "\n",
    "https://towardsdatascience.com/what-is-exponential-distribution-7bdd08590e2a\n",
    "\n",
    "Gráficos: https://es.wikipedia.org/wiki/Distribuci%C3%B3n_exponencial"
   ]
  }
 ],
 "metadata": {
  "kernelspec": {
   "display_name": "Python 3",
   "language": "python",
   "name": "python3"
  },
  "language_info": {
   "codemirror_mode": {
    "name": "ipython",
    "version": 3
   },
   "file_extension": ".py",
   "mimetype": "text/x-python",
   "name": "python",
   "nbconvert_exporter": "python",
   "pygments_lexer": "ipython3",
   "version": "3.10.9"
  }
 },
 "nbformat": 4,
 "nbformat_minor": 4
}
