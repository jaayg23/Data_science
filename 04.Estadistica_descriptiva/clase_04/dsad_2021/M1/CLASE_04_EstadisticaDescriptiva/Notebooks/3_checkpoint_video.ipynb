{
 "cells": [
  {
   "cell_type": "code",
   "execution_count": null,
   "metadata": {},
   "outputs": [],
   "source": [
    "%run \"../../../common/0_notebooks_base_setup.py\"    "
   ]
  },
  {
   "cell_type": "markdown",
   "metadata": {},
   "source": [
    "---\n",
    "\n",
    "<img src='../../../common/logo_DH.png' align='left' width=35%/>\n"
   ]
  },
  {
   "cell_type": "markdown",
   "metadata": {},
   "source": [
    "# Checkpoint Estadística Descriptiva"
   ]
  },
  {
   "cell_type": "markdown",
   "metadata": {},
   "source": [
    "Para esta práctica usaremos un subconjunto de los registros de un dataset de Kaggle que tiene datos oceanográficos https://www.kaggle.com/sohier/calcofi\n",
    "\n",
    "El conjunto de datos de CalCOFI representa la serie cronológica más larga (desde 1949 hasta el presente) y más completa (más de 50.000 estaciones de muestreo) de datos oceanográficos y de larvas de peces del mundo. \n",
    "\n",
    "Incluye datos sobre la abundancia de las larvas de más de 250 especies de peces; datos de frecuencia de tallas de larvas y datos de abundancia de huevos en especies comerciales clave; y datos oceanográficos y de plancton. \n",
    "\n",
    "Los datos físicos, químicos y biológicos recopilados a intervalos regulares de tiempo y espacio son valiosos para documentar los ciclos climáticos en la corriente de California y una variedad de respuestas biológicas a esos ciclos. \n",
    "\n",
    "La idea de esta práctica es analizar las variables numéricas de este dataset reducido (sólo cinco estaciones de muestreo) calculando medidas de tendencia central, de dispersión, y de asociación entre esas variables.\n"
   ]
  },
  {
   "cell_type": "markdown",
   "metadata": {},
   "source": [
    "## Ejercicio 1\n",
    "Leer los datos del archivo /M1/CLASE_04_EstadisticaDescriptiva/Data/bottle_reducido.csv\n",
    "\n",
    "Este archivo tiene algunos datos numéricos y otros de tipo cadena de caracteres. \n",
    "\n",
    "Cada uno del los registros del dataset representa una medición en una estación. Las variables medidas son profundidad, temperatura, saturación de oxígeno, nivel de salinidad.\n",
    "\n",
    "Las columnas son:\n",
    "\n",
    "* **Sta_ID**: cadena de caracteres, representa el id de la estación\n",
    "\n",
    "* **Depth_ID**: cadena de caracteres, representa el id de la medición\n",
    "\n",
    "* **Depthm**: numérico, representa la profundidad en metros \n",
    "\n",
    "* **T_degC**: numérico, representa la temperatura en grados centigrados\n",
    "\n",
    "* **O2Sat**: numérico, representa la saturación de oxígeno\n",
    "\n",
    "* **Salnty**: numérico, representa el nivel de salinidad\n",
    "\n",
    "¿Recuerdan que todos los elementos de una instancia de ndarray deben ser del mismo tipo? Entonces vamos a leer el archivo y crear una instancia de ndarray de tipo cadena de caracteres.\n",
    "\n",
    "¿Qué pasaría si intentáramos crear una instancia de tipo int? ¿Y de tipo float?\n"
   ]
  },
  {
   "cell_type": "code",
   "execution_count": null,
   "metadata": {},
   "outputs": [],
   "source": [
    "import numpy as np\n",
    "\n",
    "# local:\n",
    "data_location = '../Data/bottle_reducido.csv'\n"
   ]
  },
  {
   "cell_type": "code",
   "execution_count": null,
   "metadata": {},
   "outputs": [],
   "source": [
    "data_type_default = np.genfromtxt(data_location, skip_header=1, delimiter='\\t')\n",
    "data_type_default"
   ]
  },
  {
   "cell_type": "code",
   "execution_count": null,
   "metadata": {},
   "outputs": [],
   "source": [
    "data_type_str = np.genfromtxt(data_location, skip_header=1, delimiter='\\t', dtype= str)\n",
    "data_type_str"
   ]
  },
  {
   "cell_type": "code",
   "execution_count": null,
   "metadata": {},
   "outputs": [],
   "source": [
    "data_type_int = np.genfromtxt(data_location, skip_header=1, delimiter='\\t', dtype= int)\n",
    "data_type_int"
   ]
  },
  {
   "cell_type": "code",
   "execution_count": null,
   "metadata": {},
   "outputs": [],
   "source": [
    "data_type_float = np.genfromtxt(data_location, skip_header=1, delimiter='\\t', dtype= float)\n",
    "data_type_float"
   ]
  },
  {
   "cell_type": "markdown",
   "metadata": {},
   "source": [
    "## Ejercicio 2\n",
    "\n",
    "Sobre los datos de nivel de salinidad (columna Salnty) calcular:\n",
    "\n",
    "* media\n",
    "\n",
    "* mediana \n",
    "\n",
    "* desvio\n",
    "\n",
    "* rango\n"
   ]
  },
  {
   "cell_type": "code",
   "execution_count": null,
   "metadata": {},
   "outputs": [],
   "source": [
    "salinity_column_index = 5\n",
    "salinity_vector = data_type_str[:, salinity_column_index]\n",
    "salinity_vector_numeric = salinity_vector.astype(float)"
   ]
  },
  {
   "cell_type": "code",
   "execution_count": null,
   "metadata": {},
   "outputs": [],
   "source": [
    "np.mean(salinity_vector_numeric)"
   ]
  },
  {
   "cell_type": "code",
   "execution_count": null,
   "metadata": {},
   "outputs": [],
   "source": [
    "np.median(salinity_vector_numeric)"
   ]
  },
  {
   "cell_type": "code",
   "execution_count": null,
   "metadata": {},
   "outputs": [],
   "source": [
    "np.std(salinity_vector_numeric)"
   ]
  },
  {
   "cell_type": "code",
   "execution_count": null,
   "metadata": {},
   "outputs": [],
   "source": [
    "np.max(salinity_vector_numeric) - np.min(salinity_vector_numeric)"
   ]
  },
  {
   "cell_type": "markdown",
   "metadata": {},
   "source": [
    "## Ejercicio 3\n",
    "\n",
    "Usando la función `distribution_plotter` graficar las distribuciones de las variables Depthm, T_degC, O2Sat, Salnty\n",
    "\n",
    "<code>\n",
    "\n",
    "import seaborn as sns\n",
    "\n",
    "def distribution_plotter(data, label, bin_width=100):    \n",
    "    sns.set(rc={\"figure.figsize\": (7, 5)})\n",
    "    sns.set_style(\"white\")    \n",
    "    dist = sns.histplot(data, stat = 'count', kde = False, \n",
    "                        line_kws = {'linewidth':5}, \n",
    "                        binwidth = bin_width)    \n",
    "    dist.set_title('Distribucion ' + label + '\\n', fontsize = 16)\n",
    "</code>\n",
    "\n",
    "\n",
    "Qué pueden decir de estas distribuciones?\n",
    "\n",
    "Pongan atención en la elección del parámetro `bin_width` para que el gráfico sea informativo.\n"
   ]
  },
  {
   "cell_type": "code",
   "execution_count": null,
   "metadata": {},
   "outputs": [],
   "source": [
    "import seaborn as sns\n",
    "\n",
    "def distribution_plotter(data, label, bin_width=100):    \n",
    "    sns.set(rc={\"figure.figsize\": (7, 5)})\n",
    "    sns.set_style(\"white\")    \n",
    "    dist = sns.histplot(data, stat = 'count', kde = False, \n",
    "                        line_kws = {'linewidth':5}, \n",
    "                        binwidth = bin_width)    \n",
    "    dist.set_title('Distribucion ' + label + '\\n', fontsize = 16)"
   ]
  },
  {
   "cell_type": "code",
   "execution_count": null,
   "metadata": {},
   "outputs": [],
   "source": [
    "depthm_column_index = 2\n",
    "tdegC_column_index = 3\n",
    "o2sat_column_index = 4\n",
    "\n",
    "depthm_vector_numeric = data_type_str[:, depthm_column_index].astype(float)\n",
    "tdegC_vector_numeric = data_type_str[:, tdegC_column_index].astype(float)\n",
    "o2sat_vector_numeric = data_type_str[:, o2sat_column_index].astype(float)\n"
   ]
  },
  {
   "cell_type": "code",
   "execution_count": null,
   "metadata": {},
   "outputs": [],
   "source": [
    "distribution_plotter(depthm_vector_numeric, \"Depthm\", bin_width=100)"
   ]
  },
  {
   "cell_type": "code",
   "execution_count": null,
   "metadata": {},
   "outputs": [],
   "source": [
    "distribution_plotter(tdegC_vector_numeric, \"T_degC\", bin_width=1)"
   ]
  },
  {
   "cell_type": "code",
   "execution_count": null,
   "metadata": {},
   "outputs": [],
   "source": [
    "distribution_plotter(o2sat_vector_numeric, \"O2Sat\", bin_width=10)"
   ]
  },
  {
   "cell_type": "code",
   "execution_count": null,
   "metadata": {},
   "outputs": [],
   "source": [
    "distribution_plotter(salinity_vector_numeric, \"Salnty\", bin_width=0.1)\n"
   ]
  },
  {
   "cell_type": "markdown",
   "metadata": {},
   "source": [
    "## Ejercicio 4\n",
    "\n",
    "Calcular las matrices de correlación y covarianza de las variables Depthm, T_degC, O2Sat, Salnty\n",
    "\n",
    "A partir de estos resultados, elegir sólo una de estas variables para intentar predecir el valor de salinidad:\n",
    "\n",
    "* ¿Usarían para esto la matriz de correlación o la de covarianzas? ¿Por qué?\n",
    "\n",
    "* ¿Qué variable elegirían? Justificar la decisión.\n",
    "\n"
   ]
  },
  {
   "cell_type": "code",
   "execution_count": null,
   "metadata": {},
   "outputs": [],
   "source": [
    "variables_colums_index = range(2,6)\n",
    "\n",
    "X = data_type_str[:, variables_colums_index].astype(float)\n",
    "\n",
    "X"
   ]
  },
  {
   "cell_type": "code",
   "execution_count": null,
   "metadata": {},
   "outputs": [],
   "source": []
  },
  {
   "cell_type": "code",
   "execution_count": null,
   "metadata": {},
   "outputs": [],
   "source": [
    "correlacion = np.corrcoef(X.T)\n",
    "correlacion.shape\n",
    "correlacion"
   ]
  },
  {
   "cell_type": "code",
   "execution_count": null,
   "metadata": {},
   "outputs": [],
   "source": [
    "covarianza = np.cov(X.T)\n",
    "covarianza.shape\n",
    "covarianza"
   ]
  },
  {
   "cell_type": "code",
   "execution_count": null,
   "metadata": {},
   "outputs": [],
   "source": [
    "xdepthm_column_index = 0\n",
    "xtdegc_column_index = 1\n",
    "xo2sat_column_index = 2\n",
    "xsalinity_column_index = 3\n"
   ]
  },
  {
   "cell_type": "code",
   "execution_count": null,
   "metadata": {},
   "outputs": [],
   "source": [
    "covarianzas_salinity = [ abs(covarianza[xsalinity_column_index, xdepthm_column_index]), \n",
    "                         abs(covarianza[xsalinity_column_index, xtdegc_column_index]), \n",
    "                        abs(covarianza[xsalinity_column_index, xo2sat_column_index]), \n",
    "                       ]\n",
    "\n",
    "correlacion_salinity = [ abs(correlacion[xsalinity_column_index, xdepthm_column_index]), \n",
    "                         abs(correlacion[xsalinity_column_index, xtdegc_column_index]), \n",
    "                         abs(correlacion[xsalinity_column_index, xo2sat_column_index]), \n",
    "                       ]\n",
    "\n",
    "np.argmax(covarianzas_salinity)"
   ]
  },
  {
   "cell_type": "code",
   "execution_count": null,
   "metadata": {},
   "outputs": [],
   "source": [
    "np.argmax(correlacion_salinity)"
   ]
  },
  {
   "cell_type": "code",
   "execution_count": null,
   "metadata": {},
   "outputs": [],
   "source": [
    "covarianzas_salinity"
   ]
  },
  {
   "cell_type": "code",
   "execution_count": null,
   "metadata": {},
   "outputs": [],
   "source": [
    "correlacion_salinity"
   ]
  },
  {
   "cell_type": "markdown",
   "metadata": {},
   "source": [
    "Elegiría la variable O2Sat para predecir el valor de Salnty porque es la que tiene el valor máximo en la matriz de correlación."
   ]
  }
 ],
 "metadata": {
  "kernelspec": {
   "display_name": "Python 3",
   "language": "python",
   "name": "python3"
  },
  "language_info": {
   "codemirror_mode": {
    "name": "ipython",
    "version": 3
   },
   "file_extension": ".py",
   "mimetype": "text/x-python",
   "name": "python",
   "nbconvert_exporter": "python",
   "pygments_lexer": "ipython3",
   "version": "3.8.5"
  }
 },
 "nbformat": 4,
 "nbformat_minor": 4
}
