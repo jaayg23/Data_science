{
 "cells": [
  {
   "cell_type": "code",
   "execution_count": 11,
   "metadata": {},
   "outputs": [
    {
     "name": "stdout",
     "output_type": "stream",
     "text": [
      "c:\\Users\\jaayg\\OneDrive\\Documentos\\Data_Science\\04.Estadistica_descriptiva\\clase_04\\dsad_2021\\common\n",
      "default checking\n",
      "Running command `conda list`... ok\n",
      "jupyterlab=2.2.6 already installed\n",
      "Running command `conda install --yes pandas=1.1.5`... "
     ]
    }
   ],
   "source": [
    "%run \"../../../common/0_notebooks_base_setup.py\"    "
   ]
  },
  {
   "cell_type": "markdown",
   "metadata": {},
   "source": [
    "---\n",
    "\n",
    "<img src='../../../common/logo_DH.png' align='left' width=35%/>\n"
   ]
  },
  {
   "cell_type": "markdown",
   "metadata": {},
   "source": [
    "# Checkpoint Estadística Descriptiva"
   ]
  },
  {
   "cell_type": "markdown",
   "metadata": {},
   "source": [
    "Para esta práctica usaremos un subconjunto de los registros de un dataset de Kaggle que tiene datos oceanográficos https://www.kaggle.com/sohier/calcofi\n",
    "\n",
    "El conjunto de datos de CalCOFI representa la serie cronológica más larga (desde 1949 hasta el presente) y más completa (más de 50.000 estaciones de muestreo) de datos oceanográficos y de larvas de peces del mundo. \n",
    "\n",
    "Incluye datos sobre la abundancia de las larvas de más de 250 especies de peces; datos de frecuencia de tallas de larvas y datos de abundancia de huevos en especies comerciales clave; y datos oceanográficos y de plancton. \n",
    "\n",
    "Los datos físicos, químicos y biológicos recopilados a intervalos regulares de tiempo y espacio son valiosos para documentar los ciclos climáticos en la corriente de California y una variedad de respuestas biológicas a esos ciclos. \n",
    "\n",
    "La idea de esta práctica es analizar las variables numéricas de este dataset reducido (sólo cinco estaciones de muestreo) calculando medidas de tendencia central, de dispersión, y de asociación entre esas variables.\n"
   ]
  },
  {
   "cell_type": "markdown",
   "metadata": {},
   "source": [
    "## Ejercicio 1\n",
    "Leer los datos del archivo /M1/CLASE_04_EstadisticaDescriptiva/Data/bottle_reducido.csv\n",
    "\n",
    "Este archivo tiene algunos datos numéricos y otros de tipo cadena de caracteres. \n",
    "\n",
    "Cada uno del los registros del dataset representa una medición en una estación. Las variables medidas son profundidad, temperatura, saturación de oxígeno, nivel de salinidad.\n",
    "\n",
    "Las columnas son:\n",
    "\n",
    "* **Sta_ID**: cadena de caracteres, representa el id de la estación\n",
    "\n",
    "* **Depth_ID**: cadena de caracteres, representa el id de la medición\n",
    "\n",
    "* **Depthm**: numérico, representa la profundidad en metros \n",
    "\n",
    "* **T_degC**: numérico, representa la temperatura en grados centigrados\n",
    "\n",
    "* **O2Sat**: numérico, representa la saturación de oxígeno\n",
    "\n",
    "* **Salnty**: numérico, representa el nivel de salinidad\n",
    "\n",
    "¿Recuerdan que todos los elementos de una instancia de ndarray deben ser del mismo tipo? Entonces vamos a leer el archivo y crear una instancia de ndarray de tipo cadena de caracteres.\n",
    "\n",
    "¿Qué pasaría si intentáramos crear una instancia de tipo int? ¿Y de tipo float?\n"
   ]
  },
  {
   "cell_type": "code",
   "execution_count": 2,
   "metadata": {},
   "outputs": [],
   "source": [
    "import numpy as np\n",
    "\n",
    "# local:\n",
    "data_location = '../Data/bottle_reducido.csv'"
   ]
  },
  {
   "cell_type": "code",
   "execution_count": 3,
   "metadata": {},
   "outputs": [
    {
     "data": {
      "text/plain": [
       "array([['044.0 048.5', '19-4904CR-HY-087-0606-04400485-0000B-3', '0',\n",
       "        '10.3', '92.8', '33.03'],\n",
       "       ['044.0 048.5', '19-4904CR-HY-087-0606-04400485-0006A-3', '6',\n",
       "        '18.46', '111.8', '32.92'],\n",
       "       ['044.0 048.5', '19-4904CR-HY-087-0606-04400485-0010A-7', '10',\n",
       "        '10.29', '95.0', '32.951'],\n",
       "       ...,\n",
       "       ['036.7 115.0', '19-4911BD-HY-318-2130-03671150-1100A-7', '1100',\n",
       "        '3.51', '6.4', '34.44'],\n",
       "       ['036.7 115.0', '19-4911BD-HY-318-2130-03671150-1200A-7', '1200',\n",
       "        '3.29', '7.3', '34.481'],\n",
       "       ['036.7 115.0', '19-4911BD-HY-318-2130-03671150-1247A-3', '1247',\n",
       "        '3.18', '7.6', '34.5']], dtype='<U38')"
      ]
     },
     "execution_count": 3,
     "metadata": {},
     "output_type": "execute_result"
    }
   ],
   "source": [
    "data = np.genfromtxt(data_location, skip_header=1, delimiter='\\t', dtype=str)\n",
    "data"
   ]
  },
  {
   "cell_type": "code",
   "execution_count": 4,
   "metadata": {},
   "outputs": [
    {
     "data": {
      "text/plain": [
       "array([[  -1,   -1,    0,   10,   92,   33],\n",
       "       [  -1,   -1,    6,   18,  111,   32],\n",
       "       [  -1,   -1,   10,   10,   95,   32],\n",
       "       ...,\n",
       "       [  -1,   -1, 1100,    3,    6,   34],\n",
       "       [  -1,   -1, 1200,    3,    7,   34],\n",
       "       [  -1,   -1, 1247,    3,    7,   34]])"
      ]
     },
     "execution_count": 4,
     "metadata": {},
     "output_type": "execute_result"
    }
   ],
   "source": [
    "data_int = np.genfromtxt(data_location, skip_header=1, delimiter='\\t', dtype=int)\n",
    "data_int\n",
    "\n",
    "##Los primeros valores me los imprime como un -1"
   ]
  },
  {
   "cell_type": "code",
   "execution_count": 5,
   "metadata": {},
   "outputs": [
    {
     "data": {
      "text/plain": [
       "array([[     nan,      nan,    0.   ,   10.3  ,   92.8  ,   33.03 ],\n",
       "       [     nan,      nan,    6.   ,   18.46 ,  111.8  ,   32.92 ],\n",
       "       [     nan,      nan,   10.   ,   10.29 ,   95.   ,   32.951],\n",
       "       ...,\n",
       "       [     nan,      nan, 1100.   ,    3.51 ,    6.4  ,   34.44 ],\n",
       "       [     nan,      nan, 1200.   ,    3.29 ,    7.3  ,   34.481],\n",
       "       [     nan,      nan, 1247.   ,    3.18 ,    7.6  ,   34.5  ]])"
      ]
     },
     "execution_count": 5,
     "metadata": {},
     "output_type": "execute_result"
    }
   ],
   "source": [
    "data_floar = np.genfromtxt(data_location, skip_header=1, delimiter='\\t', dtype=float)\n",
    "data_floar\n",
    "\n",
    "#Este guarda esos valores como un nan"
   ]
  },
  {
   "cell_type": "code",
   "execution_count": null,
   "metadata": {},
   "outputs": [],
   "source": []
  },
  {
   "cell_type": "markdown",
   "metadata": {},
   "source": [
    "## Ejercicio 2\n",
    "\n",
    "Sobre los datos de nivel de salinidad (columna Salnty) calcular:\n",
    "\n",
    "* media\n",
    "\n",
    "* mediana \n",
    "\n",
    "* desvio\n",
    "\n",
    "* rango\n"
   ]
  },
  {
   "cell_type": "code",
   "execution_count": 6,
   "metadata": {},
   "outputs": [],
   "source": [
    "salinity_column_index = 5\n",
    "salinity_vector = data[:, salinity_column_index]\n",
    "salinity_vector_numeric = salinity_vector.astype(float)"
   ]
  },
  {
   "cell_type": "code",
   "execution_count": 7,
   "metadata": {},
   "outputs": [
    {
     "data": {
      "text/plain": [
       "array([33.03 , 32.92 , 32.951, 32.99 , 33.005, 33.054, 33.06 , 33.15 ,\n",
       "       33.167, 33.26 , 33.381, 33.64 , 33.656, 33.81 , 33.84 , 33.891,\n",
       "       33.96 , 33.966, 34.058, 34.136, 34.23 , 34.232, 34.232, 34.22 ,\n",
       "       34.241, 34.313, 34.386, 34.4  , 32.63 , 32.74 , 32.738, 32.722,\n",
       "       32.72 , 32.78 , 32.9  , 32.941, 33.08 , 33.219, 33.33 , 33.506,\n",
       "       33.62 , 33.627, 33.78 , 33.86 , 33.951, 33.96 , 34.026, 34.037,\n",
       "       34.02 , 34.065, 34.11 , 34.12 , 34.195, 34.271, 34.31 , 33.96 ,\n",
       "       32.79 , 32.767, 32.744, 32.74 , 32.74 , 32.74 , 32.755, 32.83 ,\n",
       "       32.87 , 32.92 , 33.139, 33.49 , 33.51 , 33.716, 33.78 , 33.943,\n",
       "       34.02 , 34.037, 34.069, 34.07 , 34.111, 34.14 , 34.168, 34.247,\n",
       "       34.317, 34.33 , 34.319, 34.306, 34.295, 34.29 , 32.75 , 32.81 ,\n",
       "       32.808, 32.774, 32.77 , 32.795, 32.83 , 32.798, 32.75 , 33.014,\n",
       "       33.19 , 33.428, 33.58 , 33.637, 33.8  , 33.82 , 33.929, 33.94 ,\n",
       "       33.955, 33.979, 33.98 , 34.041, 34.08 , 34.113, 34.185, 34.248,\n",
       "       34.25 , 34.273, 34.297, 34.322, 34.33 , 32.92 , 32.92 , 32.92 ,\n",
       "       32.92 , 32.924, 32.94 , 32.945, 32.97 , 32.963, 32.95 , 32.979,\n",
       "       33.135, 33.26 , 33.357, 33.64 , 33.709, 33.857, 33.89 , 33.967,\n",
       "       34.15 , 34.162, 34.199, 33.96 , 34.238, 34.279, 34.322, 34.34 ,\n",
       "       33.36 , 32.88 , 32.88 , 32.876, 32.844, 32.84 , 32.898, 33.04 ,\n",
       "       33.065, 33.17 , 33.294, 33.49 , 33.614, 33.776, 33.8  , 33.909,\n",
       "       34.02 , 34.07 , 34.1  , 34.11 , 34.169, 34.23 , 34.21 , 34.203,\n",
       "       34.2  , 34.226, 34.26 , 34.294, 34.329, 34.36 , 32.79 , 32.83 ,\n",
       "       32.832, 32.839, 32.84 , 32.84 , 32.84 , 32.846, 32.88 , 32.974,\n",
       "       33.06 , 33.238, 33.499, 33.737, 33.91 , 33.998, 34.032, 34.04 ,\n",
       "       34.093, 34.13 , 34.156, 34.179, 34.18 , 34.205, 34.233, 34.261,\n",
       "       34.289, 34.318, 34.33 , 32.7  , 32.75 , 32.753, 32.77 , 32.77 ,\n",
       "       32.767, 32.75 , 32.75 , 32.75 , 32.718, 32.68 , 32.794, 33.156,\n",
       "       33.35 , 33.467, 33.66 , 33.776, 34.016, 34.09 , 34.055, 33.98 ,\n",
       "       33.989, 34.067, 34.13 , 34.187, 34.288, 34.38 , 34.4  , 34.407,\n",
       "       34.417, 34.427, 34.439, 34.44 , 32.86 , 32.84 , 32.836, 32.812,\n",
       "       32.81 , 32.853, 32.94 , 32.989, 33.05 , 33.074, 33.08 , 33.095,\n",
       "       33.15 , 33.19 , 33.417, 33.49 , 33.766, 33.89 , 33.919, 33.941,\n",
       "       33.95 , 33.975, 34.   , 34.029, 34.153, 34.284, 34.34 , 34.36 ,\n",
       "       34.395, 34.432, 34.469, 34.49 , 32.83 , 32.84 , 32.843, 32.9  ,\n",
       "       32.89 , 32.88 , 33.073, 33.35 , 33.373, 33.42 , 33.474, 33.552,\n",
       "       33.627, 33.66 , 33.788, 33.89 , 33.917, 33.991, 34.09 , 34.09 ,\n",
       "       34.151, 34.239, 34.29 , 32.9  , 32.82 , 32.824, 32.83 , 32.83 ,\n",
       "       32.834, 32.84 , 32.835, 32.83 , 32.819, 32.81 , 32.917, 33.159,\n",
       "       33.17 , 33.415, 33.57 , 33.788, 33.95 , 33.958, 33.982, 34.   ,\n",
       "       34.056, 34.138, 34.218, 34.291, 34.33 , 34.353, 34.407, 34.462,\n",
       "       34.49 , 32.81 , 32.81 , 32.831, 32.845, 32.86 , 32.81 , 32.958,\n",
       "       33.174, 33.42 , 33.44 , 33.86 , 33.859, 33.863, 33.893, 34.   ,\n",
       "       34.01 , 34.082, 34.25 , 34.13 , 34.15 , 34.218, 34.289, 34.33 ,\n",
       "       32.5  , 32.48 , 32.507, 32.815, 32.92 , 32.985, 32.99 , 32.972,\n",
       "       32.9  , 32.939, 33.21 , 33.276, 33.569, 33.73 , 33.779, 33.93 ,\n",
       "       33.948, 33.998, 34.   , 34.021, 34.11 , 34.13 , 34.193, 34.22 ,\n",
       "       34.233, 34.268, 34.304, 34.341, 34.379, 34.418, 34.45 , 32.66 ,\n",
       "       32.59 , 32.59 , 32.59 , 32.613, 32.7  , 32.702, 32.77 , 32.811,\n",
       "       33.04 , 33.11 , 33.375, 33.51 , 33.582, 33.78 , 33.825, 33.935,\n",
       "       33.96 , 33.99 , 34.05 , 34.074, 34.136, 34.16 , 34.199, 34.267,\n",
       "       34.333, 34.34 , 34.387, 34.442, 34.498, 34.51 , 32.61 , 32.61 ,\n",
       "       32.579, 32.57 , 32.576, 32.66 , 32.677, 32.86 , 32.873, 32.95 ,\n",
       "       32.971, 33.129, 33.28 , 33.341, 33.77 , 33.774, 33.812, 33.863,\n",
       "       33.98 , 33.99 , 34.08 , 34.157, 34.18 , 34.216, 34.272, 34.329,\n",
       "       34.386, 34.43 , 32.86 , 32.86 , 32.856, 32.84 , 32.782, 32.68 ,\n",
       "       32.691, 32.92 , 32.899, 32.74 , 32.748, 32.877, 33.03 , 33.081,\n",
       "       33.66 , 33.669, 33.778, 33.869, 34.   , 34.005, 34.051, 34.07 ,\n",
       "       34.081, 34.176, 34.275, 34.36 , 34.367, 34.412, 34.458, 34.505,\n",
       "       34.52 , 32.18 , 32.23 , 32.197, 32.18 , 32.29 , 32.79 , 32.88 ,\n",
       "       33.054, 33.06 , 33.357, 33.589, 33.93 , 34.038, 34.04 , 34.04 ,\n",
       "       34.04 , 34.046, 34.13 , 34.22 , 34.228, 34.279, 34.318, 34.34 ,\n",
       "       34.349, 34.392, 34.435, 34.479, 34.49 , 32.18 , 32.162, 32.16 ,\n",
       "       32.183, 32.2  , 32.252, 32.631, 32.72 , 32.78 , 32.79 , 33.02 ,\n",
       "       33.13 , 33.373, 33.619, 33.68 , 33.91 , 33.95 , 33.946, 33.887,\n",
       "       33.86 , 34.011, 34.05 , 34.127, 34.189, 34.2  , 34.263, 34.343,\n",
       "       34.415, 34.45 , 34.458, 34.477, 34.497, 34.517, 34.52 , 32.63 ,\n",
       "       32.63 , 32.721, 32.77 , 32.784, 32.81 , 32.81 , 32.97 , 33.259,\n",
       "       33.55 , 33.86 , 33.863, 33.964, 33.98 , 33.983, 34.07 , 34.071,\n",
       "       34.094, 34.11 , 34.117, 34.19 , 34.268, 34.34 , 34.345, 34.393,\n",
       "       34.441, 34.491, 34.51 , 32.83 , 32.84 , 32.834, 32.83 , 32.83 ,\n",
       "       32.83 , 32.83 , 32.805, 32.79 , 32.782, 32.78 , 33.012, 33.188,\n",
       "       33.708, 33.78 , 33.888, 33.901, 33.92 , 33.972, 33.98 , 34.065,\n",
       "       34.173, 34.2  , 34.262, 34.332, 34.387, 34.4  , 34.417, 34.441,\n",
       "       34.466, 34.49 , 32.69 , 32.69 , 32.69 , 32.695, 32.712, 32.72 ,\n",
       "       32.823, 33.01 , 33.088, 33.379, 33.39 , 33.619, 33.69 , 33.789,\n",
       "       34.   , 34.002, 34.101, 34.16 , 34.16 , 34.166, 34.216, 34.22 ,\n",
       "       34.257, 34.296, 34.31 , 34.337, 34.382, 34.427, 34.44 , 34.41 ,\n",
       "       32.57 , 32.59 , 32.618, 32.63 , 32.651, 32.74 , 32.738, 32.831,\n",
       "       32.84 , 32.874, 33.238, 33.46 , 33.494, 33.833, 34.024, 34.07 ,\n",
       "       34.085, 34.16 , 34.16 , 34.16 , 34.272, 34.306, 34.326, 34.33 ,\n",
       "       34.343, 34.372, 34.401, 34.43 , 32.74 , 32.74 , 32.74 , 32.74 ,\n",
       "       32.74 , 32.74 , 32.74 , 32.74 , 32.781, 32.82 , 33.046, 33.17 ,\n",
       "       33.308, 33.462, 33.51 , 33.84 , 33.95 , 33.976, 34.027, 34.05 ,\n",
       "       34.099, 34.11 , 34.174, 34.253, 34.27 , 34.32 , 34.375, 34.421,\n",
       "       34.43 , 34.448, 34.473, 34.498, 34.51 , 32.95 , 32.95 , 32.95 ,\n",
       "       32.95 , 32.964, 33.01 , 33.01 , 33.01 , 33.043, 33.31 , 33.342,\n",
       "       33.511, 33.6  , 33.653, 33.93 , 33.929, 33.962, 34.02 , 34.032,\n",
       "       34.08 , 34.089, 34.128, 34.15 , 34.168, 34.218, 34.269, 34.33 ,\n",
       "       34.321, 34.374, 34.428, 34.46 , 32.47 , 32.47 , 32.47 , 32.475,\n",
       "       32.48 , 32.506, 32.923, 33.04 , 32.811, 32.76 , 32.939, 32.97 ,\n",
       "       33.157, 33.435, 33.57 , 33.863, 33.95 , 33.951, 33.986, 34.01 ,\n",
       "       34.073, 34.09 , 34.135, 34.187, 34.2  , 34.244, 34.304, 34.362,\n",
       "       34.38 , 34.409, 34.451, 34.494, 34.52 , 32.66 , 32.66 , 32.66 ,\n",
       "       32.66 , 32.66 , 32.665, 32.711, 32.72 , 32.786, 32.83 , 32.981,\n",
       "       33.04 , 33.223, 33.373, 33.4  , 33.748, 33.86 , 33.975, 33.996,\n",
       "       34.02 , 34.081, 34.09 , 34.15 , 34.218, 34.23 , 34.273, 34.321,\n",
       "       34.362, 34.37 , 34.401, 34.44 , 34.481, 34.5  ])"
      ]
     },
     "execution_count": 7,
     "metadata": {},
     "output_type": "execute_result"
    }
   ],
   "source": [
    "salinity_vector_numeric"
   ]
  },
  {
   "cell_type": "code",
   "execution_count": 8,
   "metadata": {},
   "outputs": [
    {
     "data": {
      "text/plain": [
       "33.601653746770026"
      ]
     },
     "execution_count": 8,
     "metadata": {},
     "output_type": "execute_result"
    }
   ],
   "source": [
    "media = np.mean(salinity_vector_numeric)\n",
    "media"
   ]
  },
  {
   "cell_type": "code",
   "execution_count": 9,
   "metadata": {},
   "outputs": [
    {
     "data": {
      "text/plain": [
       "33.8485"
      ]
     },
     "execution_count": 9,
     "metadata": {},
     "output_type": "execute_result"
    }
   ],
   "source": [
    "media = np.median(salinity_vector_numeric)\n",
    "media"
   ]
  },
  {
   "cell_type": "code",
   "execution_count": 10,
   "metadata": {},
   "outputs": [
    {
     "data": {
      "text/plain": [
       "0.6562158205240991"
      ]
     },
     "execution_count": 10,
     "metadata": {},
     "output_type": "execute_result"
    }
   ],
   "source": [
    "varianza =  np.std(salinity_vector_numeric)\n",
    "varianza"
   ]
  },
  {
   "cell_type": "code",
   "execution_count": 11,
   "metadata": {},
   "outputs": [
    {
     "data": {
      "text/plain": [
       "2.3600000000000065"
      ]
     },
     "execution_count": 11,
     "metadata": {},
     "output_type": "execute_result"
    }
   ],
   "source": [
    "rango = np.max(salinity_vector_numeric) - np.min(salinity_vector_numeric)\n",
    "rango"
   ]
  },
  {
   "cell_type": "markdown",
   "metadata": {},
   "source": [
    "## Ejercicio 3\n",
    "\n",
    "Usando la función `distribution_plotter` graficar las distribuciones de las variables Depthm, T_degC, O2Sat, Salnty\n",
    "\n",
    "<code>\n",
    "\n",
    "import seaborn as sns\n",
    "\n",
    "def distribution_plotter(data, label, bin_width=100):    \n",
    "    sns.set(rc={\"figure.figsize\": (7, 5)})\n",
    "    sns.set_style(\"white\")    \n",
    "    dist = sns.histplot(data, stat = 'count', kde = False, \n",
    "                        line_kws = {'linewidth':5}, \n",
    "                        binwidth = bin_width)    \n",
    "    dist.set_title('Distribucion ' + label + '\\n', fontsize = 16)\n",
    "</code>\n",
    "\n",
    "\n",
    "Qué pueden decir de estas distribuciones?\n",
    "\n",
    "Pongan atención en la elección del parámetro `bin_width` para que el gráfico sea informativo.\n"
   ]
  },
  {
   "cell_type": "code",
   "execution_count": 12,
   "metadata": {},
   "outputs": [],
   "source": [
    "import seaborn as sns\n",
    "\n",
    "def distribution_plotter(data, label, bin_width=100):    \n",
    "    sns.set(rc={\"figure.figsize\": (7, 5)})\n",
    "    sns.set_style(\"white\")    \n",
    "    dist = sns.histplot(data, stat = 'count', kde = False, \n",
    "                        line_kws = {'linewidth':5}, \n",
    "                        binwidth = bin_width)    \n",
    "    dist.set_title('Distribucion ' + label + '\\n', fontsize = 16)"
   ]
  },
  {
   "cell_type": "code",
   "execution_count": 14,
   "metadata": {},
   "outputs": [],
   "source": [
    "#Establecemos los indices de las colunas respectivas\n",
    "depthm_column_index = 2\n",
    "tdegC_column_index = 3\n",
    "o2sat_column_index = 4\n",
    "\n",
    "depthm_vector_numeric = data[:, depthm_column_index].astype(float)\n",
    "tdegC_vector_numeric = data[:, tdegC_column_index].astype(float)\n",
    "o2sat_vector_numeric = data[:, o2sat_column_index].astype(float)\n"
   ]
  },
  {
   "cell_type": "code",
   "execution_count": 15,
   "metadata": {},
   "outputs": [
    {
     "data": {
      "image/png": "[encoded data removed]",
      "text/plain": [
       "<Figure size 700x500 with 1 Axes>"
      ]
     },
     "metadata": {},
     "output_type": "display_data"
    }
   ],
   "source": [
    "distribution_plotter(depthm_vector_numeric, 'Profundidad')"
   ]
  },
  {
   "cell_type": "code",
   "execution_count": 25,
   "metadata": {},
   "outputs": [
    {
     "data": {
      "image/png": "[encoded data removed]",
      "text/plain": [
       "<Figure size 700x500 with 1 Axes>"
      ]
     },
     "metadata": {},
     "output_type": "display_data"
    }
   ],
   "source": [
    "distribution_plotter(tdegC_vector_numeric, 'Temperatura', 2)"
   ]
  },
  {
   "cell_type": "code",
   "execution_count": 23,
   "metadata": {},
   "outputs": [
    {
     "data": {
      "image/png": "[encoded data removed]",
      "text/plain": [
       "<Figure size 700x500 with 1 Axes>"
      ]
     },
     "metadata": {},
     "output_type": "display_data"
    }
   ],
   "source": [
    "distribution_plotter(o2sat_vector_numeric, 'Saturacion Oxigeno', 10)"
   ]
  },
  {
   "cell_type": "code",
   "execution_count": null,
   "metadata": {},
   "outputs": [],
   "source": [
    "\n"
   ]
  },
  {
   "cell_type": "markdown",
   "metadata": {},
   "source": [
    "## Ejercicio 4\n",
    "\n",
    "Calcular las matrices de correlación y covarianza de las variables Depthm, T_degC, O2Sat, Salnty\n",
    "\n",
    "A partir de estos resultados, elegir sólo una de estas variables para intentar predecir el valor de salinidad:\n",
    "\n",
    "* ¿Usarían para esto la matriz de correlación o la de covarianzas? ¿Por qué?\n",
    "\n",
    "* ¿Qué variable elegirían? Justificar la decisión.\n",
    "\n"
   ]
  },
  {
   "cell_type": "code",
   "execution_count": 26,
   "metadata": {},
   "outputs": [
    {
     "data": {
      "text/plain": [
       "array([[   0.   ,   10.3  ,   92.8  ,   33.03 ],\n",
       "       [   6.   ,   18.46 ,  111.8  ,   32.92 ],\n",
       "       [  10.   ,   10.29 ,   95.   ,   32.951],\n",
       "       ...,\n",
       "       [1100.   ,    3.51 ,    6.4  ,   34.44 ],\n",
       "       [1200.   ,    3.29 ,    7.3  ,   34.481],\n",
       "       [1247.   ,    3.18 ,    7.6  ,   34.5  ]])"
      ]
     },
     "execution_count": 26,
     "metadata": {},
     "output_type": "execute_result"
    }
   ],
   "source": [
    "variables_colums_index = range(2,6)\n",
    "\n",
    "X = data[:, variables_colums_index].astype(float)\n",
    "\n",
    "X"
   ]
  },
  {
   "cell_type": "code",
   "execution_count": 29,
   "metadata": {},
   "outputs": [
    {
     "data": {
      "text/plain": [
       "array([[ 1.22730122e+05, -1.11538543e+03, -1.10802454e+04,\n",
       "         1.92117557e+02],\n",
       "       [-1.11538543e+03,  1.54435978e+01,  1.32676236e+02,\n",
       "        -2.36152167e+00],\n",
       "       [-1.10802454e+04,  1.32676236e+02,  1.42106646e+03,\n",
       "        -2.40228614e+01],\n",
       "       [ 1.92117557e+02, -2.36152167e+00, -2.40228614e+01,\n",
       "         4.31176278e-01]])"
      ]
     },
     "execution_count": 29,
     "metadata": {},
     "output_type": "execute_result"
    }
   ],
   "source": [
    "cov = np.cov(X.T)\n",
    "cov"
   ]
  },
  {
   "cell_type": "code",
   "execution_count": 30,
   "metadata": {},
   "outputs": [
    {
     "data": {
      "text/plain": [
       "array([[ 1.        , -0.81016811, -0.83900896,  0.83514915],\n",
       "       [-0.81016811,  1.        ,  0.8955951 , -0.91514575],\n",
       "       [-0.83900896,  0.8955951 ,  1.        , -0.97048787],\n",
       "       [ 0.83514915, -0.91514575, -0.97048787,  1.        ]])"
      ]
     },
     "execution_count": 30,
     "metadata": {},
     "output_type": "execute_result"
    }
   ],
   "source": [
    "corr = np.corrcoef(X.T)\n",
    "corr"
   ]
  },
  {
   "cell_type": "code",
   "execution_count": 31,
   "metadata": {},
   "outputs": [],
   "source": [
    "xdepthm_column_index = 0\n",
    "xtdegc_column_index = 1\n",
    "xo2sat_column_index = 2\n",
    "xsalinity_column_index = 3\n"
   ]
  },
  {
   "cell_type": "code",
   "execution_count": 32,
   "metadata": {},
   "outputs": [
    {
     "data": {
      "text/plain": [
       "0"
      ]
     },
     "execution_count": 32,
     "metadata": {},
     "output_type": "execute_result"
    }
   ],
   "source": [
    "covarianzas_salinity = [ abs(cov[xsalinity_column_index, xdepthm_column_index]), \n",
    "                         abs(cov[xsalinity_column_index, xtdegc_column_index]), \n",
    "                        abs(cov[xsalinity_column_index, xo2sat_column_index]), \n",
    "                       ]\n",
    "\n",
    "correlacion_salinity = [ abs(corr[xsalinity_column_index, xdepthm_column_index]), \n",
    "                         abs(corr[xsalinity_column_index, xtdegc_column_index]), \n",
    "                         abs(corr[xsalinity_column_index, xo2sat_column_index]), \n",
    "                       ]\n",
    "\n",
    "np.argmax(covarianzas_salinity)"
   ]
  },
  {
   "cell_type": "code",
   "execution_count": 33,
   "metadata": {},
   "outputs": [
    {
     "data": {
      "text/plain": [
       "2"
      ]
     },
     "execution_count": 33,
     "metadata": {},
     "output_type": "execute_result"
    }
   ],
   "source": [
    "np.argmax(correlacion_salinity)"
   ]
  },
  {
   "attachments": {},
   "cell_type": "markdown",
   "metadata": {},
   "source": [
    "Escogeriamos la variable de saturacion del oxigeno pues es la que tiene mayor correlacion con respecto a la salinidad en la matriz de correlacion la cual esta estandarizada.\n"
   ]
  }
 ],
 "metadata": {
  "kernelspec": {
   "display_name": "Python 3",
   "language": "python",
   "name": "python3"
  },
  "language_info": {
   "codemirror_mode": {
    "name": "ipython",
    "version": 3
   },
   "file_extension": ".py",
   "mimetype": "text/x-python",
   "name": "python",
   "nbconvert_exporter": "python",
   "pygments_lexer": "ipython3",
   "version": "3.10.9"
  }
 },
 "nbformat": 4,
 "nbformat_minor": 4
}
