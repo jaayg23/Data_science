{
 "cells": [
  {
   "attachments": {},
   "cell_type": "markdown",
   "metadata": {},
   "source": [
    "# Setup\n",
    "\n",
    "Para trabajar con geopandas debemos crear un **nuevo ambiente** en Anaconda e instalar algunas bibliotecas siguiendo estas instrucciones:\n",
    "\n",
    "Desde Anaconda Prompt en Windows, y desde la terminal en Linux o Mac vamos a ejeutar una a una esats lineas:\n",
    "\n",
    "<code>conda create --yes --name dhdsblend2021_geopandas python=3.7</code>\n",
    "\n",
    "<code>conda activate dhdsblend2021_geopandas</code>\n",
    "\n",
    "<code>conda install jupyterlab=2.2.6</code>\n",
    "\n",
    "<code>conda install -c conda-forge pyproj=2.4.2.post1</code>\n",
    "\n",
    "<code>conda install -c conda-forge descartes=1.1.0</code>\n",
    "\n",
    "<code>conda install -c conda-forge geopandas=0.8.1</code>\n",
    "\n",
    "<code>conda install -c conda-forge geopy=2.0.0</code>\n",
    "\n",
    "Una vez instaladas las bibliotecas, **cerramos jupyter lab**, y volvemos a **iniciarlo desde el ambiente recién creado: dhdsblend2021_geopandas**\n",
    "\n",
    "Después de hacer esto, los import de la siguiente celda deberán funcionar sin dar error."
   ]
  },
  {
   "cell_type": "code",
   "execution_count": 1,
   "metadata": {
    "slideshow": {
     "slide_type": "skip"
    }
   },
   "outputs": [],
   "source": [
    "import pandas as pd\n",
    "import geopandas as gpd\n",
    "import matplotlib.pyplot as plt\n",
    "import descartes\n",
    "import pyproj"
   ]
  },
  {
   "attachments": {},
   "cell_type": "markdown",
   "metadata": {
    "slideshow": {
     "slide_type": "slide"
    }
   },
   "source": [
    "---\n",
    "\n",
    "<img src='../../../common/logo_DH.png' align='left' width=35%/>"
   ]
  },
  {
   "attachments": {},
   "cell_type": "markdown",
   "metadata": {
    "slideshow": {
     "slide_type": "slide"
    },
    "toc-hr-collapsed": false
   },
   "source": [
    "\n",
    "# GeoPandas\n"
   ]
  },
  {
   "attachments": {},
   "cell_type": "markdown",
   "metadata": {
    "slideshow": {
     "slide_type": "slide"
    }
   },
   "source": [
    "<a id=\"section_toc\"></a> \n",
    "## Tabla de Contenidos\n",
    "\n",
    "[Intro](#section_intro)\n",
    "\n",
    "$\\hspace{.5cm}$[Sistema de coordenadas geográficas](#section_coordenadas)\n",
    "\n",
    "[Tipos de datos espaciales](#section_tipo_datos)\n",
    "\n",
    "$\\hspace{.5cm}$[Raster](#section_raster)\n",
    "\n",
    "$\\hspace{.5cm}$[Vectorial](#section_vectorial)\n",
    "\n",
    "[Archivos de Datos Espaciales](#section_archivos)\n",
    "\n",
    "$\\hspace{.5cm}$[Ejemplos](#section_ejemplo_archivos)\n",
    "\n",
    "---"
   ]
  },
  {
   "attachments": {},
   "cell_type": "markdown",
   "metadata": {
    "slideshow": {
     "slide_type": "slide"
    },
    "toc-hr-collapsed": false
   },
   "source": [
    "\n",
    "## Sistemas de Información Geográfica (GIS)\n"
   ]
  },
  {
   "attachments": {},
   "cell_type": "markdown",
   "metadata": {
    "slideshow": {
     "slide_type": "slide"
    }
   },
   "source": [
    "<a id=\"section_intro\"></a> \n",
    "###  Intro\n",
    "[volver a TOC](#section_toc)\n",
    "\n",
    "#### Documentación \n",
    "https://www.esri.cl/es-cl/que-es-el-gis/que-es-gis"
   ]
  },
  {
   "attachments": {},
   "cell_type": "markdown",
   "metadata": {
    "slideshow": {
     "slide_type": "slide"
    }
   },
   "source": [
    "Los **Sistemas de Información Geográfica (SIG)** (o GIS en inglés), se definen como sistemas que permiten almacenar datos geoespaciales para su consulta, manipulación y representación. La representación de estos datos es el campo de estudio de la *Cartografía*. A partir del trabajo con los SIG, nació una nueva disciplina científica, conocida como *Ciencia de la Información Geográfica*.\n",
    "\n",
    "<div>\n",
    "    <div class = \"mapa\">\n",
    "        <img src='img/M1_Clase_07_1_001_SIG.jpg' alt=\"Ejemplo de SIG\" width=30% height=40%>\n",
    "        <p><i>Ejemplo de SIG</i></p>\n",
    "    </div>\n",
    "</div>"
   ]
  },
  {
   "attachments": {},
   "cell_type": "markdown",
   "metadata": {
    "slideshow": {
     "slide_type": "slide"
    }
   },
   "source": [
    "Los **Datos Geoespaciales**, también llamados información geográfica, geodatos o simplemente datos espaciales, son datos georreferenciados. La *georreferenciación* es la técnica de posicionamiento espacial de una entidad en una localización geográfica única y bien definida en un *sistema de coordenadas*.\n",
    "\n",
    "Los geodatos poseen información *implícita* (cantidad de habitantes, una referencia catastral, una dirección postal, etc.) o *explícita* (coordenadas obtenidas a partir de datos capturados mediante GPS, etc.).\n",
    "\n",
    "La razón fundamental para utilizar un SIG (GIS en inglés) es la gestión de la información geoespacial. El sistema permite separar la información en diferentes capas temáticas y las almacena independientemente.\n",
    "\n",
    "\n",
    "<div class = \"mapa\">\n",
    "    <img src='img/M1_Clase_07_1_002_Capas.PNG' alt=\"Varias capas temáticas\" width=30% height=40%>\n",
    "    <p><i>Varias capas temáticas</i></p>\n",
    "</div>\n",
    "\n",
    "\n",
    "Ejemplos de uso de SIG: localización de lugares, cálculo de rutas óptimas, relación entre localidades usando variables geoespaciales asociadas a ellas, por ejemplo, pozos petroleros cercanos con igual profundidad, etc."
   ]
  },
  {
   "attachments": {},
   "cell_type": "markdown",
   "metadata": {
    "slideshow": {
     "slide_type": "skip"
    }
   },
   "source": [
    "<a id=\"section_coordenadas\"></a> \n",
    "### Sistema de coordenadas geográficas\n",
    "[volver a TOC](#section_toc)\n",
    "\n",
    "El sistema más usual es el que referencia una posición espacial mediante su <i>latitud</i> y <i>longitud</i>.\n",
    "      \n",
    "Si consideramos a la Tierra como una esfera (o esferoide), existen dos líneas fundamentales: el <i>meridiano de Greenwich</i>, que va de un polo a otro, y el <i>Ecuador</i>, que cruza al eje de rotación por el centro de la esfera. Las líneas paralelas al Ecuador se denominan <b>latitud</b>, y las lineas paralelas a Greenwich, <b>longitud</b>.\n",
    "      \n",
    "\n",
    "<div class = \"mapa\">\n",
    "    <img src='img/M1_Clase_07_1_008_Latitud_Longitud.PNG' alt=\"Latitud y Longitud\" width=40% height=30%>\n",
    "    <p><i>Latitud y Longitud</i></p>\n",
    "</div>\n",
    "\n",
    "      \n",
    "La <i>latitud</i> se indica con valores positivos entre 0 y 90 para las líneas al norte del Ecuador, y con valores negativos entre 0 y -90 para las que están al sur. Otra forma de nombrarlas es usando siempre un valor positivo entre 0 y 90, y agregando si corresponde al Norte o al Sur.\n",
    "      \n",
    "La <i>longitud</i> se indica en forma similar, pero con valores positivos entre 0 y 180 para las líneas al este de Greenwich, y con valores negativos entre 0 y -180 para las que están al oeste. Otra forma de nombrarlas es usando siempre un valor positivo entre 0 y 180, y agregando si corresponde al este o al oeste."
   ]
  },
  {
   "attachments": {},
   "cell_type": "markdown",
   "metadata": {
    "slideshow": {
     "slide_type": "skip"
    }
   },
   "source": [
    "<div id=\"caja\" style=\"float:left;width: 100%;\">\n",
    "  <div style=\"float:left;width: 15%;\"><img src=\"../../../common/icons/haciendo_foco.png\" style=\"align:left\"/> </div>\n",
    "  <div style=\"float:left;width: 85%;\"><label>\n",
    "      <p><i>También se pueden usar como coordenadas geográficas una medida que use grados, minutos y segundos.</i> Se necesitan dos datos: cuantos grados respecto al Ecuador, hacia el Norte o el Sur, y cuantos grados respecto al Meridiano de Greenwich, hacia el Este u el Oeste.</p>\n",
    "    \n",
    "<div>\n",
    "    <div class = \"mapa\">\n",
    "        <img src='img/M1_Clase_07_1_009_Medicion.PNG' alt=\"Referencia a Latitud y Longitud\" width=50% height=40%>\n",
    "        <p><i>Relación entre mediciones</i></p>\n",
    "    </div>\n",
    "</div> \n",
    "\n",
    "<div>\n",
    "    <div class = \"mapa\">\n",
    "        <img src='img/M1_Clase_07_1_010_Bogota.PNG' alt=\"Coordenadas de Bogotá\" width=85% height=40%>\n",
    "        <p><i>Coordenadas de Bogotá, según las distintas mediciones: Coordenadas decimales indica su latitud y longitud; GMS su medición en grados. </i></p>\n",
    "    </div>\n",
    "</div> \n",
    "\n",
    "</label></div>\n",
    "</div>"
   ]
  },
  {
   "attachments": {},
   "cell_type": "markdown",
   "metadata": {
    "slideshow": {
     "slide_type": "skip"
    }
   },
   "source": [
    "<a id=\"section_tipo_datos\"></a> \n",
    "### Tipos de Datos Geoespaciales\n",
    "[volver a TOC](#section_toc)\n",
    "\n",
    "Existen dos tipos de datos geoespaciales en un SIG: *raster* y *vectorial*."
   ]
  },
  {
   "attachments": {},
   "cell_type": "markdown",
   "metadata": {
    "slideshow": {
     "slide_type": "skip"
    }
   },
   "source": [
    "<a id=\"section_raster\"></a> \n",
    "#### Tipos de Datos Raster\n",
    "[volver a TOC](#section_toc)\n",
    "\n",
    "El tipo de datos **raster** es lo que consideramos imagenes digitales, o mapas. Se representan mediante mallas o cuadriculas; divide el espacio en celdas regulares donde cada una de ellas representa un único valor. Similar a la fotografía digital donde el píxel es la unidad menor de información de una imagen, y una combinación de estos píxeles crea una imagen. \n",
    "\n",
    "Este tipo de datos se centra en las propiedades del espacio, por ejemplo, elevaciones sobre un terreno, nivel de luz, variedad de cultivos. No siendo tan precisos en la localizacion en el espacio.\n",
    "\n",
    "<div>\n",
    "    <div class = \"mapa\">\n",
    "        <img src='img/M1_Clase_07_1_003_Mapa.PNG' alt=\"Tipo de dato Raster\" width=30% height=40%>\n",
    "        <p><i>Tipo de dato Raster</i></p>\n",
    "    </div>\n",
    "    <div class = \"mapa\">\n",
    "        <img src='img/M1_Clase_07_1_004_Mapa_Pixel.PNG' alt=\"Tipo de dato Raster pixelado\" width=30% height=40%>\n",
    "        <p><i>Tipo de dato Raster pixelado</i></p>\n",
    "    </div>\n",
    "</div>"
   ]
  },
  {
   "attachments": {},
   "cell_type": "markdown",
   "metadata": {
    "slideshow": {
     "slide_type": "skip"
    }
   },
   "source": [
    "<a id=\"section_vectorial\"></a> \n",
    "#### Tipos de Datos Vectorial\n",
    "[volver a TOC](#section_toc)\n",
    "\n",
    "El tipo de datos **vectorial** representan objetos que provienen de diversas fuentes: localidades, negocios, barrios, rutas, nivel de contaminación, etc. Son datos discretos, es decir, con limites definidos. Y con una localizacion precisa sobre el espacio. \n",
    "\n",
    "<div>\n",
    "    <div class = \"mapa\">\n",
    "        <img src='img/M1_Clase_07_1_005_Vectorial.PNG' alt=\"Tipo de dato Vectorial\" width=30% height=40%>\n",
    "        <p><i>Tipo de dato Vectorial</i></p>\n",
    "    </div>\n",
    "</div>\n",
    "\n",
    "Para modelar digitalmente los objetos se utilizan tres elementos geométricos: el punto, la línea y el polígono.\n",
    "\n",
    "<div>\n",
    "    <div class = \"mapa\">\n",
    "        <img src='img/M1_Clase_07_1_006_Vectorial.PNG' alt=\"Elementos geométricos\" width=30% height=40%>\n",
    "        <p><i>Elementos geométricos</i></p>\n",
    "    </div>\n",
    "</div>\n",
    "\n",
    "Los **puntos** se utilizan para las entidades geográficas que mejor pueden ser expresadas por un único punto de referencia. Por ejemplo, estaciones de subte, edificios, localizaciones de los pozos, puntos de interés.\n",
    "\n",
    "Las **líneas unidimensionales o polilíneas** son usadas para rasgos lineales como ríos, caminos, ferrocarriles, líneas topográficas o curvas de nivel. En los elementos lineales puede medirse la *distancia*.\n",
    "\n",
    "Los **polígonos** se utilizan para representar elementos geográficos que cubren un área particular de la superficie de la tierra. Por ejemplo, lagos, límites de parques naturales, yacimientos, provincias. Con ellos se pueden medir el *perímetro* y el *área*.\n",
    "\n",
    "Recordar que en ambos tipos de datos necesitamos las coordenadas de su ubicación geográfica.\n",
    "\n",
    "<div>\n",
    "    <div class = \"mapa\">\n",
    "        <img src='img/M1_Clase_07_1_007_Mapa_Combinado.PNG' alt=\"Tipo de datos combinados\" width=40% height=50%>\n",
    "        <p><i>Tipo de datos combinados. Raster y Vectorial</i></p>\n",
    "    </div>\n",
    "</div>"
   ]
  },
  {
   "attachments": {},
   "cell_type": "markdown",
   "metadata": {
    "slideshow": {
     "slide_type": "skip"
    }
   },
   "source": [
    "<a id=\"section_archivos\"></a> \n",
    "### Archivos de Datos Geoespaciales\n",
    "[volver a TOC](#section_toc)\n",
    "\n",
    "En general, se denomina formato SIG a los formatos de archivos con datos geoespaciales.\n",
    "\n",
    "Los datos geoespaciales de tipo *raster* se almacenan en los tipos de archivos que conocemos para almacenar imágenes. Por ejemplo, los formatos TIFF, JPEG, PNG, etc. \n",
    "\n",
    "Los datos geoespaciales de tipo *vectorial* más comunes son: \n",
    "\n",
    "- SHP (Shapefile)\n",
    "\n",
    "  El archivo shapefile es el tipo de archivo geoespacial más común. Todos los formatos comerciales y de código abierto aceptan shapefile como formatos SIG. Se ha convertido en el estándar de la industria.\n",
    "  \n",
    "   No es un único archivo, un shapefile se compone de varios archivos que se leen como uno único. El mínimo requerido es de tres: el .shp almacena las entidades geométricas, el .shx almacena el índice de las entidades geométricas y el .dbf es la base de datos, en formato dBASE. Opcionalmente puede tener un .prj, .sbn, .sbx, .fbn, .fbx .ain, .aih, .shp.xml.\n",
    "\n",
    "- CSV / GeoCSV\n",
    "\n",
    "  CSV (Comma-separated values) representa datos en forma de tabla separados por comas. Sirve para almacenar información alfanumérica con la posibilidad de almacenar las coordenadas y posteriormente transformarlo en una figura geometrica. Es usual encontrarlos en publicaciones de organismos, por ejemplo https://data.buenosaires.gob.ar/dataset. \n",
    "\n",
    "  La ventaja es que estos ficheros ocupan poco espacio y es fácil compartirlos.\n",
    "\n",
    "  GeoCSV es el formato de archivo tabular CSV con una extensión opcional de geometría espacial. Tiene dos variantes: la opción Punto X/Y o la opción WKT.\n",
    "\n",
    "  - La opción WKT es la preferida, ya que se almacena en una única columna de tipo String el constructor, por ejemplo «POINT (-4.5454 45.2211)», lo que significa -4.5454 oeste y 45.2211 norte (longitud/latitud). Esta opción soporta los tipos de geometría Point, LineString, Polygon, MultiPoint, MultiLineString, MultiPolygon e incluso GeometryCollection y ARCos.\n",
    "\n",
    "  - La opción Punto X/Y solo puede almacenar puntos.\n",
    "\n",
    "- GeoJSON (Javascript Object Notation)\n",
    "\n",
    "  Es un formato de intercambio de datos geoespaciales basado en JSON. GeoJSON define la gramática basada en el estandar WKT.\n",
    "\n",
    "- KMZ/KML (Keyhole Markup Language)\n",
    "\n",
    "  KML significa Keyhole Markup Language. Este formato SIG está basado en XML y lo utiliza principalmente Google Earth. KML fue desarrollado por Keyhole Inc., que más tarde fue adquirida por Google. KMZ (KML-Zipped) reemplazó a KML como el formato geoespacial predeterminado de Google Earth porque es una versión comprimida del archivo. KML/KMZ se convirtió en un estándar internacional del Open Geospatial Consortium en 2008.\n",
    "\n",
    "- OSM (OpenStreetMap)\n",
    "\n",
    "  OpenStreetMap es el mayor proyecto de datos abiertos GIS que proporciona datos de mapas para miles de sitios web, aplicaciones móviles y dispositivos de hardware.\n",
    "\n",
    "- PostGIS + PostgreSQL\n",
    "\n",
    "  Open Source PostGIS extiende la base de datos PostgreSQL con datos geoespaciales."
   ]
  },
  {
   "attachments": {},
   "cell_type": "markdown",
   "metadata": {
    "slideshow": {
     "slide_type": "skip"
    }
   },
   "source": [
    "<div id=\"caja4\" style=\"float:left;width: 100%;\">\n",
    "  <div style=\"float:left;width: 15%;\"><img src=\"../../../common/icons/haciendo_foco.png\" style=\"align:left\"/> </div>\n",
    "  <div style=\"float:left;width: 85%;\"><label>Con <b>GeoPandas</b> se pueden leer muchos de estos tipos de archivos usando la función geopandas.read_file.</label></div>\n",
    "</div>\n"
   ]
  },
  {
   "attachments": {},
   "cell_type": "markdown",
   "metadata": {},
   "source": [
    "<a id=\"section_ejemplo_archivos\"></a> \n",
    "#### Ejemplos de archivos de datos geoespaciales\n",
    "[volver a TOC](#section_toc)"
   ]
  },
  {
   "attachments": {},
   "cell_type": "markdown",
   "metadata": {},
   "source": [
    "- Archivo con formato GeoCSV.\n",
    "  Es un archivo csv, con datos de los barrios de Buenos Aires, con una extension geoespacial que se registra en la columna WKT. Esta columna contiene el elemento geométrico *Poligono* que representa el límite de cada barrio."
   ]
  },
  {
   "cell_type": "code",
   "execution_count": 2,
   "metadata": {
    "colab": {
     "base_uri": "https://localhost:8080/",
     "height": 289
    },
    "colab_type": "code",
    "executionInfo": {
     "elapsed": 830,
     "status": "ok",
     "timestamp": 1567641541793,
     "user": {
      "displayName": "Julián Ansaldo",
      "photoUrl": "https://lh3.googleusercontent.com/a-/AAuE7mCQI0iy6sTR9TfuLMfXZ90XCqxfdAQtMEcBkjfs1w=s64",
      "userId": "10643095115217147090"
     },
     "user_tz": 180
    },
    "id": "vRpX0jS6G_x5",
    "outputId": "178eafb8-17f3-4205-fcbe-9368fbd51efa"
   },
   "outputs": [
    {
     "data": {
      "text/html": [
       "<div>\n",
       "<style scoped>\n",
       "    .dataframe tbody tr th:only-of-type {\n",
       "        vertical-align: middle;\n",
       "    }\n",
       "\n",
       "    .dataframe tbody tr th {\n",
       "        vertical-align: top;\n",
       "    }\n",
       "\n",
       "    .dataframe thead th {\n",
       "        text-align: right;\n",
       "    }\n",
       "</style>\n",
       "<table border=\"1\" class=\"dataframe\">\n",
       "  <thead>\n",
       "    <tr style=\"text-align: right;\">\n",
       "      <th></th>\n",
       "      <th>WKT</th>\n",
       "      <th>BARRIO</th>\n",
       "      <th>COMUNA</th>\n",
       "      <th>PERIMETRO</th>\n",
       "      <th>AREA</th>\n",
       "      <th>geometry</th>\n",
       "    </tr>\n",
       "  </thead>\n",
       "  <tbody>\n",
       "    <tr>\n",
       "      <th>0</th>\n",
       "      <td>POLYGON ((-58.4528200492791 -34.5959886570639,...</td>\n",
       "      <td>CHACARITA</td>\n",
       "      <td>15.00000000000</td>\n",
       "      <td>7725.69522770465</td>\n",
       "      <td>3118100.97239645380</td>\n",
       "      <td>POLYGON ((-58.45282 -34.59599, -58.45366 -34.5...</td>\n",
       "    </tr>\n",
       "    <tr>\n",
       "      <th>1</th>\n",
       "      <td>POLYGON ((-58.4655768128541 -34.5965577078058,...</td>\n",
       "      <td>PATERNAL</td>\n",
       "      <td>15.00000000000</td>\n",
       "      <td>7087.51329532852</td>\n",
       "      <td>2229829.03362795900</td>\n",
       "      <td>POLYGON ((-58.46558 -34.59656, -58.46562 -34.5...</td>\n",
       "    </tr>\n",
       "    <tr>\n",
       "      <th>2</th>\n",
       "      <td>POLYGON ((-58.4237529813037 -34.5978273383243,...</td>\n",
       "      <td>VILLA CRESPO</td>\n",
       "      <td>15.00000000000</td>\n",
       "      <td>8132.69934845057</td>\n",
       "      <td>3613583.69021913320</td>\n",
       "      <td>POLYGON ((-58.42375 -34.59783, -58.42495 -34.5...</td>\n",
       "    </tr>\n",
       "    <tr>\n",
       "      <th>3</th>\n",
       "      <td>POLYGON ((-58.4946097568899 -34.6148652395239,...</td>\n",
       "      <td>VILLA DEL PARQUE</td>\n",
       "      <td>11.00000000000</td>\n",
       "      <td>7705.38979708046</td>\n",
       "      <td>3399595.64148383770</td>\n",
       "      <td>POLYGON ((-58.49461 -34.61487, -58.49479 -34.6...</td>\n",
       "    </tr>\n",
       "    <tr>\n",
       "      <th>4</th>\n",
       "      <td>POLYGON ((-58.4128700313089 -34.6141162515854,...</td>\n",
       "      <td>ALMAGRO</td>\n",
       "      <td>5.00000000000</td>\n",
       "      <td>8537.90136849144</td>\n",
       "      <td>4050752.24523803680</td>\n",
       "      <td>POLYGON ((-58.41287 -34.61412, -58.41282 -34.6...</td>\n",
       "    </tr>\n",
       "  </tbody>\n",
       "</table>\n",
       "</div>"
      ],
      "text/plain": [
       "                                                 WKT            BARRIO  \\\n",
       "0  POLYGON ((-58.4528200492791 -34.5959886570639,...         CHACARITA   \n",
       "1  POLYGON ((-58.4655768128541 -34.5965577078058,...          PATERNAL   \n",
       "2  POLYGON ((-58.4237529813037 -34.5978273383243,...      VILLA CRESPO   \n",
       "3  POLYGON ((-58.4946097568899 -34.6148652395239,...  VILLA DEL PARQUE   \n",
       "4  POLYGON ((-58.4128700313089 -34.6141162515854,...           ALMAGRO   \n",
       "\n",
       "           COMUNA         PERIMETRO                 AREA  \\\n",
       "0  15.00000000000  7725.69522770465  3118100.97239645380   \n",
       "1  15.00000000000  7087.51329532852  2229829.03362795900   \n",
       "2  15.00000000000  8132.69934845057  3613583.69021913320   \n",
       "3  11.00000000000  7705.38979708046  3399595.64148383770   \n",
       "4   5.00000000000  8537.90136849144  4050752.24523803680   \n",
       "\n",
       "                                            geometry  \n",
       "0  POLYGON ((-58.45282 -34.59599, -58.45366 -34.5...  \n",
       "1  POLYGON ((-58.46558 -34.59656, -58.46562 -34.5...  \n",
       "2  POLYGON ((-58.42375 -34.59783, -58.42495 -34.5...  \n",
       "3  POLYGON ((-58.49461 -34.61487, -58.49479 -34.6...  \n",
       "4  POLYGON ((-58.41287 -34.61412, -58.41282 -34.6...  "
      ]
     },
     "execution_count": 2,
     "metadata": {},
     "output_type": "execute_result"
    }
   ],
   "source": [
    "barrios = gpd.read_file(\"../Data/barrios.csv\", encoding='latin1')\n",
    "barrios.head()"
   ]
  },
  {
   "attachments": {},
   "cell_type": "markdown",
   "metadata": {},
   "source": [
    "- Archivo con el formato SHP.\n",
    "  Genera un data frame con una columna especial llamada geometry, que contiene la figura geoespacial. En este caso son dos poligonos que conforman el contorno de una parque nacional."
   ]
  },
  {
   "cell_type": "code",
   "execution_count": 3,
   "metadata": {},
   "outputs": [
    {
     "data": {
      "text/html": [
       "<div>\n",
       "<style scoped>\n",
       "    .dataframe tbody tr th:only-of-type {\n",
       "        vertical-align: middle;\n",
       "    }\n",
       "\n",
       "    .dataframe tbody tr th {\n",
       "        vertical-align: top;\n",
       "    }\n",
       "\n",
       "    .dataframe thead th {\n",
       "        text-align: right;\n",
       "    }\n",
       "</style>\n",
       "<table border=\"1\" class=\"dataframe\">\n",
       "  <thead>\n",
       "    <tr style=\"text-align: right;\">\n",
       "      <th></th>\n",
       "      <th>geometry</th>\n",
       "    </tr>\n",
       "  </thead>\n",
       "  <tbody>\n",
       "    <tr>\n",
       "      <th>0</th>\n",
       "      <td>POLYGON ((756107.121 7150870.957, 756106.485 7...</td>\n",
       "    </tr>\n",
       "    <tr>\n",
       "      <th>1</th>\n",
       "      <td>POLYGON ((756107.121 7150870.957, 756115.780 7...</td>\n",
       "    </tr>\n",
       "  </tbody>\n",
       "</table>\n",
       "</div>"
      ],
      "text/plain": [
       "                                            geometry\n",
       "0  POLYGON ((756107.121 7150870.957, 756106.485 7...\n",
       "1  POLYGON ((756107.121 7150870.957, 756115.780 7..."
      ]
     },
     "execution_count": 3,
     "metadata": {},
     "output_type": "execute_result"
    }
   ],
   "source": [
    "parque = gpd.read_file(\"../Data/parque_reserva.shp\")\n",
    "parque.head()"
   ]
  },
  {
   "cell_type": "code",
   "execution_count": 4,
   "metadata": {},
   "outputs": [
    {
     "data": {
      "text/plain": [
       "<matplotlib.axes._subplots.AxesSubplot at 0x1f44ced1b08>"
      ]
     },
     "execution_count": 4,
     "metadata": {},
     "output_type": "execute_result"
    },
    {
     "data": {
      "image/png": "[encoded data removed]",
      "text/plain": [
       "<Figure size 640x480 with 1 Axes>"
      ]
     },
     "metadata": {},
     "output_type": "display_data"
    }
   ],
   "source": [
    "parque.plot()"
   ]
  },
  {
   "attachments": {},
   "cell_type": "markdown",
   "metadata": {
    "slideshow": {
     "slide_type": "skip"
    }
   },
   "source": [
    "<div id=\"caja5\" style=\"float:left;width: 100%;\">\n",
    "  <div style=\"float:left;width: 15%;\"><img src=\"../../../common/icons/ponete_a_prueba.png\" style=\"align:left\"/> </div>\n",
    "  <div style=\"float:left;width: 85%;\"><label>   \n",
    "Leer el archivo \"../Data/estaciones-de-subte.csv\" y explicar el contenido. Que tipo de archivo geoespacial es? Que formato tiene?\n",
    "</label></div>\n",
    "</div>"
   ]
  },
  {
   "cell_type": "code",
   "execution_count": 8,
   "metadata": {},
   "outputs": [
    {
     "data": {
      "text/html": [
       "<div>\n",
       "<style scoped>\n",
       "    .dataframe tbody tr th:only-of-type {\n",
       "        vertical-align: middle;\n",
       "    }\n",
       "\n",
       "    .dataframe tbody tr th {\n",
       "        vertical-align: top;\n",
       "    }\n",
       "\n",
       "    .dataframe thead th {\n",
       "        text-align: right;\n",
       "    }\n",
       "</style>\n",
       "<table border=\"1\" class=\"dataframe\">\n",
       "  <thead>\n",
       "    <tr style=\"text-align: right;\">\n",
       "      <th></th>\n",
       "      <th>long</th>\n",
       "      <th>lat</th>\n",
       "      <th>id</th>\n",
       "      <th>estacion</th>\n",
       "      <th>linea</th>\n",
       "      <th>geometry</th>\n",
       "    </tr>\n",
       "  </thead>\n",
       "  <tbody>\n",
       "    <tr>\n",
       "      <th>0</th>\n",
       "      <td>-58.3989275853601</td>\n",
       "      <td>-34.635750180343</td>\n",
       "      <td>1.0</td>\n",
       "      <td>CASEROS</td>\n",
       "      <td>H</td>\n",
       "      <td>None</td>\n",
       "    </tr>\n",
       "    <tr>\n",
       "      <th>1</th>\n",
       "      <td>-58.4009695560165</td>\n",
       "      <td>-34.6293756575728</td>\n",
       "      <td>2.0</td>\n",
       "      <td>INCLAN - MEZQUITA AL AHMAD</td>\n",
       "      <td>H</td>\n",
       "      <td>None</td>\n",
       "    </tr>\n",
       "    <tr>\n",
       "      <th>2</th>\n",
       "      <td>-58.402322730424</td>\n",
       "      <td>-34.6230923205019</td>\n",
       "      <td>3.0</td>\n",
       "      <td>HUMBERTO 1Â°</td>\n",
       "      <td>H</td>\n",
       "      <td>None</td>\n",
       "    </tr>\n",
       "    <tr>\n",
       "      <th>3</th>\n",
       "      <td>-58.40473171649</td>\n",
       "      <td>-34.6152421522706</td>\n",
       "      <td>4.0</td>\n",
       "      <td>VENEZUELA</td>\n",
       "      <td>H</td>\n",
       "      <td>None</td>\n",
       "    </tr>\n",
       "    <tr>\n",
       "      <th>4</th>\n",
       "      <td>-58.4060363810352</td>\n",
       "      <td>-34.6089352416215</td>\n",
       "      <td>5.0</td>\n",
       "      <td>ONCE - 30 DE DICIEMBRE</td>\n",
       "      <td>H</td>\n",
       "      <td>None</td>\n",
       "    </tr>\n",
       "  </tbody>\n",
       "</table>\n",
       "</div>"
      ],
      "text/plain": [
       "                long                lat   id                    estacion  \\\n",
       "0  -58.3989275853601   -34.635750180343  1.0                     CASEROS   \n",
       "1  -58.4009695560165  -34.6293756575728  2.0  INCLAN - MEZQUITA AL AHMAD   \n",
       "2   -58.402322730424  -34.6230923205019  3.0                HUMBERTO 1Â°   \n",
       "3    -58.40473171649  -34.6152421522706  4.0                   VENEZUELA   \n",
       "4  -58.4060363810352  -34.6089352416215  5.0      ONCE - 30 DE DICIEMBRE   \n",
       "\n",
       "  linea geometry  \n",
       "0     H     None  \n",
       "1     H     None  \n",
       "2     H     None  \n",
       "3     H     None  \n",
       "4     H     None  "
      ]
     },
     "execution_count": 8,
     "metadata": {},
     "output_type": "execute_result"
    }
   ],
   "source": [
    "estaciones = gpd.read_file(\"../Data/estaciones-de-subte.csv\", encoding='latin1')\n",
    "estaciones.head()"
   ]
  },
  {
   "attachments": {},
   "cell_type": "markdown",
   "metadata": {},
   "source": [
    "Es un archivo de tipo csv con la longitud y latitud especifica de las estaciones de subway de buenos aires."
   ]
  },
  {
   "attachments": {},
   "cell_type": "markdown",
   "metadata": {
    "slideshow": {
     "slide_type": "slide"
    }
   },
   "source": [
    "---\n",
    "\n",
    "<a id=\"section_referencias\"></a> \n",
    "### Referencias\n",
    "[volver a TOC](#section_toc)\n",
    "\n",
    "Sistemas de Información Geográfica\n",
    "\n",
    "https://www.um.es/geograf/sigmur/sigpdf/temario.pdf\n",
    "\n",
    "http://www.iirsa.org/admin_iirsa_web/Uploads/Documents/geo_baires09_sig.pdf\n",
    "\n",
    "Formatos SIG\n",
    "\n",
    "https://mappinggis.com/2013/11/los-formatos-gis-vectoriales-mas-populares/\n",
    "\n",
    "Open Street Map\n",
    "\n",
    "https://www.openstreetmap.org/\n",
    "\n",
    "Post GIS\n",
    "\n",
    "https://postgis.net/\n",
    "\n",
    "Geopandas Documentacion\n",
    "\n",
    "https://geopandas.org/index.html"
   ]
  },
  {
   "cell_type": "code",
   "execution_count": null,
   "metadata": {},
   "outputs": [],
   "source": []
  }
 ],
 "metadata": {
  "kernelspec": {
   "display_name": "Python 3",
   "language": "python",
   "name": "python3"
  },
  "language_info": {
   "codemirror_mode": {
    "name": "ipython",
    "version": 3
   },
   "file_extension": ".py",
   "mimetype": "text/x-python",
   "name": "python",
   "nbconvert_exporter": "python",
   "pygments_lexer": "ipython3",
   "version": "3.7.16"
  }
 },
 "nbformat": 4,
 "nbformat_minor": 4
}
