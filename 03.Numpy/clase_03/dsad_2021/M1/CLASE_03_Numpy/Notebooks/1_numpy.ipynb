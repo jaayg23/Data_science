{
 "cells": [
  {
   "cell_type": "code",
   "execution_count": 22,
   "metadata": {
    "slideshow": {
     "slide_type": "skip"
    }
   },
   "outputs": [
    {
     "name": "stdout",
     "output_type": "stream",
     "text": [
      "c:\\Users\\jaayg\\OneDrive\\Documentos\\Data_Science\\03.Numpy\\clase_03\\dsad_2021\\common\n",
      "default checking\n",
      "Running command `conda list`... ok\n",
      "Running command `conda install --yes jupyterlab=2.2.6`... ok\n",
      "Retrieving notices: ...working... done\n",
      "Collecting package metadata (current_repodata.json): ...working... done\n",
      "Solving environment: ...working... failed with initial frozen solve. Retrying with flexible solve.\n",
      "Collecting package metadata (repodata.json): ...working... done\n",
      "Solving environment: ...working... done\n",
      "\n",
      "## Package Plan ##\n",
      "\n",
      "  environment location: C:\\Users\\jaayg\\anaconda3\n",
      "\n",
      "  added / updated specs:\n",
      "    - jupyterlab=2.2.6\n",
      "\n",
      "\n",
      "The following packages will be downloaded:\n",
      "\n",
      "    package                    |            build\n",
      "    ---------------------------|-----------------\n",
      "    jupyterlab-2.2.6           |     pyhd3eb1b0_1         3.4 MB\n",
      "    jupyterlab_server-1.2.0    |             py_0          25 KB\n",
      "    ------------------------------------------------------------\n",
      "                                           Total:         3.4 MB\n",
      "\n",
      "The following packages will be UPDATED:\n",
      "\n",
      "  ca-certificates    conda-forge::ca-certificates-2022.12.~ --> pkgs/main::ca-certificates-2023.01.10-haa95532_0 \n",
      "\n",
      "The following packages will be SUPERSEDED by a higher-priority channel:\n",
      "\n",
      "  certifi            conda-forge/noarch::certifi-2022.12.7~ --> pkgs/main/win-64::certifi-2022.12.7-py310haa95532_0 \n",
      "  jupyterlab         conda-forge::jupyterlab-3.5.0-pyhd8ed~ --> pkgs/main::jupyterlab-2.2.6-pyhd3eb1b0_1 \n",
      "  jupyterlab_server  pkgs/main/win-64::jupyterlab_server-2~ --> pkgs/main/noarch::jupyterlab_server-1.2.0-py_0 \n",
      "\n",
      "\n",
      "\n",
      "Downloading and Extracting Packages\n",
      "\n",
      "jupyterlab_server-1. | 25 KB     |            |   0% \n",
      "\n",
      "jupyterlab-2.2.6     | 3.4 MB    |            |   0% \u001b[A\n",
      "jupyterlab_server-1. | 25 KB     | ######5    |  65% \n",
      "jupyterlab_server-1. | 25 KB     | ########## | 100% \n",
      "\n",
      "jupyterlab-2.2.6     | 3.4 MB    |            |   0% \u001b[A\n",
      "\n",
      "jupyterlab-2.2.6     | 3.4 MB    | 1          |   1% \u001b[A\n",
      "\n",
      "jupyterlab-2.2.6     | 3.4 MB    | 3          |   4% \u001b[A\n",
      "\n",
      "jupyterlab-2.2.6     | 3.4 MB    | 6          |   7% \u001b[A\n",
      "\n",
      "jupyterlab-2.2.6     | 3.4 MB    | #          |  10% \u001b[A\n",
      "\n",
      "jupyterlab-2.2.6     | 3.4 MB    | #4         |  15% \u001b[A\n",
      "\n",
      "jupyterlab-2.2.6     | 3.4 MB    | #8         |  18% \u001b[A\n",
      "\n",
      "jupyterlab-2.2.6     | 3.4 MB    | ##3        |  23% \u001b[A\n",
      "\n",
      "jupyterlab-2.2.6     | 3.4 MB    | ###        |  31% \u001b[A\n",
      "\n",
      "jupyterlab-2.2.6     | 3.4 MB    | ###5       |  35% \u001b[A\n",
      "\n",
      "jupyterlab-2.2.6     | 3.4 MB    | ####9      |  50% \u001b[A\n",
      "\n",
      "jupyterlab-2.2.6     | 3.4 MB    | #####9     |  59% \u001b[A\n",
      "\n",
      "jupyterlab-2.2.6     | 3.4 MB    | #######5   |  76% \u001b[A\n",
      "\n",
      "jupyterlab-2.2.6     | 3.4 MB    | #########1 |  91% \u001b[A\n",
      "\n",
      "jupyterlab-2.2.6     | 3.4 MB    | ########## | 100% \u001b[A\n",
      "                                                     \n",
      "\n",
      "\n",
      "                                                     \u001b[A\n",
      "\n",
      "Preparing transaction: ...working... done\n",
      "Verifying transaction: ...working... done\n",
      "Executing transaction: ...working... done\n",
      "\n",
      "Running command `conda install --yes pandas=1.1.5`... "
     ]
    }
   ],
   "source": [
    "%run \"../../../common/0_notebooks_base_setup.py\"\n",
    "from dhtest import test_1_numpy"
   ]
  },
  {
   "cell_type": "markdown",
   "metadata": {
    "slideshow": {
     "slide_type": "skip"
    }
   },
   "source": [
    "---\n",
    "\n",
    "<img src='../../../common/logo_DH.png' align='left' width=35%/>\n"
   ]
  },
  {
   "cell_type": "markdown",
   "metadata": {
    "slideshow": {
     "slide_type": "slide"
    }
   },
   "source": [
    "# Numpy"
   ]
  },
  {
   "cell_type": "markdown",
   "metadata": {
    "slideshow": {
     "slide_type": "slide"
    }
   },
   "source": [
    "<a id=\"section_toc\"></a> \n",
    "## Tabla de Contenidos\n",
    "\n",
    "[Intro](#section_intro)\n",
    "\n",
    "[Constructor](#section_constructor)\n",
    "\n",
    "[Métodos para la creación de arrays](#section_metodos_creacion)\n",
    "\n",
    "$\\hspace{.5cm}$[1. empty](#section_metodos_creacion_empty)\n",
    "\n",
    "$\\hspace{.5cm}$[2. zeros](#section_metodos_creacion_zeros)\n",
    "\n",
    "$\\hspace{.5cm}$[3. ones](#section_metodos_creacion_ones)\n",
    "\n",
    "$\\hspace{.5cm}$[4. random](#section_metodos_creacion_normal)\n",
    "\n",
    "[Atributos](#section_atributos)\n",
    "\n",
    "$\\hspace{.5cm}$[1. ndim](#section_atributos_ndim)\n",
    "\n",
    "$\\hspace{.5cm}$[2. shape](#section_atributos_shape)\n",
    "\n",
    "$\\hspace{.5cm}$[3. size](\"#section_atributos_size)\n",
    "\n",
    "$\\hspace{.5cm}$[4. dtype](#section_atributos_dtype)\n",
    "\n",
    "[Indexing](#section_indexing)\n",
    "\n",
    "$\\hspace{.5cm}$[1. Slicing](#section_indexing_slicing)\n",
    "\n",
    "$\\hspace{.5cm}$[2. Fancy Indexing](#section_indexing_fancy)\n",
    "\n",
    "$\\hspace{.5cm}$[3. Boolean Indexing](#section_indexing_boolean)\n",
    "\n",
    "\n",
    "---"
   ]
  },
  {
   "cell_type": "markdown",
   "metadata": {
    "slideshow": {
     "slide_type": "slide"
    },
    "toc-hr-collapsed": false
   },
   "source": [
    "\n",
    "## Numpy Array\n"
   ]
  },
  {
   "cell_type": "markdown",
   "metadata": {
    "slideshow": {
     "slide_type": "slide"
    }
   },
   "source": [
    "<a id=\"section_intro\"></a> \n",
    "###  Intro\n",
    "[volver a TOC](#section_toc)\n",
    "\n",
    "Un array es una estructura de datos que permite agrupar varios valores o elementos en una única variable (un único nombre).\n",
    "\n",
    "Los elementos de un array son todos del mismo tipo (a diferencia de las listas de Python).\n",
    "\n",
    "Los arrays de una y dos dimensiones tienen nombres propios:\n",
    "\n",
    "* un array unidimensional es un **vector**\n",
    "\n",
    "* un arreglo bidimensional es una **tabla** o **matriz**\n",
    "\n",
    "Los array de tres dimensiones o más se nombran N-dimensionales.\n",
    "\n",
    "\n",
    "![Image](img/numpy.jpg)\n",
    "\n",
    "---"
   ]
  },
  {
   "cell_type": "markdown",
   "metadata": {
    "slideshow": {
     "slide_type": "skip"
    }
   },
   "source": [
    "<a id=\"section_constructor\"></a> \n",
    "### Constructor\n",
    "[volver a TOC](#section_toc)\n",
    "\n",
    "#### Documentación \n",
    "https://docs.scipy.org/doc/numpy/reference/generated/numpy.array.html\n",
    "\n",
    "La forma más sencilla de construir un array es usando el constructor con un único parámetro:\n",
    "`numpy.array(object)`\n",
    "donde object es una colección de elementos\n"
   ]
  },
  {
   "cell_type": "markdown",
   "metadata": {
    "slideshow": {
     "slide_type": "skip"
    }
   },
   "source": [
    "Veamos un ejemplo:"
   ]
  },
  {
   "cell_type": "code",
   "execution_count": 1,
   "metadata": {
    "slideshow": {
     "slide_type": "skip"
    }
   },
   "outputs": [],
   "source": [
    "import numpy as np"
   ]
  },
  {
   "cell_type": "code",
   "execution_count": 2,
   "metadata": {
    "slideshow": {
     "slide_type": "skip"
    }
   },
   "outputs": [
    {
     "name": "stdout",
     "output_type": "stream",
     "text": [
      "[1 4 2 5 3]\n"
     ]
    }
   ],
   "source": [
    "# Lista de python\n",
    "python_list = [1, 4, 2, 5, 3]\n",
    "\n",
    "# Arreglo (array) de enteros instanciado a partir de una lista:\n",
    "my_numpy_array = np.array(python_list)\n",
    "\n",
    "# Imprimo el numpy array creado\n",
    "print(my_numpy_array)"
   ]
  },
  {
   "cell_type": "markdown",
   "metadata": {
    "slideshow": {
     "slide_type": "slide"
    }
   },
   "source": [
    "<a id=\"section_metodos_creacion\"></a> \n",
    "### Métodos para la creación de arrays\n",
    "[volver a TOC](#section_toc)\n",
    "\n",
    "#### Documentación \n",
    "https://docs.scipy.org/doc/numpy/reference/routines.array-creation.html\n",
    "\n",
    "Numpy provee métodos para crear e inicializar arrays con determinadas características. \n",
    "\n",
    "Podemos crear arrays vacíos, de ceros, de unos, con una secuencia, de valores aleatorios, de valores que sigan determinada distribución.\n",
    "\n"
   ]
  },
  {
   "cell_type": "markdown",
   "metadata": {
    "slideshow": {
     "slide_type": "skip"
    }
   },
   "source": [
    "A continuación vamos a ver un ejemplo de algunos de ellos.\n"
   ]
  },
  {
   "cell_type": "markdown",
   "metadata": {
    "slideshow": {
     "slide_type": "skip"
    }
   },
   "source": [
    "<a id=\"section_metodos_creacion_empty\"></a> \n",
    "#### Array vacío\n",
    "[volver a TOC](#section_toc)\n",
    "\n",
    "##### Documentación\n",
    "https://docs.scipy.org/doc/numpy/reference/generated/numpy.empty.html\n",
    "\n",
    "Recibe como parámetros: las dimensiones del array a crear como una tupla, y el tipo de datos de sus elementos.\n",
    "\n",
    "Devuelve un nuevo array de las dimensiones especificadas en la tupla que es el primer parámetro, **sin inicializar sus elementos**\n",
    "\n",
    "`numpy.empty(shape, dtype=float)`"
   ]
  },
  {
   "cell_type": "code",
   "execution_count": 3,
   "metadata": {
    "slideshow": {
     "slide_type": "skip"
    }
   },
   "outputs": [
    {
     "data": {
      "text/plain": [
       "array([[ 795603377, -967331532],\n",
       "       [2111953742, -105886053]])"
      ]
     },
     "execution_count": 3,
     "metadata": {},
     "output_type": "execute_result"
    }
   ],
   "source": [
    "np.empty((2, 2), dtype=int)"
   ]
  },
  {
   "cell_type": "code",
   "execution_count": 4,
   "metadata": {
    "slideshow": {
     "slide_type": "skip"
    }
   },
   "outputs": [
    {
     "data": {
      "text/plain": [
       "array([[0.],\n",
       "       [0.],\n",
       "       [0.]])"
      ]
     },
     "execution_count": 4,
     "metadata": {},
     "output_type": "execute_result"
    }
   ],
   "source": [
    "np.empty((3, 1), dtype=float)"
   ]
  },
  {
   "cell_type": "code",
   "execution_count": 5,
   "metadata": {
    "slideshow": {
     "slide_type": "skip"
    }
   },
   "outputs": [
    {
     "data": {
      "text/plain": [
       "array([[False, False, False]])"
      ]
     },
     "execution_count": 5,
     "metadata": {},
     "output_type": "execute_result"
    }
   ],
   "source": [
    "np.empty((1, 3), dtype=bool)"
   ]
  },
  {
   "cell_type": "markdown",
   "metadata": {
    "slideshow": {
     "slide_type": "skip"
    }
   },
   "source": [
    "<div id=\"caja1\" style=\"float:left;width: 100%;\">\n",
    "  <div style=\"float:left;width: 15%;\"><img src=\"../../../common/icons/para_seguir_pensando.png\" style=\"align:left\"/> </div>\n",
    "  <div style=\"float:left;width: 85%;\"><label>¿Qué elemento de la tupla indica la cantidad de filas? <br/> ¿Y la cantidad de columnas?</label></div>\n",
    "</div>"
   ]
  },
  {
   "attachments": {},
   "cell_type": "markdown",
   "metadata": {},
   "source": [
    "El primer elemento de la tupla indica el numero de filas y el segundo elemento el numero de columnas"
   ]
  },
  {
   "cell_type": "markdown",
   "metadata": {
    "slideshow": {
     "slide_type": "skip"
    }
   },
   "source": [
    "<a id=\"section_metodos_creacion_zeros\"></a> \n",
    "#### Array de ceros\n",
    "[volver a TOC](#section_toc)\n",
    "\n",
    "Veremos cómo instanciar un array de ceros de las dimensiones especificadas.\n",
    "\n",
    "##### Documentación\n",
    "https://docs.scipy.org/doc/numpy/reference/generated/numpy.zeros.html#numpy.zeros\n",
    "\n",
    "Recibe como parámetros: las dimensiones del array a crear como una tupla, y el tipo de datos de sus elementos.\n",
    "\n",
    "`numpy.zeros(shape, dtype=float)`"
   ]
  },
  {
   "cell_type": "code",
   "execution_count": 111,
   "metadata": {
    "slideshow": {
     "slide_type": "skip"
    }
   },
   "outputs": [
    {
     "data": {
      "text/plain": [
       "array([0, 0, 0, 0, 0, 0, 0, 0, 0, 0])"
      ]
     },
     "execution_count": 111,
     "metadata": {},
     "output_type": "execute_result"
    }
   ],
   "source": [
    "np.zeros(10, dtype=int)"
   ]
  },
  {
   "cell_type": "code",
   "execution_count": 112,
   "metadata": {
    "slideshow": {
     "slide_type": "skip"
    }
   },
   "outputs": [
    {
     "data": {
      "text/plain": [
       "array([[0., 0.],\n",
       "       [0., 0.],\n",
       "       [0., 0.],\n",
       "       [0., 0.],\n",
       "       [0., 0.],\n",
       "       [0., 0.],\n",
       "       [0., 0.],\n",
       "       [0., 0.],\n",
       "       [0., 0.],\n",
       "       [0., 0.]])"
      ]
     },
     "execution_count": 112,
     "metadata": {},
     "output_type": "execute_result"
    }
   ],
   "source": [
    "np.zeros((10, 2), dtype=float)"
   ]
  },
  {
   "cell_type": "code",
   "execution_count": 113,
   "metadata": {
    "slideshow": {
     "slide_type": "skip"
    }
   },
   "outputs": [
    {
     "data": {
      "text/plain": [
       "array([['', ''],\n",
       "       ['', ''],\n",
       "       ['', ''],\n",
       "       ['', ''],\n",
       "       ['', ''],\n",
       "       ['', ''],\n",
       "       ['', ''],\n",
       "       ['', ''],\n",
       "       ['', ''],\n",
       "       ['', '']], dtype='<U1')"
      ]
     },
     "execution_count": 113,
     "metadata": {},
     "output_type": "execute_result"
    }
   ],
   "source": [
    "np.zeros((10, 2), dtype=str)"
   ]
  },
  {
   "cell_type": "markdown",
   "metadata": {
    "slideshow": {
     "slide_type": "skip"
    }
   },
   "source": [
    "<div id=\"caja2\" style=\"float:left;width: 100%;\">\n",
    "  <div style=\"float:left;width: 15%;\"><img src=\"../../../common/icons/haciendo_foco.png\" style=\"align:left\"/> </div>\n",
    "  <div style=\"float:left;width: 85%;\"><label>Observen las diferencias en los resultados de las dos últimas instrucciones, donde sólo cambiamos el tipo de datos de los elementos del array.</label></div>\n",
    "</div>"
   ]
  },
  {
   "cell_type": "markdown",
   "metadata": {
    "slideshow": {
     "slide_type": "skip"
    }
   },
   "source": [
    "<div id=\"caja3\" style=\"float:left;width: 100%;\">\n",
    "  <div style=\"float:left;width: 15%;\"><img src=\"../../../common/icons/bonus_track.png\" style=\"align:left\"/> </div>\n",
    "  <div style=\"float:left;width: 85%;\"><label> \n",
    "      <b>Opcional - Data type objects (dtype)</b><br/>\n",
    "      https://docs.scipy.org/doc/numpy/reference/arrays.dtypes.html<br/>\n",
    "      Un objeto data type (una instancia de la clase numpy.dtype) describe cómo deben interpretarse los bytes en el bloque de memoria de tamaño fijo que corresponde al item de un array<br/>\n",
    "<b>¿Qué significa dtype='&lt;U1'?</b>      \n",
    "      </label></div>\n",
    "</div>"
   ]
  },
  {
   "attachments": {},
   "cell_type": "markdown",
   "metadata": {},
   "source": [
    "Es un tipo de dato que significa unicode, donde en numpy permite guardar cadenas de texto en 8 bits"
   ]
  },
  {
   "cell_type": "markdown",
   "metadata": {},
   "source": [
    "Instanciamos un objeto dtype:"
   ]
  },
  {
   "cell_type": "code",
   "execution_count": 114,
   "metadata": {
    "slideshow": {
     "slide_type": "skip"
    }
   },
   "outputs": [],
   "source": [
    "dt_array_item = np.dtype('<U1')"
   ]
  },
  {
   "cell_type": "markdown",
   "metadata": {
    "slideshow": {
     "slide_type": "skip"
    }
   },
   "source": [
    "Con `dt_array_item.type` vemos el tipo usado para instanciar a dt_array_item"
   ]
  },
  {
   "cell_type": "code",
   "execution_count": 115,
   "metadata": {
    "slideshow": {
     "slide_type": "skip"
    }
   },
   "outputs": [
    {
     "data": {
      "text/plain": [
       "numpy.str_"
      ]
     },
     "execution_count": 115,
     "metadata": {},
     "output_type": "execute_result"
    }
   ],
   "source": [
    "dt_array_item.type"
   ]
  },
  {
   "cell_type": "markdown",
   "metadata": {
    "slideshow": {
     "slide_type": "skip"
    }
   },
   "source": [
    "Entonces, dtype='<U1' nos indica que los items del array resultado son de tipo numpy.str_ (cadena de caracteres)"
   ]
  },
  {
   "cell_type": "markdown",
   "metadata": {
    "slideshow": {
     "slide_type": "skip"
    }
   },
   "source": [
    "<a id=\"section_metodos_creacion_ones\"></a> \n",
    "#### Array de unos\n",
    "[volver a TOC](#section_toc)\n",
    "\n",
    "Ahora veremos cómo instanciar un array de unos de las dimensiones especificadas.\n",
    "\n",
    "##### Documentación\n",
    "https://docs.scipy.org/doc/numpy/reference/generated/numpy.ones.html\n",
    "\n",
    "Recibe como parámetros: las dimensiones del array a crear como una tupla, y el tipo de datos de sus elementos.\n",
    "\n",
    "`numpy.ones(shape, dtype=float)`"
   ]
  },
  {
   "cell_type": "code",
   "execution_count": 116,
   "metadata": {
    "slideshow": {
     "slide_type": "skip"
    }
   },
   "outputs": [
    {
     "data": {
      "text/plain": [
       "array([[1, 1],\n",
       "       [1, 1],\n",
       "       [1, 1],\n",
       "       [1, 1],\n",
       "       [1, 1],\n",
       "       [1, 1],\n",
       "       [1, 1],\n",
       "       [1, 1],\n",
       "       [1, 1],\n",
       "       [1, 1]])"
      ]
     },
     "execution_count": 116,
     "metadata": {},
     "output_type": "execute_result"
    }
   ],
   "source": [
    "np.ones((10, 2), dtype=int)"
   ]
  },
  {
   "cell_type": "code",
   "execution_count": 117,
   "metadata": {
    "slideshow": {
     "slide_type": "skip"
    }
   },
   "outputs": [
    {
     "data": {
      "text/plain": [
       "array([[1., 1.],\n",
       "       [1., 1.],\n",
       "       [1., 1.],\n",
       "       [1., 1.],\n",
       "       [1., 1.],\n",
       "       [1., 1.],\n",
       "       [1., 1.],\n",
       "       [1., 1.],\n",
       "       [1., 1.],\n",
       "       [1., 1.]])"
      ]
     },
     "execution_count": 117,
     "metadata": {},
     "output_type": "execute_result"
    }
   ],
   "source": [
    "np.ones((10, 2), dtype=float)"
   ]
  },
  {
   "cell_type": "code",
   "execution_count": 118,
   "metadata": {
    "slideshow": {
     "slide_type": "skip"
    }
   },
   "outputs": [
    {
     "data": {
      "text/plain": [
       "array([['1', '1'],\n",
       "       ['1', '1'],\n",
       "       ['1', '1'],\n",
       "       ['1', '1'],\n",
       "       ['1', '1'],\n",
       "       ['1', '1'],\n",
       "       ['1', '1'],\n",
       "       ['1', '1'],\n",
       "       ['1', '1'],\n",
       "       ['1', '1']], dtype='<U1')"
      ]
     },
     "execution_count": 118,
     "metadata": {},
     "output_type": "execute_result"
    }
   ],
   "source": [
    "np.ones((10, 2), dtype=str)"
   ]
  },
  {
   "cell_type": "markdown",
   "metadata": {
    "slideshow": {
     "slide_type": "skip"
    }
   },
   "source": [
    "<div id=\"caja4\" style=\"float:left;width: 100%;\">\n",
    "  <div style=\"float:left;width: 15%;\"><img src=\"../../../common/icons/haciendo_foco.png\" style=\"align:left\"/> </div>\n",
    "  <div style=\"float:left;width: 85%;\"><label>Observen las diferencias en los tres resultados, donde sólo cambiamos el tipo de datos de los elementos del array.</label></div>\n",
    "</div>\n"
   ]
  },
  {
   "cell_type": "markdown",
   "metadata": {
    "slideshow": {
     "slide_type": "slide"
    }
   },
   "source": [
    "<a id=\"section_metodos_creacion_normal\"></a> \n",
    "#### Array de valores aleatorios con distribución normal\n",
    "[volver a TOC](#section_toc)\n",
    "\n",
    "Ahora veremos cómo instanciar un array de números aleatorios que siga una distribución normal\n",
    "\n",
    "##### Documentación\n",
    "https://docs.scipy.org/doc/numpy/reference/random/index.html\n",
    "\n",
    "https://docs.scipy.org/doc/numpy/reference/random/generator.html\n",
    "\n",
    "https://docs.scipy.org/doc/numpy/reference/random/generated/numpy.random.Generator.normal.html#numpy.random.Generator.normal\n",
    "\n",
    "El método que genera números aleatorios con distribución normal recibe como parámetros: la media, el desvio standard y las dimensiones del array de salida\n",
    "\n",
    "`Generator.normal(loc=0.0, scale=1.0, size=None)`\n",
    "\n",
    "Instanciamos una instancia default de Generator:"
   ]
  },
  {
   "cell_type": "code",
   "execution_count": 7,
   "metadata": {
    "slideshow": {
     "slide_type": "subslide"
    }
   },
   "outputs": [],
   "source": [
    "random_generator = np.random.default_rng()"
   ]
  },
  {
   "cell_type": "markdown",
   "metadata": {
    "slideshow": {
     "slide_type": "subslide"
    }
   },
   "source": [
    "Generamos ahora 12 números con distribución normal de media 0 y desvío standard 1:"
   ]
  },
  {
   "cell_type": "code",
   "execution_count": 120,
   "metadata": {
    "slideshow": {
     "slide_type": "subslide"
    }
   },
   "outputs": [
    {
     "data": {
      "text/plain": [
       "array([ 0.90386291, -0.38863153, -1.02598414, -0.71116501, -1.89875443,\n",
       "       -2.14411554,  0.83285234,  0.0444769 , -0.37362976,  0.19186963,\n",
       "        0.62263422, -0.59662803])"
      ]
     },
     "execution_count": 120,
     "metadata": {},
     "output_type": "execute_result"
    }
   ],
   "source": [
    "random_generator.normal(loc = 0, scale = 1, size = 12)"
   ]
  },
  {
   "cell_type": "markdown",
   "metadata": {
    "slideshow": {
     "slide_type": "subslide"
    }
   },
   "source": [
    "Ahora generamos una matriz de 16 filas y 4 columnas con números con distribución normal de media 0 y desvío standard 1:"
   ]
  },
  {
   "cell_type": "code",
   "execution_count": 8,
   "metadata": {
    "slideshow": {
     "slide_type": "subslide"
    }
   },
   "outputs": [
    {
     "data": {
      "text/plain": [
       "array([[-0.25734264,  0.27948786,  1.19496005, -1.22461644],\n",
       "       [ 1.16509815, -0.11387314, -1.87962305, -2.0629935 ],\n",
       "       [ 0.80907559,  0.08541892, -0.8021369 ,  1.42094008],\n",
       "       [ 0.61901635,  0.73125817,  1.70983342,  0.19791888],\n",
       "       [-1.64331351, -0.05936793,  1.25596603, -0.22578473],\n",
       "       [ 0.4983065 , -0.26425954,  1.54051049, -1.94138308],\n",
       "       [ 1.80157326,  0.44616469, -1.5689446 ,  0.27362731],\n",
       "       [ 0.41122176, -0.6808796 ,  0.00982707, -0.25353238],\n",
       "       [ 0.8170805 , -1.18145313, -1.82489471, -2.01632066],\n",
       "       [-1.93921572, -0.96010278, -1.14256468, -0.27498438],\n",
       "       [-2.40791449, -0.96684182, -1.86371103, -1.56077909],\n",
       "       [ 1.14407205, -1.17689383,  1.3632386 ,  0.20669418],\n",
       "       [ 0.46777354, -0.75326938, -0.55081533, -1.10364472],\n",
       "       [-0.51694586,  0.66627494, -0.6697505 ,  0.01184452],\n",
       "       [ 0.8863261 ,  0.5688512 ,  1.21441813, -1.1046516 ],\n",
       "       [-0.55113146, -0.40562599,  0.31993799, -1.79903737]])"
      ]
     },
     "execution_count": 8,
     "metadata": {},
     "output_type": "execute_result"
    }
   ],
   "source": [
    "random_generator.normal(0, 1, size = (16,4))"
   ]
  },
  {
   "cell_type": "markdown",
   "metadata": {
    "slideshow": {
     "slide_type": "slide"
    }
   },
   "source": [
    "Observen que cada vez que ejecutamos esta linea `random_generator.normal(loc = 0, scale = 1, size = 12)` obtenemos valores diferentes para los elementos del array.\n",
    "\n",
    "Prueben ejecutarla tres o cuatro veces...\n",
    "\n",
    "Lo mismo ocurre con `random_generator.normal(0, 1, size = (16,4))`\n",
    "\n",
    "Si queremos obtener el mismo resultado en todas las ejecuciones, debemos inicializar la semilla del generador de números aleatorios.\n",
    "\n",
    "Para eso hacemos inicializamos la instancia de `Generator` con una semilla cualquiera pero fija:"
   ]
  },
  {
   "cell_type": "code",
   "execution_count": 122,
   "metadata": {
    "slideshow": {
     "slide_type": "subslide"
    }
   },
   "outputs": [],
   "source": [
    "seed_cualquier_numero = 2843\n",
    "random_generator_seed = np.random.default_rng(seed_cualquier_numero)"
   ]
  },
  {
   "cell_type": "markdown",
   "metadata": {
    "slideshow": {
     "slide_type": "slide"
    }
   },
   "source": [
    "Y ahora ejecutemos varias veces las mismas lineas que probamos arriba, usando el objeto random_generator_seed inicializado con una semilla determinada:"
   ]
  },
  {
   "cell_type": "code",
   "execution_count": 123,
   "metadata": {
    "slideshow": {
     "slide_type": "skip"
    }
   },
   "outputs": [
    {
     "data": {
      "text/plain": [
       "array([ 0.770969  ,  0.33288743, -0.7145752 ,  0.05428423, -1.44839055,\n",
       "        0.05562249,  0.04235933, -1.06432701,  3.23668651, -2.61427606,\n",
       "        0.17057975, -0.11374496])"
      ]
     },
     "execution_count": 123,
     "metadata": {},
     "output_type": "execute_result"
    }
   ],
   "source": [
    "random_generator_seed = np.random.default_rng(seed_cualquier_numero)\n",
    "random_generator_seed.normal(loc = 0, scale = 1, size = 12)"
   ]
  },
  {
   "cell_type": "code",
   "execution_count": 124,
   "metadata": {
    "slideshow": {
     "slide_type": "skip"
    }
   },
   "outputs": [
    {
     "data": {
      "text/plain": [
       "array([[ 0.770969  ,  0.33288743, -0.7145752 ,  0.05428423],\n",
       "       [-1.44839055,  0.05562249,  0.04235933, -1.06432701],\n",
       "       [ 3.23668651, -2.61427606,  0.17057975, -0.11374496],\n",
       "       [ 1.5431114 , -0.2433953 ,  0.54422367,  0.83475881],\n",
       "       [ 0.04301992, -0.63558257, -0.16046816,  1.64470349],\n",
       "       [ 1.33297402, -0.99626982, -1.29590249, -0.61893616],\n",
       "       [-0.22066461,  0.22727611, -1.38125624,  0.04929038],\n",
       "       [ 0.63748133, -0.19561326,  0.5938797 ,  1.53733473],\n",
       "       [-0.27605803,  0.16768242,  0.44111193, -0.07839599],\n",
       "       [ 0.98677009,  0.94900021, -1.19024724, -0.91697433],\n",
       "       [-0.62741927,  2.1939412 , -1.0684962 , -1.79228955],\n",
       "       [ 1.07398541,  1.96988692,  0.3815075 , -0.52205868],\n",
       "       [ 1.33797156, -0.65238485, -0.74753246,  0.20865684],\n",
       "       [ 0.99353863,  1.16058088,  1.36554724,  0.07186766],\n",
       "       [ 1.79045939, -2.00201905, -0.5718638 ,  0.69506072],\n",
       "       [-0.06683168, -0.74753465, -0.7760167 ,  0.4493421 ]])"
      ]
     },
     "execution_count": 124,
     "metadata": {},
     "output_type": "execute_result"
    }
   ],
   "source": [
    "random_generator_seed = np.random.default_rng(seed_cualquier_numero)\n",
    "random_generator_seed.normal(0, 1, size = (16,4))"
   ]
  },
  {
   "cell_type": "markdown",
   "metadata": {
    "slideshow": {
     "slide_type": "skip"
    }
   },
   "source": [
    "¿Notaron que ahora **no cambia** el resultado en cada ejecucuión?"
   ]
  },
  {
   "cell_type": "markdown",
   "metadata": {
    "slideshow": {
     "slide_type": "skip"
    }
   },
   "source": [
    "<div id=\"caja5\" style=\"float:left;width: 100%;\">\n",
    "  <div style=\"float:left;width: 15%;\"><img src=\"../../../common/icons/ponete_a_prueba.png\" style=\"align:left\"/> </div>\n",
    "  <div style=\"float:left;width: 85%;\"><label>\n",
    "      <b>Ejercicio 1</b>\n",
    "    \n",
    "Usando como semilla el numero 2843, construyan un objeto array de Numpy con 500 números aleatorios de distribución binomial con n = 100 y p = 0.7\n",
    "    \n",
    "Ayuda: https://docs.scipy.org/doc/numpy/reference/random/generated/numpy.random.Generator.binomial.html#numpy.random.Generator.binomial\n",
    "      \n",
    "Completen el código de la función random_binomial():</label></div>\n",
    "</div>"
   ]
  },
  {
   "cell_type": "code",
   "execution_count": 21,
   "metadata": {
    "slideshow": {
     "slide_type": "skip"
    }
   },
   "outputs": [
    {
     "data": {
      "text/plain": [
       "array([79, 74, 73, 67, 76, 64, 69, 65, 61, 74, 66, 64, 68, 73, 70, 65, 70,\n",
       "       79, 73, 71, 70, 71, 72, 65, 61, 74, 71, 80, 74, 62, 69, 73, 78, 73,\n",
       "       62, 67, 64, 69, 72, 70, 68, 75, 66, 67, 77, 71, 66, 67, 64, 71, 73,\n",
       "       65, 71, 72, 70, 70, 80, 64, 64, 71, 67, 75, 71, 65, 65, 66, 63, 70,\n",
       "       71, 70, 69, 64, 70, 76, 70, 76, 67, 66, 71, 72, 76, 77, 73, 72, 71,\n",
       "       75, 79, 75, 75, 77, 77, 79, 77, 82, 64, 70, 71, 74, 64, 61, 72, 67,\n",
       "       70, 61, 72, 69, 69, 61, 77, 63, 62, 61, 78, 75, 63, 67, 67, 78, 76,\n",
       "       69, 71, 65, 68, 70, 70, 73, 68, 67, 68, 65, 69, 63, 72, 71, 70, 69,\n",
       "       68, 63, 67, 66, 74, 75, 72, 71, 73, 73, 51, 69, 64, 76, 71, 73, 73,\n",
       "       69, 76, 71, 77, 75, 77, 66, 73, 66, 67, 70, 74, 62, 77, 73, 69, 68,\n",
       "       72, 70, 70, 68, 64, 76, 64, 69, 72, 67, 69, 69, 73, 66, 78, 70, 63,\n",
       "       69, 67, 70, 71, 73, 74, 69, 78, 71, 60, 71, 70, 66, 65, 77, 73, 63,\n",
       "       69, 66, 73, 68, 73, 65, 69, 74, 68, 71, 73, 71, 69, 76, 79, 71, 70,\n",
       "       65, 61, 72, 63, 74, 62, 71, 76, 69, 79, 73, 67, 73, 70, 73, 64, 68,\n",
       "       77, 72, 68, 64, 62, 67, 66, 76, 68, 73, 70, 71, 70, 70, 66, 70, 79,\n",
       "       63, 67, 61, 75, 73, 72, 75, 72, 66, 66, 67, 78, 66, 73, 69, 72, 71,\n",
       "       71, 68, 69, 65, 69, 66, 73, 61, 70, 76, 65, 71, 71, 72, 65, 74, 70,\n",
       "       68, 73, 74, 69, 68, 77, 70, 62, 73, 69, 69, 71, 70, 73, 67, 71, 67,\n",
       "       64, 62, 69, 68, 65, 81, 82, 60, 71, 63, 67, 70, 79, 73, 67, 69, 69,\n",
       "       67, 63, 76, 72, 79, 70, 65, 74, 75, 70, 86, 77, 63, 65, 79, 71, 67,\n",
       "       72, 71, 70, 70, 71, 70, 61, 72, 72, 71, 69, 68, 79, 67, 68, 67, 71,\n",
       "       63, 66, 66, 75, 72, 71, 65, 68, 69, 60, 73, 78, 70, 65, 71, 77, 64,\n",
       "       74, 70, 76, 69, 71, 63, 72, 71, 72, 77, 66, 77, 66, 75, 65, 77, 71,\n",
       "       62, 63, 58, 68, 68, 71, 71, 63, 67, 70, 68, 66, 75, 68, 72, 72, 77,\n",
       "       65, 68, 70, 58, 77, 65, 67, 72, 72, 68, 72, 81, 66, 61, 66, 67, 69,\n",
       "       67, 67, 75, 67, 78, 75, 64, 70, 69, 71, 61, 68, 71, 63, 75, 71, 72,\n",
       "       66, 57, 67, 70, 70, 72, 66, 72, 73, 74, 69, 67, 68, 67, 74, 66, 67,\n",
       "       71, 70, 63, 69, 71, 74, 69, 73, 66, 63, 65, 68, 70, 62, 62, 72, 71,\n",
       "       70, 67, 68, 71, 76, 70, 66, 72, 75, 74, 63, 61, 68, 75, 70, 74, 69,\n",
       "       76, 66, 67, 70, 70, 72, 72], dtype=int64)"
      ]
     },
     "execution_count": 21,
     "metadata": {},
     "output_type": "execute_result"
    }
   ],
   "source": [
    "import numpy as np\n",
    "\n",
    "def random_binomial():\n",
    "    \n",
    "    seed = 2843\n",
    "    random_generator_seed = np.random.default_rng(seed)\n",
    "    result = random_generator_seed.binomial(n=100,p=0.7,size=(500))\n",
    "    \n",
    "    return(result)\n",
    "\n",
    "resultado = random_binomial()\n",
    "resultado\n",
    "\n",
    "\n"
   ]
  },
  {
   "cell_type": "markdown",
   "metadata": {
    "slideshow": {
     "slide_type": "skip"
    }
   },
   "source": [
    "<a id=\"section_atributos\"></a> \n",
    "### Atributos\n",
    "[volver a TOC](#section_toc)\n",
    "\n",
    "#### Documentación\n",
    "\n",
    "https://docs.scipy.org/doc/numpy/reference/arrays.ndarray.html#array-attributes\n",
    "\n",
    "Vamos a ver ahora ejemplos de atributos de un array de tres dimensiones, con numeros aleatorios de distribución uniforme de tamaño 3 * 4 * 5\n",
    "\n",
    "Generador de números aleatorios con distribución uniforme:\n",
    "\n",
    "https://docs.scipy.org/doc/numpy/reference/random/generated/numpy.random.Generator.uniform.html#numpy.random.Generator.uniform"
   ]
  },
  {
   "cell_type": "code",
   "execution_count": 126,
   "metadata": {
    "slideshow": {
     "slide_type": "skip"
    }
   },
   "outputs": [
    {
     "data": {
      "text/plain": [
       "array([[[32.88947629, 16.94855803, 42.83670351, 30.25105684,\n",
       "         28.20491852],\n",
       "        [25.18521523, 40.18344021, 34.34396248, 49.42877817,\n",
       "         25.9067247 ],\n",
       "        [49.96435545, 39.05367532, 25.72967186, 40.81169652,\n",
       "         14.0724828 ],\n",
       "        [41.55501295, 21.67492545, 22.49339028, 25.49163559,\n",
       "         26.50349253]],\n",
       "\n",
       "       [[40.72705982, 28.63930892, 18.02914832, 27.35671068,\n",
       "         38.97125442],\n",
       "        [16.66917961, 46.25005127, 30.72094445, 48.47205286,\n",
       "         15.6034732 ],\n",
       "        [11.79424167, 40.67551164, 21.90868009, 19.00439909,\n",
       "         23.67958317],\n",
       "        [10.55338987, 35.92638548, 15.26580613, 12.67264131,\n",
       "         37.95862821]],\n",
       "\n",
       "       [[24.33023875, 49.46354377, 48.15236324, 14.74696516,\n",
       "         23.94498762],\n",
       "        [19.34227574, 12.22724432, 13.35657914, 42.88661071,\n",
       "         26.11646608],\n",
       "        [29.62041973, 17.17235157, 36.46619752, 31.23546738,\n",
       "         17.94252221],\n",
       "        [38.58722823, 19.18467869, 35.2361267 , 34.25595785,\n",
       "         28.76845958]]])"
      ]
     },
     "execution_count": 126,
     "metadata": {},
     "output_type": "execute_result"
    }
   ],
   "source": [
    "random_generator_seed = np.random.default_rng(seed_cualquier_numero)\n",
    "low = 10 #incluye el limite inferior\n",
    "high = 50 # no incluye el límite superior\n",
    "size = (3, 4, 5)\n",
    "array_3D = random_generator_seed.uniform(low, high, size)\n",
    "array_3D"
   ]
  },
  {
   "cell_type": "markdown",
   "metadata": {
    "slideshow": {
     "slide_type": "slide"
    }
   },
   "source": [
    "<a id=\"section_atributos_ndim\"></a> \n",
    "#### ndim\n",
    "[volver a TOC](#section_toc)\n",
    "\n",
    "Cantidad de dimensiones del array"
   ]
  },
  {
   "cell_type": "code",
   "execution_count": 127,
   "metadata": {},
   "outputs": [
    {
     "data": {
      "text/plain": [
       "3"
      ]
     },
     "execution_count": 127,
     "metadata": {},
     "output_type": "execute_result"
    }
   ],
   "source": [
    "array_3D.ndim"
   ]
  },
  {
   "cell_type": "markdown",
   "metadata": {
    "slideshow": {
     "slide_type": "slide"
    }
   },
   "source": [
    "<a id=\"section_atributos_shape\"></a> \n",
    "#### shape\n",
    "[volver a TOC](#section_toc)\n",
    "\n",
    "Tupla con las dimensiones del array"
   ]
  },
  {
   "cell_type": "code",
   "execution_count": 128,
   "metadata": {},
   "outputs": [
    {
     "data": {
      "text/plain": [
       "(3, 4, 5)"
      ]
     },
     "execution_count": 128,
     "metadata": {},
     "output_type": "execute_result"
    }
   ],
   "source": [
    "array_3D.shape"
   ]
  },
  {
   "cell_type": "code",
   "execution_count": 129,
   "metadata": {},
   "outputs": [
    {
     "data": {
      "text/plain": [
       "tuple"
      ]
     },
     "execution_count": 129,
     "metadata": {},
     "output_type": "execute_result"
    }
   ],
   "source": [
    "type(array_3D.shape)"
   ]
  },
  {
   "cell_type": "markdown",
   "metadata": {},
   "source": [
    "> Observación: `len(array_3D.shape) == array_3D.ndim`"
   ]
  },
  {
   "cell_type": "markdown",
   "metadata": {
    "slideshow": {
     "slide_type": "slide"
    }
   },
   "source": [
    "<a id=\"section_atributos_size\"></a> \n",
    "#### size\n",
    "[volver a TOC](#section_toc)\n",
    "\n",
    "Cantidad de elementos en el array"
   ]
  },
  {
   "cell_type": "code",
   "execution_count": 130,
   "metadata": {},
   "outputs": [
    {
     "data": {
      "text/plain": [
       "60"
      ]
     },
     "execution_count": 130,
     "metadata": {},
     "output_type": "execute_result"
    }
   ],
   "source": [
    "array_3D.size"
   ]
  },
  {
   "cell_type": "markdown",
   "metadata": {},
   "source": [
    "> Observación: `np.prod(array_3D.shape) == array_3D.size`\n",
    ">\n",
    "> `np.prod` multiplica todos los elementos en la tupla"
   ]
  },
  {
   "cell_type": "markdown",
   "metadata": {
    "slideshow": {
     "slide_type": "slide"
    }
   },
   "source": [
    "<a id=\"section_atributos_dtype\"></a> \n",
    "#### dtype\n",
    "[volver a TOC](#section_toc)\n",
    "\n",
    "Tipo de datos de los elementos que componen el array"
   ]
  },
  {
   "cell_type": "code",
   "execution_count": 131,
   "metadata": {},
   "outputs": [
    {
     "data": {
      "text/plain": [
       "dtype('float64')"
      ]
     },
     "execution_count": 131,
     "metadata": {},
     "output_type": "execute_result"
    }
   ],
   "source": [
    "array_3D.dtype"
   ]
  },
  {
   "cell_type": "markdown",
   "metadata": {
    "slideshow": {
     "slide_type": "slide"
    }
   },
   "source": [
    "<a id=\"section_indexing\"></a> \n",
    "### Indexing\n",
    "[volver a TOC](#section_toc)\n",
    "\n",
    "Un problema común es seleccionar los elementos de un array de acuerdo a algún criterio. \n",
    "\n",
    "Llamamos \"indexing\" a la operación que resuelve el problema de acceder a los elementos de un array con algún criterio. \n",
    "\n",
    "Existen tres tipos de indexing en Numpy:\n",
    "\n",
    "* **Array Slicing**: accedemos a los elementos con los parámetros start,stop,step. \n",
    "Por ejemplo `my_array[0:5:-1]`\n",
    "\n",
    "* **Fancy Indexing**: creamos una lista de índices y la usamos para acceder a ciertos elementos del array:  `my_array[[3,5,7,8]]`\n",
    "\n",
    "* **Boolean Indexing**: creamos una \"máscara booleana\" (un array o lista de True y False) para acceder a ciertos elementos: `my_array[my_array > 4]`\n",
    "\n",
    "\n",
    "<a id=\"section_indexing_slicing\"></a>\n",
    "#### Array Slicing \n",
    "[volver a TOC](#section_toc)\n",
    "\n",
    "##### Slicing sobre una dimensión\n",
    "\n",
    "El slicing es similar al de las listas de python [start:stop:step]. \n",
    "\n",
    "El índice stop no se incluye pero el start sí se incluye. \n",
    "\n",
    "Por ejemplo [1:3] incluye al índice 1 pero no al 3.\n",
    "\n",
    "Funciona como un intervalo semicerrado [1,3).\n",
    "\n",
    "Si necesitan refrescar cómo funciona el slicing en listas pueden ver https://stackoverflow.com/questions/509211/understanding-slice-notation\n",
    "\n",
    "\n",
    "![Image](img/numpy_indexing.jpg)\n",
    "\n"
   ]
  },
  {
   "cell_type": "markdown",
   "metadata": {
    "slideshow": {
     "slide_type": "skip"
    }
   },
   "source": [
    "Veamos algunos ejemplo:\n",
    "\n",
    "Creamos un array de una dimensión usando el método\n",
    "`np.arange` que devuelve valores espaciados uniformemente dentro de un intervalo dado.\n",
    "\n",
    "https://docs.scipy.org/doc/numpy/reference/generated/numpy.arange.html"
   ]
  },
  {
   "cell_type": "code",
   "execution_count": 132,
   "metadata": {
    "slideshow": {
     "slide_type": "skip"
    }
   },
   "outputs": [
    {
     "data": {
      "text/plain": [
       "array([0, 1, 2, 3, 4, 5, 6, 7, 8, 9])"
      ]
     },
     "execution_count": 132,
     "metadata": {},
     "output_type": "execute_result"
    }
   ],
   "source": [
    "# Sobre un array de una dimension con números enteros entre 0 y 9:\n",
    "one_d_array = np.arange(10)\n",
    "one_d_array"
   ]
  },
  {
   "cell_type": "code",
   "execution_count": 133,
   "metadata": {
    "slideshow": {
     "slide_type": "skip"
    }
   },
   "outputs": [
    {
     "data": {
      "text/plain": [
       "array([1, 3, 5, 7, 9])"
      ]
     },
     "execution_count": 133,
     "metadata": {},
     "output_type": "execute_result"
    }
   ],
   "source": [
    "# Start = 1:  empezamos por el segundo elemento\n",
    "# Stop: No está definido, entonces llegamos hasta el final.\n",
    "# Step: El paso o distancia entre los elementos es 2.\n",
    "one_d_array[1::2]  "
   ]
  },
  {
   "cell_type": "code",
   "execution_count": 134,
   "metadata": {
    "slideshow": {
     "slide_type": "skip"
    }
   },
   "outputs": [
    {
     "data": {
      "text/plain": [
       "array([9, 8, 7, 6, 5, 4, 3, 2, 1, 0])"
      ]
     },
     "execution_count": 134,
     "metadata": {},
     "output_type": "execute_result"
    }
   ],
   "source": [
    "# Start: No está definido, entonces comenzamos desde el primero.\n",
    "# Stop: No está definido, entonces llegamos hasta el final.\n",
    "# Step = -1, para invertir el orden del array\n",
    "one_d_array[::-1]"
   ]
  },
  {
   "cell_type": "code",
   "execution_count": 135,
   "metadata": {
    "slideshow": {
     "slide_type": "skip"
    }
   },
   "outputs": [
    {
     "data": {
      "text/plain": [
       "array([7, 6, 5, 4, 3])"
      ]
     },
     "execution_count": 135,
     "metadata": {},
     "output_type": "execute_result"
    }
   ],
   "source": [
    "# Si queremos hacer slicing en orden invertido\n",
    "one_d_array[7:2:-1]  "
   ]
  },
  {
   "cell_type": "markdown",
   "metadata": {},
   "source": [
    "##### Slicing sobre arrays de más  dimensiones\n",
    "\n",
    "Cuando tenemos más de una dimensión, podemos hacer slicing sobre cada una de ellas separándolas con una coma. \n",
    "\n",
    "Veamos algunos ejemplos:"
   ]
  },
  {
   "cell_type": "code",
   "execution_count": 136,
   "metadata": {},
   "outputs": [
    {
     "data": {
      "text/plain": [
       "array([[5.72236907, 1.73713951, 8.20917588, 5.06276421],\n",
       "       [4.55122963, 3.79630381, 7.54586005, 6.08599062],\n",
       "       [9.85719454, 3.97668117, 9.99108886, 7.26341883]])"
      ]
     },
     "execution_count": 136,
     "metadata": {},
     "output_type": "execute_result"
    }
   ],
   "source": [
    "random_generator_seed = np.random.default_rng(seed_cualquier_numero)\n",
    "low = 0 #incluye el limite inferior\n",
    "high = 10 # no incluye el límite superior\n",
    "size = (3, 4)\n",
    "two_d_array = random_generator_seed.uniform(low, high, size)\n",
    "two_d_array"
   ]
  },
  {
   "cell_type": "code",
   "execution_count": 137,
   "metadata": {},
   "outputs": [
    {
     "data": {
      "text/plain": [
       "array([5.72236907, 4.55122963, 9.85719454])"
      ]
     },
     "execution_count": 137,
     "metadata": {},
     "output_type": "execute_result"
    }
   ],
   "source": [
    "# Los dos puntos ( : ) indican que accedemos a todos los elementos de cada fila \n",
    "# y el cero después de la coma indica que sólamente lo hacemos para la columna 0 (la primera).\n",
    "two_d_array[:, 0]"
   ]
  },
  {
   "cell_type": "code",
   "execution_count": 138,
   "metadata": {},
   "outputs": [
    {
     "data": {
      "text/plain": [
       "array([9.85719454, 3.97668117, 9.99108886, 7.26341883])"
      ]
     },
     "execution_count": 138,
     "metadata": {},
     "output_type": "execute_result"
    }
   ],
   "source": [
    "# Accedemos a la tercer fila\n",
    "two_d_array[2, :]"
   ]
  },
  {
   "cell_type": "code",
   "execution_count": 139,
   "metadata": {},
   "outputs": [
    {
     "data": {
      "text/plain": [
       "array([9.85719454, 3.97668117, 9.99108886, 7.26341883])"
      ]
     },
     "execution_count": 139,
     "metadata": {},
     "output_type": "execute_result"
    }
   ],
   "source": [
    "# Otra forma de acceder a la tercer fila\n",
    "two_d_array[2]"
   ]
  },
  {
   "cell_type": "code",
   "execution_count": 140,
   "metadata": {},
   "outputs": [
    {
     "data": {
      "text/plain": [
       "array([[1.73713951, 8.20917588],\n",
       "       [3.79630381, 7.54586005],\n",
       "       [3.97668117, 9.99108886]])"
      ]
     },
     "execution_count": 140,
     "metadata": {},
     "output_type": "execute_result"
    }
   ],
   "source": [
    "# Todas la filas, un slice de la segunda y tercer columna (índices 1 y 2)\n",
    "two_d_array[:, 1:3]"
   ]
  },
  {
   "cell_type": "code",
   "execution_count": 141,
   "metadata": {},
   "outputs": [
    {
     "data": {
      "text/plain": [
       "array([[5.06276421, 8.20917588, 1.73713951, 5.72236907],\n",
       "       [6.08599062, 7.54586005, 3.79630381, 4.55122963],\n",
       "       [7.26341883, 9.99108886, 3.97668117, 9.85719454]])"
      ]
     },
     "execution_count": 141,
     "metadata": {},
     "output_type": "execute_result"
    }
   ],
   "source": [
    "# todas las filas, todas las columnas listadas en orden inverso\n",
    "two_d_array[:, ::-1]"
   ]
  },
  {
   "cell_type": "markdown",
   "metadata": {
    "slideshow": {
     "slide_type": "slide"
    }
   },
   "source": [
    "\n",
    "<a id=\"section_indexing_fancy\"></a> \n",
    "#### Fancy Indexing\n",
    "[volver a TOC](#section_toc)\n",
    "\n",
    "Esta técnica consiste en generar listas que contienen los índices de los elementos que queremos seleccionar y utilizar estas listas para indexar.\n",
    "\n",
    "Veamos algunos ejemplos:"
   ]
  },
  {
   "cell_type": "code",
   "execution_count": 142,
   "metadata": {},
   "outputs": [
    {
     "data": {
      "text/plain": [
       "array([[5.72236907, 1.73713951, 8.20917588, 5.06276421],\n",
       "       [9.85719454, 3.97668117, 9.99108886, 7.26341883],\n",
       "       [4.55122963, 3.79630381, 7.54586005, 6.08599062],\n",
       "       [5.72236907, 1.73713951, 8.20917588, 5.06276421]])"
      ]
     },
     "execution_count": 142,
     "metadata": {},
     "output_type": "execute_result"
    }
   ],
   "source": [
    "# nos quedamos con todas las columnas y las filas 1, 3, 2 y repetimos la 1 (índices 0,2,1,0)\n",
    "lista_indices_filas = [0, 2, 1, 0]\n",
    "two_d_array[lista_indices_filas]"
   ]
  },
  {
   "cell_type": "code",
   "execution_count": 143,
   "metadata": {},
   "outputs": [
    {
     "data": {
      "text/plain": [
       "array([[8.20917588, 5.06276421, 1.73713951, 8.20917588],\n",
       "       [7.54586005, 6.08599062, 3.79630381, 7.54586005],\n",
       "       [9.99108886, 7.26341883, 3.97668117, 9.99108886]])"
      ]
     },
     "execution_count": 143,
     "metadata": {},
     "output_type": "execute_result"
    }
   ],
   "source": [
    "# nos quedamos con todas las filas y las columnas 3, 4, 2, y reptimos la 3 (índices 2,3,1,2)\n",
    "lista_indices_columnas = [2, 3, 1, 2]\n",
    "two_d_array[:, lista_indices_columnas]"
   ]
  },
  {
   "cell_type": "code",
   "execution_count": 144,
   "metadata": {},
   "outputs": [
    {
     "data": {
      "text/plain": [
       "array([8.20917588, 7.26341883, 3.79630381, 8.20917588])"
      ]
     },
     "execution_count": 144,
     "metadata": {},
     "output_type": "execute_result"
    }
   ],
   "source": [
    "# y ahora seleccionamos tanto filas como columnas, combinando los dos casos anteriores\n",
    "two_d_array[lista_indices_filas, lista_indices_columnas]"
   ]
  },
  {
   "cell_type": "markdown",
   "metadata": {},
   "source": [
    "Observemos que al pasar las dos listas, estamos seleccionando los elementos\n",
    "(0, 2), (2, 3), (1, 1) y (0,2)\n",
    "\n",
    "Se cumple que `indice_elem_i = (lista_indices_filas[i], lista_indices_columnas[i])`"
   ]
  },
  {
   "cell_type": "markdown",
   "metadata": {
    "slideshow": {
     "slide_type": "slide"
    }
   },
   "source": [
    "<a id=\"section_indexing_boolean\"></a> \n",
    "#### Boolean Indexing\n",
    "[volver a TOC](#section_toc)\n",
    "\n",
    "Esta técnica se basa en crear una \"máscara booleana\", que es una lista de valores True y False que sirve para seleccionar sólo los elementos cuyo índice coincide con un valor True.  \n",
    "\n",
    "Veamos algunos ejemplos sobre two_d_array:"
   ]
  },
  {
   "cell_type": "code",
   "execution_count": 145,
   "metadata": {},
   "outputs": [
    {
     "data": {
      "text/plain": [
       "array([[5.72236907, 1.73713951, 8.20917588, 5.06276421],\n",
       "       [4.55122963, 3.79630381, 7.54586005, 6.08599062],\n",
       "       [9.85719454, 3.97668117, 9.99108886, 7.26341883]])"
      ]
     },
     "execution_count": 145,
     "metadata": {},
     "output_type": "execute_result"
    }
   ],
   "source": [
    "two_d_array"
   ]
  },
  {
   "cell_type": "markdown",
   "metadata": {},
   "source": [
    "Vamos a seleccionar los elementos que sean mayores que 5. Para esos creamos uma máscara con esa condición:"
   ]
  },
  {
   "cell_type": "code",
   "execution_count": 146,
   "metadata": {},
   "outputs": [
    {
     "data": {
      "text/plain": [
       "array([[ True, False,  True,  True],\n",
       "       [False, False,  True,  True],\n",
       "       [ True, False,  True,  True]])"
      ]
     },
     "execution_count": 146,
     "metadata": {},
     "output_type": "execute_result"
    }
   ],
   "source": [
    "mask_great_5 = two_d_array > 5\n",
    "mask_great_5"
   ]
  },
  {
   "cell_type": "markdown",
   "metadata": {},
   "source": [
    "La máscara tiene valor True en aquellos elementos de two_d_array con valor mayor a 5, y False en los que tienen valor menor o igual que 5.\n",
    "\n",
    "Ahora usemos esa máscara para seleccionar los elementos que cumplen esa condición, o sea los que tienen valor True en la máscara:"
   ]
  },
  {
   "cell_type": "code",
   "execution_count": 147,
   "metadata": {},
   "outputs": [
    {
     "data": {
      "text/plain": [
       "array([5.72236907, 8.20917588, 5.06276421, 7.54586005, 6.08599062,\n",
       "       9.85719454, 9.99108886, 7.26341883])"
      ]
     },
     "execution_count": 147,
     "metadata": {},
     "output_type": "execute_result"
    }
   ],
   "source": [
    "two_d_array[mask_great_5]"
   ]
  },
  {
   "cell_type": "markdown",
   "metadata": {},
   "source": [
    "Definamos ahora una condición más compleja: vamos a seleccionar los elementos que sean mayores que 5 y menores que 8"
   ]
  },
  {
   "cell_type": "code",
   "execution_count": 148,
   "metadata": {},
   "outputs": [
    {
     "data": {
      "text/plain": [
       "array([[ True, False, False,  True],\n",
       "       [False, False,  True,  True],\n",
       "       [False, False, False,  True]])"
      ]
     },
     "execution_count": 148,
     "metadata": {},
     "output_type": "execute_result"
    }
   ],
   "source": [
    "mask_great_5_less_8 = (two_d_array > 5) & (two_d_array < 8)\n",
    "mask_great_5_less_8"
   ]
  },
  {
   "cell_type": "markdown",
   "metadata": {},
   "source": [
    "Ahora usemos esa máscara para seleccionar los elementos que cumplen esa condición, o sea los que tienen valor True en la máscara:"
   ]
  },
  {
   "cell_type": "code",
   "execution_count": 149,
   "metadata": {},
   "outputs": [
    {
     "data": {
      "text/plain": [
       "array([5.72236907, 5.06276421, 7.54586005, 6.08599062, 7.26341883])"
      ]
     },
     "execution_count": 149,
     "metadata": {},
     "output_type": "execute_result"
    }
   ],
   "source": [
    "two_d_array[mask_great_5_less_8]"
   ]
  },
  {
   "cell_type": "markdown",
   "metadata": {},
   "source": [
    "<div id=\"caja6\" style=\"float:left;width: 100%;\">\n",
    "  <div style=\"float:left;width: 15%;\"><img src=\"../../../common/icons/en_resumen.png\" style=\"align:left\"/> </div>\n",
    "  <div style=\"float:left;width: 85%;\"><label>Como podemos ver, la dificultad de la selección está en la definición de la máscara, que puede llegar a ser bastante compleja. Pero una vez que está calculada, el filtro es idéntico independientemente de la cantidad de condiciones que están involucradas en su definición, y la dimensión del array a filtar.</label></div>\n",
    "</div>"
   ]
  },
  {
   "cell_type": "markdown",
   "metadata": {},
   "source": [
    "<div id=\"caja10\" style=\"float:left;width: 100%;\">\n",
    "  <div style=\"float:left;width: 15%;\"><img src=\"../../../common/icons/ponete_a_prueba.png\" style=\"align:left\"/> </div>\n",
    "  <div style=\"float:left;width: 85%;\"><label>\n",
    "\n",
    "\n",
    "\n",
    "\n",
    "\n",
    "<b>Ejercicio 2</b>\n",
    "\n",
    "Tenemos un dataset que representa la cantidad de precipitaciones del 2014 en la ciudad de Seattle\n",
    "\n",
    "La cantidad de precipitaciones está en la **cuarta** columna, completa el código de una función que reciba el dataset y devuelva estos valores.\n",
    "    \n",
    "Queremos saber la cantidad de días:\n",
    "* sin lluvia: valor de precipitaciones es 0\n",
    "* con lluvia: valor de precipitaciones es distinto de 0\n",
    "* con más de 100 de lluvia: valor de precipitaciones es mayor a 100\n",
    "* con lluvia, pero no mayor a 100: valor de precipitaciones es distinto de 0 y menor o igual a 100 \n",
    "   \n",
    "</label></div>    \n",
    "</div>"
   ]
  },
  {
   "cell_type": "code",
   "execution_count": 150,
   "metadata": {},
   "outputs": [],
   "source": [
    "def precipitaciones(data):\n",
    "    # modificar aquí:\n",
    "    result = data[:,4]\n",
    "    return result\n",
    "\n",
    "def cant_dias_sin_lluvia(precip):\n",
    "    # cambiar aquí:\n",
    "    mask = precip == 0\n",
    "    result = precip[mask].sum()\n",
    "    return result\n",
    "\n",
    "def cant_dias_con_lluvia(precip):\n",
    "    # cambiar aquí:\n",
    "    mask = precip != 0\n",
    "    result = precip[mask].sum()\n",
    "    return result\n",
    "\n",
    "def cant_dias_con_lluvia_mayor_100(precip):\n",
    "    # cambiar aquí:\n",
    "    mask = precip >100\n",
    "    result = precip[mask].sum()\n",
    "    return result\n",
    "\n",
    "def cant_dias_con_lluvia_menorigual_100(precip):\n",
    "    # cambiar aquí:\n",
    "    mask = precip <=  100\n",
    "    result = precip[mask].sum()\n",
    "    return result\n",
    "\n",
    "import numpy as np\n",
    "import os.path\n",
    "\n",
    "data_location = os.path.abspath('../Data/Seattle2014.csv')\n",
    "data = np.genfromtxt(data_location, skip_header=1, delimiter=',')\n",
    "data\n",
    "\n",
    "valores_precipitaciones = precipitaciones(data)"
   ]
  },
  {
   "cell_type": "code",
   "execution_count": 151,
   "metadata": {},
   "outputs": [
    {
     "data": {
      "text/plain": [
       "'El tipo devuelto es incorrecto. El resultado debe ser un array ndimensional de Numpy (numpy.ndarray).'"
      ]
     },
     "execution_count": 151,
     "metadata": {},
     "output_type": "execute_result"
    }
   ],
   "source": [
    "test_1_numpy.test_precipitaciones(valores_precipitaciones)"
   ]
  },
  {
   "cell_type": "code",
   "execution_count": 152,
   "metadata": {},
   "outputs": [
    {
     "data": {
      "text/plain": [
       "'La respuesta es incorrecta, revisá cómo escribiste la máscara booleana'"
      ]
     },
     "execution_count": 152,
     "metadata": {},
     "output_type": "execute_result"
    }
   ],
   "source": [
    "sin_lluvia = cant_dias_sin_lluvia(valores_precipitaciones)\n",
    "test_1_numpy.test_cant_dias_sin_lluvia(sin_lluvia)"
   ]
  },
  {
   "cell_type": "code",
   "execution_count": 153,
   "metadata": {},
   "outputs": [
    {
     "data": {
      "text/plain": [
       "'La respuesta es incorrecta, revisá cómo escribiste la máscara booleana'"
      ]
     },
     "execution_count": 153,
     "metadata": {},
     "output_type": "execute_result"
    }
   ],
   "source": [
    "con_lluvia = cant_dias_con_lluvia(valores_precipitaciones)\n",
    "test_1_numpy.test_cant_dias_con_lluvia(con_lluvia)"
   ]
  },
  {
   "cell_type": "code",
   "execution_count": 154,
   "metadata": {},
   "outputs": [
    {
     "data": {
      "text/plain": [
       "'La respuesta es incorrecta, revisá cómo escribiste la máscara booleana'"
      ]
     },
     "execution_count": 154,
     "metadata": {},
     "output_type": "execute_result"
    }
   ],
   "source": [
    "con_lluvia_mayor_100 = cant_dias_con_lluvia_mayor_100(valores_precipitaciones)\n",
    "test_1_numpy.test_cant_dias_con_lluvia_mayor_100(con_lluvia_mayor_100)"
   ]
  },
  {
   "cell_type": "code",
   "execution_count": 155,
   "metadata": {},
   "outputs": [
    {
     "data": {
      "text/plain": [
       "'La respuesta es incorrecta, revisá cómo escribiste la máscara booleana'"
      ]
     },
     "execution_count": 155,
     "metadata": {},
     "output_type": "execute_result"
    }
   ],
   "source": [
    "con_lluvia_menorigual_100 = cant_dias_con_lluvia_menorigual_100(valores_precipitaciones)\n",
    "test_1_numpy.test_cant_dias_con_lluvia_menorigual_100(con_lluvia_menorigual_100)"
   ]
  },
  {
   "cell_type": "markdown",
   "metadata": {
    "toc-hr-collapsed": true
   },
   "source": [
    "___\n",
    "\n",
    "## Versiones"
   ]
  },
  {
   "cell_type": "code",
   "execution_count": 156,
   "metadata": {},
   "outputs": [
    {
     "data": {
      "text/plain": [
       "'1.19.2'"
      ]
     },
     "execution_count": 156,
     "metadata": {},
     "output_type": "execute_result"
    }
   ],
   "source": [
    "import numpy\n",
    "numpy.version.version"
   ]
  }
 ],
 "metadata": {
  "kernelspec": {
   "display_name": "Python 3",
   "language": "python",
   "name": "python3"
  },
  "language_info": {
   "codemirror_mode": {
    "name": "ipython",
    "version": 3
   },
   "file_extension": ".py",
   "mimetype": "text/x-python",
   "name": "python",
   "nbconvert_exporter": "python",
   "pygments_lexer": "ipython3",
   "version": "3.10.9"
  },
  "toc-autonumbering": false,
  "toc-showcode": true
 },
 "nbformat": 4,
 "nbformat_minor": 4
}
